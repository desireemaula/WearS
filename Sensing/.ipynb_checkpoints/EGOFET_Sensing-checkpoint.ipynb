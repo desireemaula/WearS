{
 "cells": [
  {
   "cell_type": "code",
   "execution_count": 4,
   "id": "064018f3-9e37-4f76-a17f-b4f00c1a46a4",
   "metadata": {},
   "outputs": [],
   "source": [
    "import sys\n",
    "sys.path.append('..') \n",
    "\n",
    "from keithleyAPI import Communications\n",
    "from tests_ import sensing_test_egofet,stability_test_egofet\n",
    "import utils"
   ]
  },
  {
   "cell_type": "code",
   "execution_count": 5,
   "id": "9476ee23-5a57-412d-a2d8-d8af30fef7aa",
   "metadata": {},
   "outputs": [],
   "source": [
    "import pandas as pd\n",
    "import numpy as np\n",
    "import matplotlib.pyplot as plt"
   ]
  },
  {
   "cell_type": "code",
   "execution_count": 2,
   "id": "b8107304-80c7-4c60-9810-4a1d3c3a456a",
   "metadata": {},
   "outputs": [],
   "source": [
    "smu = Communications(\"TCPIP0::169.254.181.21::1225::SOCKET\")\n",
    "smu.connect()\n",
    "smu._instrument_object.write_termination = \"\\0\"\n",
    "smu._instrument_object.read_termination = \"\\0\""
   ]
  },
  {
   "cell_type": "code",
   "execution_count": 3,
   "id": "5c9f821a-86dc-4c4c-8e7d-028dba6a5d30",
   "metadata": {},
   "outputs": [],
   "source": [
    "DUT = 'd030824-II' # device under test\n",
    "couple = 'r3c1'\n",
    "G = 'CH1'\n",
    "S = 'CH3'\n",
    "D = 'CH2'"
   ]
  },
  {
   "cell_type": "code",
   "execution_count": 4,
   "id": "d79d9457-9e70-4199-b23f-40f0096ead9e",
   "metadata": {},
   "outputs": [
    {
     "data": {
      "text/plain": [
       "'ACK'"
      ]
     },
     "execution_count": 4,
     "metadata": {},
     "output_type": "execute_result"
    }
   ],
   "source": [
    "smu.query(\"BC\") # clears all readings from buffer"
   ]
  },
  {
   "cell_type": "markdown",
   "id": "059bb17a-6866-4e77-90c0-f63a4df87020",
   "metadata": {},
   "source": [
    "# EGOFET Test"
   ]
  },
  {
   "cell_type": "markdown",
   "id": "9bd40de1-7953-4514-b058-d6df50579f6d",
   "metadata": {},
   "source": [
    "### To run a cell and go to the next one: Shift + enter\n",
    "#### Run the following cell until it prints out \"Device correctly stabilized\"\n",
    "Be sure to change the device under test on the last line"
   ]
  },
  {
   "cell_type": "code",
   "execution_count": 5,
   "id": "9b69f409-435d-4446-bb2b-9fa289bbe5b2",
   "metadata": {},
   "outputs": [],
   "source": [
    "diode_df = []\n",
    "mean_diff = []\n",
    "TOT = 'EGOFET_StabilityforIonSensing-Na' #type of test"
   ]
  },
  {
   "cell_type": "markdown",
   "id": "500a53f4-929a-4c8a-aca7-15da5d19956c",
   "metadata": {},
   "source": [
    "### Run Stability Check before sensing test"
   ]
  },
  {
   "cell_type": "code",
   "execution_count": 6,
   "id": "d93ac0d0-bc69-4cb3-b26a-d5d6c2a04309",
   "metadata": {},
   "outputs": [],
   "source": [
    "vds = '-5'\n",
    "compliance_vds = '0.1'\n",
    "vg_start = '1'\n",
    "vg_stop = '-1'\n",
    "vg_step = '-0.1'\n",
    "compliance_vg ='0.1'\n",
    "speed = '1'\n"
   ]
  },
  {
   "cell_type": "code",
   "execution_count": null,
   "id": "6210f917-e4ae-48c5-9ab7-946c16c1ba42",
   "metadata": {},
   "outputs": [],
   "source": [
    "diode_df, mean_diff = stability_test_egofet(G, S, D, smu,vgsids, mean_diff, couple, DUT, TOT, max_steps = 20, resting_time = 10, slope_point = None)"
   ]
  },
  {
   "cell_type": "markdown",
   "id": "3fcca9bf-0def-4bc4-a806-afdecf10a7b1",
   "metadata": {},
   "source": [
    "### Sensing"
   ]
  },
  {
   "cell_type": "markdown",
   "id": "df3e4dc4-a104-4404-b1a6-3316f587d823",
   "metadata": {},
   "source": [
    "### Run the following 2 cells ONLY ONCE"
   ]
  },
  {
   "cell_type": "code",
   "execution_count": null,
   "id": "9a8c5eef-7c87-482a-98ad-e9cb68b532c2",
   "metadata": {},
   "outputs": [],
   "source": [
    "meandiff = []\n",
    "stddiff = []\n",
    "diode_dict_list = {} # dictionary where to store the list with the 20 sweeps of all the concentrations\n",
    "diode_df_dict = {} # dictionary where to store the df with the 20 sweeps of all the concentrations\n",
    "mean_std = [] #list where to store the mean and std of the òast 5 values of the last Nvalidsteps\n",
    "\n",
    "baseline = 0"
   ]
  },
  {
   "cell_type": "code",
   "execution_count": null,
   "id": "b1cacca1-6433-42cf-b4ee-7a7c098a48c0",
   "metadata": {},
   "outputs": [],
   "source": [
    "k = 0 # 10pM\n",
    "# change conc accordingly to the specific sensing test you would like to  run\n",
    "conc = ['baseline','1pM','10pM','100pM','1nM','10nM','100nM','1uM']"
   ]
  },
  {
   "cell_type": "markdown",
   "id": "2e2255dc-1a15-4aec-ba1d-8e3cc0542508",
   "metadata": {},
   "source": [
    "### Run all the following cells until 'END' every time you change concentration"
   ]
  },
  {
   "cell_type": "code",
   "execution_count": null,
   "id": "2793850f-6ab1-41c4-9ff1-df45aecd0e73",
   "metadata": {
    "tags": []
   },
   "outputs": [],
   "source": [
    "TOT = '' #Type Of Test\n",
    "k, diode_df_dict, diode_dict_list, mean_std, calibrated_response, folder, baseline = sensing_test_egofet(G, S, D, smu,k, conc, egofet_df_list, egofet_dict_list, mean_std,DUT, TOT, couple, baseline, resting_time = 10, slope_point = None):"
   ]
  },
  {
   "cell_type": "code",
   "execution_count": null,
   "id": "71fdf18c-01fe-40ec-a5e6-6e48e70cb305",
   "metadata": {},
   "outputs": [],
   "source": [
    "# printing the mean and the std of the last 5 values of the 20 sweeps. Each [] represents a concentration\n",
    "\n",
    "# plotting change of MAx values in time for different concentrations\n",
    "TOT = ''\n",
    "utils.plot_max_values(calibrated_response,conc,couple,1,DUT,TOT, mode = 4, folder)"
   ]
  },
  {
   "cell_type": "code",
   "execution_count": null,
   "id": "162e3bc1-c241-4334-831d-551adfcf8c39",
   "metadata": {},
   "outputs": [],
   "source": [
    "# std and mean only for the diff"
   ]
  },
  {
   "cell_type": "code",
   "execution_count": null,
   "id": "4b7b9b0e-0c2d-44a2-b7d5-e09532e3533a",
   "metadata": {},
   "outputs": [],
   "source": [
    "plt.scatter(conc[:k], [i[0]*1000 for i in mean_std] )\n",
    "plt.errorbar(conc[:k], [i[0]*1000 for i in mean_std], yerr=[i[1]*1000 for i in mean_std], label='std')\n",
    "\n",
    "plt.xlabel('Concentration')\n",
    "plt.ylabel('DeltaV [mV]')\n",
    "plt.title('Mean and Std DeltaV dor different concentrations')\n",
    "plt.legend()\n",
    "plt.grid()\n",
    "plt.savefig(folder+\"\\mean_std\"+couple+\".png\",bbox_inches='tight', dpi = 1200) \n"
   ]
  },
  {
   "cell_type": "markdown",
   "id": "300cf327-0b45-430e-beb3-882681e6f43a",
   "metadata": {},
   "source": [
    "### end"
   ]
  },
  {
   "cell_type": "code",
   "execution_count": 9,
   "id": "72a648bd-bd2a-4719-850b-da77f0e333fc",
   "metadata": {},
   "outputs": [],
   "source": [
    "#calibrated_response.append(calibrated_response)\n",
    "data = pd.DataFrame()\n",
    "vgsids = []\n",
    "calibrated_response = []\n",
    "mean_std =  []\n",
    "Nvalidsteps = 3\n",
    "data['Vgs'] = np.arange(20)\n",
    "data['Ids'] = data['Vgs']**3\n",
    "for j in range(3):\n",
    "    for i in range(20):\n",
    "        vgsids.append(data)\n",
    "    calibrated_response.append(utils.calibrated_response_egofet(vgsids[j],slope_point = 1))\n",
    "    mean_std.append([np.mean(calibrated_response[-1][-Nvalidsteps:]),np.std(calibrated_response[-1][-Nvalidsteps:])])\n",
    "calibrated_response = [pd.Series(i) for i in calibrated_response]\n"
   ]
  },
  {
   "cell_type": "code",
   "execution_count": 8,
   "id": "e33a5b98-370d-47c5-a708-234e2708f69e",
   "metadata": {},
   "outputs": [
    {
     "name": "stderr",
     "output_type": "stream",
     "text": [
      "No artists with labels found to put in legend.  Note that artists whose label start with an underscore are ignored when legend() is called with no argument.\n"
     ]
    },
    {
     "data": {
      "image/png": "[encoded data removed]",
      "text/plain": [
       "<Figure size 1080x360 with 1 Axes>"
      ]
     },
     "metadata": {
      "needs_background": "light"
     },
     "output_type": "display_data"
    }
   ],
   "source": [
    "utils.plot_max_values(calibrated_response,['p'],'i',1,'','', mode = 4)"
   ]
  },
  {
   "cell_type": "code",
   "execution_count": null,
   "id": "41d3fe57-065f-446e-aef6-0564e8143c90",
   "metadata": {},
   "outputs": [],
   "source": []
  }
 ],
 "metadata": {
  "kernelspec": {
   "display_name": "Python 3 (ipykernel)",
   "language": "python",
   "name": "python3"
  },
  "language_info": {
   "codemirror_mode": {
    "name": "ipython",
    "version": 3
   },
   "file_extension": ".py",
   "mimetype": "text/x-python",
   "name": "python",
   "nbconvert_exporter": "python",
   "pygments_lexer": "ipython3",
   "version": "3.9.13"
  }
 },
 "nbformat": 4,
 "nbformat_minor": 5
}
