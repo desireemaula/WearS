{
 "cells": [
  {
   "cell_type": "code",
   "execution_count": 1,
   "id": "05a25cd7-0a8e-4281-9ccf-8bf34bc27e33",
   "metadata": {
    "tags": []
   },
   "outputs": [
    {
     "name": "stderr",
     "output_type": "stream",
     "text": [
      "C:\\Users\\desi\\anaconda3\\lib\\site-packages\\pandas\\core\\computation\\expressions.py:21: UserWarning: Pandas requires version '2.8.4' or newer of 'numexpr' (version '2.8.1' currently installed).\n",
      "  from pandas.core.computation.check import NUMEXPR_INSTALLED\n",
      "C:\\Users\\desi\\anaconda3\\lib\\site-packages\\pandas\\core\\arrays\\masked.py:60: UserWarning: Pandas requires version '1.3.6' or newer of 'bottleneck' (version '1.3.4' currently installed).\n",
      "  from pandas.core import (\n"
     ]
    }
   ],
   "source": [
    "import sys\n",
    "sys.path.append('..') \n",
    "\n",
    "from keithleyAPI import Communications\n",
    "from tests_ import sensing_test,stability_test\n",
    "import utils"
   ]
  },
  {
   "cell_type": "code",
   "execution_count": 3,
   "id": "b06a589c-9618-46fd-99a1-c8e9ba19279f",
   "metadata": {},
   "outputs": [
    {
     "ename": "NameError",
     "evalue": "name 'visa' is not defined",
     "output_type": "error",
     "traceback": [
      "\u001b[1;31m---------------------------------------------------------------------------\u001b[0m",
      "\u001b[1;31mVisaIOError\u001b[0m                               Traceback (most recent call last)",
      "File \u001b[1;32m~\\Desktop\\TesiStanford\\repo\\WearS\\Sensing\\..\\keithleyAPI.py:49\u001b[0m, in \u001b[0;36mCommunications.connect\u001b[1;34m(self, instrument_resource_string, timeout)\u001b[0m\n\u001b[0;32m     47\u001b[0m     \u001b[38;5;28mself\u001b[39m\u001b[38;5;241m.\u001b[39m_instrument_resource_string \u001b[38;5;241m=\u001b[39m instrument_resource_string\n\u001b[1;32m---> 49\u001b[0m \u001b[38;5;28mself\u001b[39m\u001b[38;5;241m.\u001b[39m_instrument_object \u001b[38;5;241m=\u001b[39m \u001b[38;5;28;43mself\u001b[39;49m\u001b[38;5;241;43m.\u001b[39;49m\u001b[43m_resource_manager\u001b[49m\u001b[38;5;241;43m.\u001b[39;49m\u001b[43mopen_resource\u001b[49m\u001b[43m(\u001b[49m\n\u001b[0;32m     50\u001b[0m \u001b[43m    \u001b[49m\u001b[38;5;28;43mself\u001b[39;49m\u001b[38;5;241;43m.\u001b[39;49m\u001b[43m_instrument_resource_string\u001b[49m\n\u001b[0;32m     51\u001b[0m \u001b[43m\u001b[49m\u001b[43m)\u001b[49m\n\u001b[0;32m     53\u001b[0m \u001b[38;5;28;01mif\u001b[39;00m timeout \u001b[38;5;129;01mis\u001b[39;00m \u001b[38;5;28;01mNone\u001b[39;00m:\n",
      "File \u001b[1;32m~\\anaconda3\\envs\\ada\\lib\\site-packages\\pyvisa\\highlevel.py:3291\u001b[0m, in \u001b[0;36mResourceManager.open_resource\u001b[1;34m(self, resource_name, access_mode, open_timeout, resource_pyclass, **kwargs)\u001b[0m\n\u001b[0;32m   3286\u001b[0m         \u001b[38;5;28;01mraise\u001b[39;00m \u001b[38;5;167;01mValueError\u001b[39;00m(\n\u001b[0;32m   3287\u001b[0m             \u001b[38;5;124m\"\u001b[39m\u001b[38;5;132;01m%r\u001b[39;00m\u001b[38;5;124m is not a valid attribute for type \u001b[39m\u001b[38;5;132;01m%s\u001b[39;00m\u001b[38;5;124m\"\u001b[39m\n\u001b[0;32m   3288\u001b[0m             \u001b[38;5;241m%\u001b[39m (key, res\u001b[38;5;241m.\u001b[39m\u001b[38;5;18m__class__\u001b[39m\u001b[38;5;241m.\u001b[39m\u001b[38;5;18m__name__\u001b[39m)\n\u001b[0;32m   3289\u001b[0m         )\n\u001b[1;32m-> 3291\u001b[0m \u001b[43mres\u001b[49m\u001b[38;5;241;43m.\u001b[39;49m\u001b[43mopen\u001b[49m\u001b[43m(\u001b[49m\u001b[43maccess_mode\u001b[49m\u001b[43m,\u001b[49m\u001b[43m \u001b[49m\u001b[43mopen_timeout\u001b[49m\u001b[43m)\u001b[49m\n\u001b[0;32m   3293\u001b[0m \u001b[38;5;28;01mfor\u001b[39;00m key, value \u001b[38;5;129;01min\u001b[39;00m kwargs\u001b[38;5;241m.\u001b[39mitems():\n",
      "File \u001b[1;32m~\\anaconda3\\envs\\ada\\lib\\site-packages\\pyvisa\\resources\\resource.py:281\u001b[0m, in \u001b[0;36mResource.open\u001b[1;34m(self, access_mode, open_timeout)\u001b[0m\n\u001b[0;32m    278\u001b[0m \u001b[38;5;28;01mwith\u001b[39;00m \u001b[38;5;28mself\u001b[39m\u001b[38;5;241m.\u001b[39m_resource_manager\u001b[38;5;241m.\u001b[39mignore_warning(\n\u001b[0;32m    279\u001b[0m     constants\u001b[38;5;241m.\u001b[39mStatusCode\u001b[38;5;241m.\u001b[39msuccess_device_not_present\n\u001b[0;32m    280\u001b[0m ):\n\u001b[1;32m--> 281\u001b[0m     \u001b[38;5;28mself\u001b[39m\u001b[38;5;241m.\u001b[39msession, status \u001b[38;5;241m=\u001b[39m \u001b[38;5;28;43mself\u001b[39;49m\u001b[38;5;241;43m.\u001b[39;49m\u001b[43m_resource_manager\u001b[49m\u001b[38;5;241;43m.\u001b[39;49m\u001b[43mopen_bare_resource\u001b[49m\u001b[43m(\u001b[49m\n\u001b[0;32m    282\u001b[0m \u001b[43m        \u001b[49m\u001b[38;5;28;43mself\u001b[39;49m\u001b[38;5;241;43m.\u001b[39;49m\u001b[43m_resource_name\u001b[49m\u001b[43m,\u001b[49m\u001b[43m \u001b[49m\u001b[43maccess_mode\u001b[49m\u001b[43m,\u001b[49m\u001b[43m \u001b[49m\u001b[43mopen_timeout\u001b[49m\n\u001b[0;32m    283\u001b[0m \u001b[43m    \u001b[49m\u001b[43m)\u001b[49m\n\u001b[0;32m    285\u001b[0m     \u001b[38;5;28;01mif\u001b[39;00m status \u001b[38;5;241m==\u001b[39m constants\u001b[38;5;241m.\u001b[39mStatusCode\u001b[38;5;241m.\u001b[39msuccess_device_not_present:\n\u001b[0;32m    286\u001b[0m         \u001b[38;5;66;03m# The device was not ready when we opened the session.\u001b[39;00m\n\u001b[0;32m    287\u001b[0m         \u001b[38;5;66;03m# Now it gets five seconds more to become ready.\u001b[39;00m\n\u001b[0;32m    288\u001b[0m         \u001b[38;5;66;03m# Every 0.1 seconds we probe it with viClear.\u001b[39;00m\n",
      "File \u001b[1;32m~\\anaconda3\\envs\\ada\\lib\\site-packages\\pyvisa\\highlevel.py:3216\u001b[0m, in \u001b[0;36mResourceManager.open_bare_resource\u001b[1;34m(self, resource_name, access_mode, open_timeout)\u001b[0m\n\u001b[0;32m   3193\u001b[0m \u001b[38;5;124;03m\"\"\"Open the specified resource without wrapping into a class.\u001b[39;00m\n\u001b[0;32m   3194\u001b[0m \n\u001b[0;32m   3195\u001b[0m \u001b[38;5;124;03mParameters\u001b[39;00m\n\u001b[1;32m   (...)\u001b[0m\n\u001b[0;32m   3214\u001b[0m \n\u001b[0;32m   3215\u001b[0m \u001b[38;5;124;03m\"\"\"\u001b[39;00m\n\u001b[1;32m-> 3216\u001b[0m \u001b[38;5;28;01mreturn\u001b[39;00m \u001b[38;5;28;43mself\u001b[39;49m\u001b[38;5;241;43m.\u001b[39;49m\u001b[43mvisalib\u001b[49m\u001b[38;5;241;43m.\u001b[39;49m\u001b[43mopen\u001b[49m\u001b[43m(\u001b[49m\u001b[38;5;28;43mself\u001b[39;49m\u001b[38;5;241;43m.\u001b[39;49m\u001b[43msession\u001b[49m\u001b[43m,\u001b[49m\u001b[43m \u001b[49m\u001b[43mresource_name\u001b[49m\u001b[43m,\u001b[49m\u001b[43m \u001b[49m\u001b[43maccess_mode\u001b[49m\u001b[43m,\u001b[49m\u001b[43m \u001b[49m\u001b[43mopen_timeout\u001b[49m\u001b[43m)\u001b[49m\n",
      "File \u001b[1;32m~\\anaconda3\\envs\\ada\\lib\\site-packages\\pyvisa\\ctwrapper\\functions.py:1850\u001b[0m, in \u001b[0;36mopen\u001b[1;34m(library, session, resource_name, access_mode, open_timeout)\u001b[0m\n\u001b[0;32m   1848\u001b[0m \u001b[38;5;66;03m# [ViSession, ViRsrc, ViAccessMode, ViUInt32, ViPSession]\u001b[39;00m\n\u001b[0;32m   1849\u001b[0m \u001b[38;5;66;03m# ViRsrc converts from (str, unicode, bytes) to bytes\u001b[39;00m\n\u001b[1;32m-> 1850\u001b[0m ret \u001b[38;5;241m=\u001b[39m \u001b[43mlibrary\u001b[49m\u001b[38;5;241;43m.\u001b[39;49m\u001b[43mviOpen\u001b[49m\u001b[43m(\u001b[49m\n\u001b[0;32m   1851\u001b[0m \u001b[43m    \u001b[49m\u001b[43msession\u001b[49m\u001b[43m,\u001b[49m\u001b[43m \u001b[49m\u001b[43mresource_name\u001b[49m\u001b[43m,\u001b[49m\u001b[43m \u001b[49m\u001b[43maccess_mode\u001b[49m\u001b[43m,\u001b[49m\u001b[43m \u001b[49m\u001b[43mopen_timeout\u001b[49m\u001b[43m,\u001b[49m\u001b[43m \u001b[49m\u001b[43mbyref\u001b[49m\u001b[43m(\u001b[49m\u001b[43mout_session\u001b[49m\u001b[43m)\u001b[49m\n\u001b[0;32m   1852\u001b[0m \u001b[43m\u001b[49m\u001b[43m)\u001b[49m\n\u001b[0;32m   1853\u001b[0m \u001b[38;5;28;01mreturn\u001b[39;00m out_session\u001b[38;5;241m.\u001b[39mvalue, ret\n",
      "File \u001b[1;32m~\\anaconda3\\envs\\ada\\lib\\site-packages\\pyvisa\\ctwrapper\\highlevel.py:226\u001b[0m, in \u001b[0;36mIVIVisaLibrary._return_handler\u001b[1;34m(self, ret_value, func, arguments)\u001b[0m\n\u001b[0;32m    224\u001b[0m         session \u001b[38;5;241m=\u001b[39m \u001b[38;5;28;01mNone\u001b[39;00m\n\u001b[1;32m--> 226\u001b[0m \u001b[38;5;28;01mreturn\u001b[39;00m \u001b[38;5;28;43mself\u001b[39;49m\u001b[38;5;241;43m.\u001b[39;49m\u001b[43mhandle_return_value\u001b[49m\u001b[43m(\u001b[49m\u001b[43msession\u001b[49m\u001b[43m,\u001b[49m\u001b[43m \u001b[49m\u001b[43mret_value\u001b[49m\u001b[43m)\u001b[49m\n",
      "File \u001b[1;32m~\\anaconda3\\envs\\ada\\lib\\site-packages\\pyvisa\\highlevel.py:251\u001b[0m, in \u001b[0;36mVisaLibraryBase.handle_return_value\u001b[1;34m(self, session, status_code)\u001b[0m\n\u001b[0;32m    250\u001b[0m \u001b[38;5;28;01mif\u001b[39;00m rv \u001b[38;5;241m<\u001b[39m \u001b[38;5;241m0\u001b[39m:\n\u001b[1;32m--> 251\u001b[0m     \u001b[38;5;28;01mraise\u001b[39;00m errors\u001b[38;5;241m.\u001b[39mVisaIOError(rv)\n\u001b[0;32m    253\u001b[0m \u001b[38;5;28;01mif\u001b[39;00m rv \u001b[38;5;129;01min\u001b[39;00m \u001b[38;5;28mself\u001b[39m\u001b[38;5;241m.\u001b[39missue_warning_on:\n",
      "\u001b[1;31mVisaIOError\u001b[0m: VI_ERROR_RSRC_NFOUND (-1073807343): Insufficient location information or the requested device or resource is not present in the system.",
      "\nDuring handling of the above exception, another exception occurred:\n",
      "\u001b[1;31mNameError\u001b[0m                                 Traceback (most recent call last)",
      "Input \u001b[1;32mIn [3]\u001b[0m, in \u001b[0;36m<cell line: 10>\u001b[1;34m()\u001b[0m\n\u001b[0;32m      7\u001b[0m \u001b[38;5;28;01mimport\u001b[39;00m \u001b[38;5;21;01mnumpy\u001b[39;00m \u001b[38;5;28;01mas\u001b[39;00m \u001b[38;5;21;01mnp\u001b[39;00m\n\u001b[0;32m      9\u001b[0m smu \u001b[38;5;241m=\u001b[39m Communications(\u001b[38;5;124m\"\u001b[39m\u001b[38;5;124mTCPIP0::169.254.181.21::1225::SOCKET\u001b[39m\u001b[38;5;124m\"\u001b[39m)\n\u001b[1;32m---> 10\u001b[0m \u001b[43msmu\u001b[49m\u001b[38;5;241;43m.\u001b[39;49m\u001b[43mconnect\u001b[49m\u001b[43m(\u001b[49m\u001b[43m)\u001b[49m\n\u001b[0;32m     11\u001b[0m smu\u001b[38;5;241m.\u001b[39m_instrument_object\u001b[38;5;241m.\u001b[39mwrite_termination \u001b[38;5;241m=\u001b[39m \u001b[38;5;124m\"\u001b[39m\u001b[38;5;130;01m\\0\u001b[39;00m\u001b[38;5;124m\"\u001b[39m\n\u001b[0;32m     12\u001b[0m smu\u001b[38;5;241m.\u001b[39m_instrument_object\u001b[38;5;241m.\u001b[39mread_termination \u001b[38;5;241m=\u001b[39m \u001b[38;5;124m\"\u001b[39m\u001b[38;5;130;01m\\0\u001b[39;00m\u001b[38;5;124m\"\u001b[39m\n",
      "File \u001b[1;32m~\\Desktop\\TesiStanford\\repo\\WearS\\Sensing\\..\\keithleyAPI.py:66\u001b[0m, in \u001b[0;36mCommunications.connect\u001b[1;34m(self, instrument_resource_string, timeout)\u001b[0m\n\u001b[0;32m     63\u001b[0m         \u001b[38;5;28mself\u001b[39m\u001b[38;5;241m.\u001b[39m_instrument_object\u001b[38;5;241m.\u001b[39mread_termination \u001b[38;5;241m=\u001b[39m \u001b[38;5;124m\"\u001b[39m\u001b[38;5;130;01m\\n\u001b[39;00m\u001b[38;5;124m\"\u001b[39m\n\u001b[0;32m     64\u001b[0m         \u001b[38;5;28mself\u001b[39m\u001b[38;5;241m.\u001b[39m_instrument_object\u001b[38;5;241m.\u001b[39msend_end \u001b[38;5;241m=\u001b[39m \u001b[38;5;28;01mTrue\u001b[39;00m\n\u001b[1;32m---> 66\u001b[0m \u001b[38;5;28;01mexcept\u001b[39;00m \u001b[43mvisa\u001b[49m\u001b[38;5;241m.\u001b[39mVisaIOError \u001b[38;5;28;01mas\u001b[39;00m visaerr:\n\u001b[0;32m     67\u001b[0m     \u001b[38;5;28mprint\u001b[39m(\u001b[38;5;124mf\u001b[39m\u001b[38;5;124m\"\u001b[39m\u001b[38;5;132;01m{\u001b[39;00mvisaerr\u001b[38;5;132;01m}\u001b[39;00m\u001b[38;5;124m\"\u001b[39m)\n\u001b[0;32m     68\u001b[0m \u001b[38;5;28;01mreturn\u001b[39;00m\n",
      "\u001b[1;31mNameError\u001b[0m: name 'visa' is not defined"
     ]
    }
   ],
   "source": [
    "import plotly.express as px \n",
    "import pandas as pd\n",
    "import seaborn as sns\n",
    "import time\n",
    "import matplotlib.pyplot as plt\n",
    "import os\n",
    "import numpy as np\n",
    "\n",
    "smu = Communications(\"TCPIP0::169.254.181.21::1225::SOCKET\")\n",
    "smu.connect()\n",
    "smu._instrument_object.write_termination = \"\\0\"\n",
    "smu._instrument_object.read_termination = \"\\0\""
   ]
  },
  {
   "cell_type": "code",
   "execution_count": null,
   "id": "8bbbb00a-22ca-4a3e-ba29-158ead6c7d3a",
   "metadata": {},
   "outputs": [],
   "source": [
    "DUT = 'd030824-III' # device under test\n",
    "couple = 'r1c3'\n",
    "VDL = 'CH3'\n",
    "VDR = 'CH1'\n",
    "CMN = 'CH2'"
   ]
  },
  {
   "cell_type": "code",
   "execution_count": 6,
   "id": "d79d9457-9e70-4199-b23f-40f0096ead9e",
   "metadata": {},
   "outputs": [
    {
     "data": {
      "text/plain": [
       "'ACK'"
      ]
     },
     "execution_count": 6,
     "metadata": {},
     "output_type": "execute_result"
    }
   ],
   "source": [
    "smu.query(\"BC\") # clears all readings from buffer"
   ]
  },
  {
   "cell_type": "markdown",
   "id": "ab8755e2",
   "metadata": {},
   "source": [
    "# Diode connection Test"
   ]
  },
  {
   "cell_type": "markdown",
   "id": "474325bf-af3e-4f9a-a2f9-7a36a0e19af5",
   "metadata": {},
   "source": [
    "### To run a cell and go to the next one: Shift + enter\n",
    "#### Run the following cell until it prints out \"Device correctly stabilized\"\n",
    "Be sure to change the device under test on the last line"
   ]
  },
  {
   "cell_type": "code",
   "execution_count": 7,
   "id": "9b69f409-435d-4446-bb2b-9fa289bbe5b2",
   "metadata": {},
   "outputs": [],
   "source": [
    "diode_df = []\n",
    "mean_diff = []\n",
    "TOT = 'DiodeConnected_StabilityforAptamerSensing-CT-10s' #type of test"
   ]
  },
  {
   "cell_type": "markdown",
   "id": "d609a0a0-f2ac-4229-ba33-df894087e571",
   "metadata": {},
   "source": [
    "### Run Stability Check before sensing test"
   ]
  },
  {
   "cell_type": "code",
   "execution_count": 8,
   "id": "d6253bdd",
   "metadata": {},
   "outputs": [
    {
     "name": "stdout",
     "output_type": "stream",
     "text": [
      "Sweep #: 1\n",
      "|VDL-VDR|:  0.02226\n",
      "mean diff of diff L-R: nan\n",
      "std diff of diff L-R: nan\n"
     ]
    },
    {
     "name": "stderr",
     "output_type": "stream",
     "text": [
      "C:\\Users\\desi\\anaconda3\\lib\\site-packages\\numpy\\core\\fromnumeric.py:3504: RuntimeWarning: Mean of empty slice.\n",
      "  return _methods._mean(a, axis=axis, dtype=dtype,\n",
      "C:\\Users\\desi\\anaconda3\\lib\\site-packages\\numpy\\core\\_methods.py:129: RuntimeWarning: invalid value encountered in scalar divide\n",
      "  ret = ret.dtype.type(ret / rcount)\n",
      "C:\\Users\\desi\\anaconda3\\lib\\site-packages\\numpy\\core\\_methods.py:206: RuntimeWarning: Degrees of freedom <= 0 for slice\n",
      "  ret = _var(a, axis=axis, dtype=dtype, out=out, ddof=ddof,\n",
      "C:\\Users\\desi\\anaconda3\\lib\\site-packages\\numpy\\core\\_methods.py:163: RuntimeWarning: invalid value encountered in divide\n",
      "  arrmean = um.true_divide(arrmean, div, out=arrmean,\n",
      "C:\\Users\\desi\\anaconda3\\lib\\site-packages\\numpy\\core\\_methods.py:198: RuntimeWarning: invalid value encountered in scalar divide\n",
      "  ret = ret.dtype.type(ret / rcount)\n"
     ]
    },
    {
     "name": "stdout",
     "output_type": "stream",
     "text": [
      "Sweep #: 2\n",
      "|VDL-VDR|:  0.02883\n",
      "mean diff of diff L-R: 0.00657\n",
      "std diff of diff L-R: 0.0\n",
      "Sweep #: 3\n",
      "|VDL-VDR|:  0.02911\n",
      "mean diff of diff L-R: 0.00343\n",
      "std diff of diff L-R: 0.00315\n",
      "Sweep #: 4\n",
      "|VDL-VDR|:  0.03451\n",
      "mean diff of diff L-R: 0.00408\n",
      "std diff of diff L-R: 0.00273\n",
      "Sweep #: 5\n"
     ]
    },
    {
     "data": {
      "image/png": "[encoded data removed]",
      "text/plain": [
       "<Figure size 1080x360 with 1 Axes>"
      ]
     },
     "metadata": {
      "needs_background": "light"
     },
     "output_type": "display_data"
    },
    {
     "data": {
      "image/png": "[encoded data removed]",
      "text/plain": [
       "<Figure size 1080x360 with 1 Axes>"
      ]
     },
     "metadata": {
      "needs_background": "light"
     },
     "output_type": "display_data"
    },
    {
     "name": "stdout",
     "output_type": "stream",
     "text": [
      "|VDL-VDR|:  0.01604\n",
      "mean diff of diff L-R: 0.00768\n",
      "std diff of diff L-R: 0.00666\n",
      "Sweep #: 6\n",
      "|VDL-VDR|:  0.02289\n",
      "mean diff of diff L-R: 0.00751\n",
      "std diff of diff L-R: 0.00597\n",
      "Sweep #: 7\n",
      "|VDL-VDR|:  0.01603\n",
      "mean diff of diff L-R: 0.00741\n",
      "std diff of diff L-R: 0.00545\n",
      "Sweep #: 8\n",
      "|VDL-VDR|:  0.022\n",
      "mean diff of diff L-R: 0.0072\n",
      "std diff of diff L-R: 0.00507\n",
      "std of the diff for last 8 0.00607\n",
      "Sweep #: 9\n",
      "|VDL-VDR|:  0.02123\n",
      "mean diff of diff L-R: 0.0064\n",
      "std diff of diff L-R: 0.0052\n",
      "std of the diff for last 8 0.00612\n",
      "Sweep #: 10\n"
     ]
    },
    {
     "data": {
      "image/png": "[encoded data removed]",
      "text/plain": [
       "<Figure size 1080x360 with 1 Axes>"
      ]
     },
     "metadata": {
      "needs_background": "light"
     },
     "output_type": "display_data"
    },
    {
     "data": {
      "image/png": "[encoded data removed]",
      "text/plain": [
       "<Figure size 1080x360 with 1 Axes>"
      ]
     },
     "metadata": {
      "needs_background": "light"
     },
     "output_type": "display_data"
    },
    {
     "name": "stdout",
     "output_type": "stream",
     "text": [
      "|VDL-VDR|:  0.01232\n",
      "mean diff of diff L-R: 0.00668\n",
      "std diff of diff L-R: 0.00497\n",
      "std of the diff for last 8 0.00683\n",
      "Sweep #: 11\n",
      "|VDL-VDR|:  0.01309\n",
      "mean diff of diff L-R: 0.00609\n",
      "std diff of diff L-R: 0.00503\n",
      "std of the diff for last 8 0.00673\n",
      "Sweep #: 12\n",
      "|VDL-VDR|:  0.02803\n",
      "mean diff of diff L-R: 0.00689\n",
      "std diff of diff L-R: 0.00543\n",
      "std of the diff for last 8 0.0051\n",
      "Sweep #: 13\n",
      "|VDL-VDR|:  0.02779\n",
      "mean diff of diff L-R: 0.00637\n",
      "std diff of diff L-R: 0.00548\n",
      "std of the diff for last 8 0.0057\n",
      "Sweep #: 14\n",
      "|VDL-VDR|:  0.01965\n",
      "mean diff of diff L-R: 0.0065\n",
      "std diff of diff L-R: 0.00529\n",
      "std of the diff for last 8 0.00563\n",
      "Sweep #: 15\n"
     ]
    },
    {
     "data": {
      "image/png": "[encoded data removed]",
      "text/plain": [
       "<Figure size 1080x360 with 1 Axes>"
      ]
     },
     "metadata": {
      "needs_background": "light"
     },
     "output_type": "display_data"
    },
    {
     "data": {
      "image/png": "[encoded data removed]",
      "text/plain": [
       "<Figure size 1080x360 with 1 Axes>"
      ]
     },
     "metadata": {
      "needs_background": "light"
     },
     "output_type": "display_data"
    },
    {
     "name": "stdout",
     "output_type": "stream",
     "text": [
      "|VDL-VDR|:  0.02482\n",
      "mean diff of diff L-R: 0.00641\n",
      "std diff of diff L-R: 0.00511\n",
      "std of the diff for last 8 0.0056\n",
      "Sweep #: 16\n"
     ]
    },
    {
     "ename": "KeyboardInterrupt",
     "evalue": "",
     "output_type": "error",
     "traceback": [
      "\u001b[1;31m---------------------------------------------------------------------------\u001b[0m",
      "\u001b[1;31mKeyboardInterrupt\u001b[0m                         Traceback (most recent call last)",
      "Input \u001b[1;32mIn [8]\u001b[0m, in \u001b[0;36m<cell line: 1>\u001b[1;34m()\u001b[0m\n\u001b[1;32m----> 1\u001b[0m diode_df, mean_diff \u001b[38;5;241m=\u001b[39m \u001b[43mstability_test\u001b[49m\u001b[43m(\u001b[49m\u001b[38;5;124;43m'\u001b[39;49m\u001b[38;5;124;43mCH1\u001b[39;49m\u001b[38;5;124;43m'\u001b[39;49m\u001b[43m,\u001b[49m\u001b[43m \u001b[49m\u001b[38;5;124;43m'\u001b[39;49m\u001b[38;5;124;43mCH3\u001b[39;49m\u001b[38;5;124;43m'\u001b[39;49m\u001b[43m,\u001b[49m\u001b[43m \u001b[49m\u001b[38;5;124;43m'\u001b[39;49m\u001b[38;5;124;43mCH2\u001b[39;49m\u001b[38;5;124;43m'\u001b[39;49m\u001b[43m,\u001b[49m\u001b[43m \u001b[49m\u001b[43msmu\u001b[49m\u001b[43m,\u001b[49m\u001b[43mdiode_df\u001b[49m\u001b[43m,\u001b[49m\u001b[43mmean_diff\u001b[49m\u001b[43m,\u001b[49m\u001b[38;5;124;43m'\u001b[39;49m\u001b[38;5;124;43msensing\u001b[39;49m\u001b[38;5;124;43m'\u001b[39;49m\u001b[43m,\u001b[49m\u001b[43mcouple\u001b[49m\u001b[43m,\u001b[49m\u001b[43mDUT\u001b[49m\u001b[43m,\u001b[49m\u001b[43mTOT\u001b[49m\u001b[43m,\u001b[49m\u001b[43mmax_steps\u001b[49m\u001b[43m \u001b[49m\u001b[38;5;241;43m=\u001b[39;49m\u001b[43m \u001b[49m\u001b[38;5;241;43m30\u001b[39;49m\u001b[43m)\u001b[49m\n",
      "File \u001b[1;32m~\\Desktop\\TesiStanford\\repo\\WearS\\Sensing\\..\\tests_.py:124\u001b[0m, in \u001b[0;36mstability_test\u001b[1;34m(L, R, C, smu, diode_df, mean_diff, mode, couple, DUT, TOT, max_steps)\u001b[0m\n\u001b[0;32m    121\u001b[0m     utils\u001b[38;5;241m.\u001b[39mplot_max_values(diode_df, [\u001b[38;5;124m'\u001b[39m\u001b[38;5;124mbaseline\u001b[39m\u001b[38;5;124m'\u001b[39m], couple, step, DUT, TOT, mode\u001b[38;5;241m=\u001b[39m\u001b[38;5;241m3\u001b[39m)\n\u001b[0;32m    123\u001b[0m \u001b[38;5;66;03m# Perform diode connection and calculate mean differences\u001b[39;00m\n\u001b[1;32m--> 124\u001b[0m diode_df\u001b[38;5;241m.\u001b[39mappend(\u001b[43msmu\u001b[49m\u001b[38;5;241;43m.\u001b[39;49m\u001b[43mdiode_connection\u001b[49m\u001b[43m(\u001b[49m\u001b[43mL\u001b[49m\u001b[43m,\u001b[49m\u001b[43m \u001b[49m\u001b[43mR\u001b[49m\u001b[43m,\u001b[49m\u001b[43m \u001b[49m\u001b[43mC\u001b[49m\u001b[43m,\u001b[49m\u001b[43m \u001b[49m\u001b[38;5;124;43m'\u001b[39;49m\u001b[38;5;124;43m0\u001b[39;49m\u001b[38;5;124;43m'\u001b[39;49m\u001b[43m,\u001b[49m\u001b[43m \u001b[49m\u001b[43mcurrent_stop\u001b[49m\u001b[43m,\u001b[49m\u001b[43m \u001b[49m\u001b[38;5;124;43m'\u001b[39;49m\u001b[38;5;124;43m5E-09\u001b[39;49m\u001b[38;5;124;43m'\u001b[39;49m\u001b[43m)\u001b[49m)\n\u001b[0;32m    125\u001b[0m diff \u001b[38;5;241m=\u001b[39m \u001b[38;5;28mabs\u001b[39m((diode_df[step\u001b[38;5;241m-\u001b[39m\u001b[38;5;241m2\u001b[39m][\u001b[38;5;124m'\u001b[39m\u001b[38;5;124mVDL\u001b[39m\u001b[38;5;124m'\u001b[39m]\u001b[38;5;241m.\u001b[39miloc[\u001b[38;5;241m-\u001b[39m\u001b[38;5;241m10\u001b[39m:] \u001b[38;5;241m-\u001b[39m diode_df[step\u001b[38;5;241m-\u001b[39m\u001b[38;5;241m2\u001b[39m][\u001b[38;5;124m'\u001b[39m\u001b[38;5;124mVDR\u001b[39m\u001b[38;5;124m'\u001b[39m]\u001b[38;5;241m.\u001b[39miloc[\u001b[38;5;241m-\u001b[39m\u001b[38;5;241m10\u001b[39m:]) \u001b[38;5;241m-\u001b[39m \n\u001b[0;32m    126\u001b[0m            (diode_df[step\u001b[38;5;241m-\u001b[39m\u001b[38;5;241m1\u001b[39m][\u001b[38;5;124m'\u001b[39m\u001b[38;5;124mVDL\u001b[39m\u001b[38;5;124m'\u001b[39m]\u001b[38;5;241m.\u001b[39miloc[\u001b[38;5;241m-\u001b[39m\u001b[38;5;241m10\u001b[39m:] \u001b[38;5;241m-\u001b[39m diode_df[step\u001b[38;5;241m-\u001b[39m\u001b[38;5;241m1\u001b[39m][\u001b[38;5;124m'\u001b[39m\u001b[38;5;124mVDR\u001b[39m\u001b[38;5;124m'\u001b[39m]\u001b[38;5;241m.\u001b[39miloc[\u001b[38;5;241m-\u001b[39m\u001b[38;5;241m10\u001b[39m:]))\u001b[38;5;241m.\u001b[39mmean() \u001b[38;5;66;03m#mean (|VDL-VDR|_step(i)-|VDL-VDR|_step(i-1)) of the last 10 values\u001b[39;00m\n\u001b[0;32m    127\u001b[0m VDL_VDR \u001b[38;5;241m=\u001b[39m \u001b[38;5;28mabs\u001b[39m((diode_df[step\u001b[38;5;241m-\u001b[39m\u001b[38;5;241m1\u001b[39m][\u001b[38;5;124m'\u001b[39m\u001b[38;5;124mVDL\u001b[39m\u001b[38;5;124m'\u001b[39m]\u001b[38;5;241m.\u001b[39miloc[\u001b[38;5;241m-\u001b[39m\u001b[38;5;241m10\u001b[39m:] \u001b[38;5;241m-\u001b[39m diode_df[step\u001b[38;5;241m-\u001b[39m\u001b[38;5;241m1\u001b[39m][\u001b[38;5;124m'\u001b[39m\u001b[38;5;124mVDR\u001b[39m\u001b[38;5;124m'\u001b[39m]\u001b[38;5;241m.\u001b[39miloc[\u001b[38;5;241m-\u001b[39m\u001b[38;5;241m10\u001b[39m:]))\u001b[38;5;241m.\u001b[39mmean()  \u001b[38;5;66;03m#mean |VDL-VDR| of the last 10 values\u001b[39;00m\n",
      "File \u001b[1;32m~\\Desktop\\TesiStanford\\repo\\WearS\\Sensing\\..\\keithleyAPI.py:330\u001b[0m, in \u001b[0;36mCommunications.diode_connection\u001b[1;34m(self, Left, Right, Common, current_start, current_stop, step)\u001b[0m\n\u001b[0;32m    328\u001b[0m     status \u001b[38;5;241m=\u001b[39m \u001b[38;5;28mself\u001b[39m\u001b[38;5;241m.\u001b[39m_instrument_object\u001b[38;5;241m.\u001b[39mquery(\u001b[38;5;124m\"\u001b[39m\u001b[38;5;124mSP\u001b[39m\u001b[38;5;124m\"\u001b[39m)\n\u001b[0;32m    329\u001b[0m     \u001b[38;5;66;03m#print(status)\u001b[39;00m\n\u001b[1;32m--> 330\u001b[0m     \u001b[43mtime\u001b[49m\u001b[38;5;241;43m.\u001b[39;49m\u001b[43msleep\u001b[49m\u001b[43m(\u001b[49m\u001b[38;5;241;43m1\u001b[39;49m\u001b[43m)\u001b[49m\n\u001b[0;32m    332\u001b[0m dataVDL \u001b[38;5;241m=\u001b[39m \u001b[38;5;28mself\u001b[39m\u001b[38;5;241m.\u001b[39m_instrument_object\u001b[38;5;241m.\u001b[39mquery(\u001b[38;5;124m\"\u001b[39m\u001b[38;5;124mDO \u001b[39m\u001b[38;5;124m'\u001b[39m\u001b[38;5;124mVDL\u001b[39m\u001b[38;5;124m'\u001b[39m\u001b[38;5;124m\"\u001b[39m)\n\u001b[0;32m    333\u001b[0m dataVDR \u001b[38;5;241m=\u001b[39m \u001b[38;5;28mself\u001b[39m\u001b[38;5;241m.\u001b[39m_instrument_object\u001b[38;5;241m.\u001b[39mquery(\u001b[38;5;124m\"\u001b[39m\u001b[38;5;124mDO \u001b[39m\u001b[38;5;124m'\u001b[39m\u001b[38;5;124mVDR\u001b[39m\u001b[38;5;124m'\u001b[39m\u001b[38;5;124m\"\u001b[39m)\n",
      "\u001b[1;31mKeyboardInterrupt\u001b[0m: "
     ]
    }
   ],
   "source": [
    " diode_df, mean_diff = stability_test('CH1', 'CH3', 'CH2', smu,diode_df,mean_diff,'sensing',couple,DUT,TOT,max_steps = 30)"
   ]
  },
  {
   "cell_type": "code",
   "execution_count": 8,
   "id": "9154021a-7ed6-4854-a0a4-bf92723ed5e7",
   "metadata": {},
   "outputs": [
    {
     "name": "stdout",
     "output_type": "stream",
     "text": [
      "The directory doesn't exist\n",
      "C:\\Users\\Desi\\Desktop\\TesiStanford\\repo\\WearS\\Sensing\\03182024-d030824-IIIr1c1-DiodeConnected_StabilityforAptamerSensing-CT-10s\n"
     ]
    },
    {
     "data": {
      "text/plain": [
       "'03182024-d030824-IIIr1c1-DiodeConnected_StabilityforAptamerSensing-CT-10s'"
      ]
     },
     "execution_count": 8,
     "metadata": {},
     "output_type": "execute_result"
    }
   ],
   "source": [
    "utils.save_xls(diode_df, DUT+couple,TOT,additional_comment= '10s', mode = 2)"
   ]
  },
  {
   "cell_type": "markdown",
   "id": "f1b50dcb-c37e-4bd9-8c2a-59f932d382f0",
   "metadata": {},
   "source": [
    "#### Run the following cell to plot the max values in time for the last sweeps"
   ]
  },
  {
   "cell_type": "code",
   "execution_count": null,
   "id": "35e8fa2e-ecbf-4dd0-a26b-aba605ae662d",
   "metadata": {},
   "outputs": [],
   "source": [
    "utils.plot_max_values(diode_df,['baseline'],couple,1,DUT,TOT,3,r'C:\\Users\\Desi\\Desktop\\TesiStanford\\images-results')"
   ]
  },
  {
   "cell_type": "markdown",
   "id": "e9386c73-2f11-44f6-96db-ea3753c8a875",
   "metadata": {},
   "source": [
    "#### Plot Diode Connection"
   ]
  },
  {
   "cell_type": "code",
   "execution_count": null,
   "id": "ca5a692e-f0da-4012-96b7-08fc206e0ef1",
   "metadata": {},
   "outputs": [],
   "source": [
    "# plot DiodeConnection\n",
    "fig, ax1 = plt.subplots(figsize=(8, 8))\n",
    "ax2 = ax1.twinx()\n",
    "\n",
    "ax1.plot(diode_df[-1]['IDL'], diode_df[-1]['VDL'], color = 'blue', label = 'VDL')\n",
    "ax1.set_ylabel('VdLeft [V]')\n",
    "ax2.plot(diode_df[-1]['IDL'], diode_df[-1]['VDR'], color = 'red', label = 'VDR')\n",
    "ax2.set_ylabel('VdRight [V]')\n",
    "plt.grid()\n",
    "ax1.set_xlabel('Id [A]')\n",
    "plt.title('Diode Connected - Single Sweep')\n",
    "ax1.legend()\n",
    "ax2.legend(loc = 1)\n"
   ]
  },
  {
   "cell_type": "markdown",
   "id": "fa1e4376-bda7-4ba6-9ff2-dc3f21ed0a9c",
   "metadata": {},
   "source": [
    "# Sensing Test"
   ]
  },
  {
   "cell_type": "markdown",
   "id": "617594aa-9080-417e-a08c-c974464a8088",
   "metadata": {},
   "source": [
    "### Run the following two cells only one time!"
   ]
  },
  {
   "cell_type": "code",
   "execution_count": 9,
   "id": "9979bb4b-cc29-4aa0-ae17-c896bfdb423c",
   "metadata": {},
   "outputs": [],
   "source": [
    "meandiff = []\n",
    "stddiff = []\n",
    "diode_dict_list = {} # dictionary where to store the list with the 20 sweeps of all the concentrations\n",
    "diode_df_dict = {} # dictionary where to store the df with the 20 sweeps of all the concentrations\n",
    "mean_std = [] #list where to store the mean and std of the òast 5 values of the last Nvalidsteps\n",
    "mean_std_L = []\n",
    "mean_std_R = []\n",
    "baseline = 0"
   ]
  },
  {
   "cell_type": "code",
   "execution_count": 10,
   "id": "24bc0d80-0d42-40c0-aeee-582f7f7d5ce9",
   "metadata": {},
   "outputs": [],
   "source": [
    "k = 0 # 10pM\n",
    "conc = ['baseline','1pM','10pM','100pM','1nM','10nM','100nM','1uM']\n",
    "#conc = ['1mM','2mM','4mM','8mM','16mM','32mM']"
   ]
  },
  {
   "cell_type": "code",
   "execution_count": 7,
   "id": "5a8a6d02-5290-4940-9169-8034cc51c72b",
   "metadata": {},
   "outputs": [],
   "source": [
    "#conc = ['baseline','10mM','20mM','40mM','80mM','160mM','16mMK','32mMK']\n",
    "#conc = ['1mM','2mM','4mM','8mM','10mMNa','16mM','20mMNa','32mM']\n",
    "#conc = ['baseline','1pM_CT','1pM_S','10pM_CT','10pM_S','100pM_CT','100pM_S','1nM_CT','1nM_S','10nM_CT','10nM_S','100nM_CT','100nM_S','1uM_CT','1uM_S']\n",
    "conc = ['baseline','1pM','10pM','100pM','1nM','10nM','100nM','1uM','1nM-MT','100nm_MT']"
   ]
  },
  {
   "cell_type": "markdown",
   "id": "44ebb42e-4930-445c-b34f-aa6c8d6be1c9",
   "metadata": {},
   "source": [
    "### Run all the following cells until 'END' every time you change concentration"
   ]
  },
  {
   "cell_type": "code",
   "execution_count": null,
   "id": "c138037f-ece4-4510-bd57-a026f588473f",
   "metadata": {},
   "outputs": [],
   "source": [
    "#baseline = 200 010324"
   ]
  },
  {
   "cell_type": "code",
   "execution_count": 37,
   "id": "ee82b438-7334-4702-8f9f-a8b0f07be15b",
   "metadata": {
    "tags": []
   },
   "outputs": [
    {
     "name": "stdout",
     "output_type": "stream",
     "text": [
      "Run #: 1\n",
      "Run #: 2\n",
      "Run #: 3\n",
      "Run #: 4\n",
      "Run #: 5\n"
     ]
    },
    {
     "ename": "KeyboardInterrupt",
     "evalue": "",
     "output_type": "error",
     "traceback": [
      "\u001b[1;31m---------------------------------------------------------------------------\u001b[0m",
      "\u001b[1;31mKeyboardInterrupt\u001b[0m                         Traceback (most recent call last)",
      "Input \u001b[1;32mIn [37]\u001b[0m, in \u001b[0;36m<cell line: 2>\u001b[1;34m()\u001b[0m\n\u001b[0;32m      1\u001b[0m TOT \u001b[38;5;241m=\u001b[39m \u001b[38;5;124m'\u001b[39m\u001b[38;5;124mDiodeConnected_SensingTest-CT\u001b[39m\u001b[38;5;124m'\u001b[39m \u001b[38;5;66;03m#Type Of Test\u001b[39;00m\n\u001b[1;32m----> 2\u001b[0m k, diode_df_dict, diode_dict_list, mean_std, mean_std_L, mean_std_R, folder, baseline \u001b[38;5;241m=\u001b[39m \u001b[43msensing_test\u001b[49m\u001b[43m(\u001b[49m\u001b[38;5;124;43m'\u001b[39;49m\u001b[38;5;124;43mCH1\u001b[39;49m\u001b[38;5;124;43m'\u001b[39;49m\u001b[43m,\u001b[49m\u001b[43m \u001b[49m\u001b[38;5;124;43m'\u001b[39;49m\u001b[38;5;124;43mCH3\u001b[39;49m\u001b[38;5;124;43m'\u001b[39;49m\u001b[43m,\u001b[49m\u001b[43m \u001b[49m\u001b[38;5;124;43m'\u001b[39;49m\u001b[38;5;124;43mCH2\u001b[39;49m\u001b[38;5;124;43m'\u001b[39;49m\u001b[43m,\u001b[49m\u001b[43m \u001b[49m\u001b[43msmu\u001b[49m\u001b[43m,\u001b[49m\u001b[43mk\u001b[49m\u001b[43m,\u001b[49m\u001b[43m \u001b[49m\u001b[43mconc\u001b[49m\u001b[43m,\u001b[49m\u001b[43m \u001b[49m\u001b[43mdiode_df_dict\u001b[49m\u001b[43m,\u001b[49m\u001b[43m \u001b[49m\u001b[43mdiode_dict_list\u001b[49m\u001b[43m,\u001b[49m\u001b[43m \u001b[49m\u001b[43mmean_std\u001b[49m\u001b[43m,\u001b[49m\u001b[43m \u001b[49m\u001b[43mmean_std_L\u001b[49m\u001b[43m,\u001b[49m\u001b[43m \u001b[49m\u001b[43mmean_std_R\u001b[49m\u001b[43m,\u001b[49m\u001b[43mDUT\u001b[49m\u001b[43m,\u001b[49m\u001b[43m \u001b[49m\u001b[43mTOT\u001b[49m\u001b[43m,\u001b[49m\u001b[43m \u001b[49m\u001b[43mcouple\u001b[49m\u001b[43m,\u001b[49m\u001b[43m \u001b[49m\u001b[43mbaseline\u001b[49m\u001b[43m)\u001b[49m\n",
      "File \u001b[1;32m~\\Desktop\\TesiStanford\\repo\\WearS\\Sensing\\..\\tests_.py:54\u001b[0m, in \u001b[0;36msensing_test\u001b[1;34m(L, R, C, smu, k, conc, diode_df_dict, diode_dict_list, mean_std, mean_std_L, mean_std_R, DUT, TOT, couple, baseline)\u001b[0m\n\u001b[0;32m     52\u001b[0m     \u001b[38;5;28mprint\u001b[39m(\u001b[38;5;124m'\u001b[39m\u001b[38;5;124mRun #:\u001b[39m\u001b[38;5;124m'\u001b[39m,i\u001b[38;5;241m+\u001b[39m\u001b[38;5;241m1\u001b[39m)\n\u001b[0;32m     53\u001b[0m     diode_df_list\u001b[38;5;241m.\u001b[39mappend(smu\u001b[38;5;241m.\u001b[39mdiode_connection(L, R, C, \u001b[38;5;124m'\u001b[39m\u001b[38;5;124m0\u001b[39m\u001b[38;5;124m'\u001b[39m, \u001b[38;5;124m'\u001b[39m\u001b[38;5;124m300E-09\u001b[39m\u001b[38;5;124m'\u001b[39m, \u001b[38;5;124m'\u001b[39m\u001b[38;5;124m5E-09\u001b[39m\u001b[38;5;124m'\u001b[39m))\n\u001b[1;32m---> 54\u001b[0m     \u001b[43mtime\u001b[49m\u001b[38;5;241;43m.\u001b[39;49m\u001b[43msleep\u001b[49m\u001b[43m(\u001b[49m\u001b[38;5;241;43m10\u001b[39;49m\u001b[43m)\u001b[49m \u001b[38;5;66;03m# Wait for 10 seconds before the next run\u001b[39;00m\n\u001b[0;32m     56\u001b[0m data_save \u001b[38;5;241m=\u001b[39m pd\u001b[38;5;241m.\u001b[39mconcat(diode_df_list)  \u001b[38;5;66;03m# saving the 20 sweeps in one df\u001b[39;00m\n\u001b[0;32m     57\u001b[0m data_save[\u001b[38;5;124m'\u001b[39m\u001b[38;5;124mDIFFV\u001b[39m\u001b[38;5;124m'\u001b[39m] \u001b[38;5;241m=\u001b[39m \u001b[38;5;28mabs\u001b[39m(data_save[\u001b[38;5;124m'\u001b[39m\u001b[38;5;124mVDL\u001b[39m\u001b[38;5;124m'\u001b[39m]\u001b[38;5;241m-\u001b[39m data_save[\u001b[38;5;124m'\u001b[39m\u001b[38;5;124mVDR\u001b[39m\u001b[38;5;124m'\u001b[39m]) \u001b[38;5;66;03m# Calculate the difference between 'VDL' and 'VDR' and add it as a new column\u001b[39;00m\n",
      "\u001b[1;31mKeyboardInterrupt\u001b[0m: "
     ]
    }
   ],
   "source": [
    "TOT = 'DiodeConnected_SensingTest-CT' #Type Of Test\n",
    "k, diode_df_dict, diode_dict_list, mean_std, mean_std_L, mean_std_R, folder, baseline = sensing_test('CH1', 'CH3', 'CH2', smu,k, conc, diode_df_dict, diode_dict_list, mean_std, mean_std_L, mean_std_R,DUT, TOT, couple, baseline)"
   ]
  },
  {
   "cell_type": "code",
   "execution_count": 31,
   "id": "3898ff49-f894-4325-854c-ad9dc23ac99d",
   "metadata": {},
   "outputs": [
    {
     "data": {
      "image/png": "[encoded data removed]",
      "text/plain": [
       "<Figure size 1080x360 with 1 Axes>"
      ]
     },
     "metadata": {
      "needs_background": "light"
     },
     "output_type": "display_data"
    },
    {
     "data": {
      "image/png": "[encoded data removed]",
      "text/plain": [
       "<Figure size 1080x360 with 1 Axes>"
      ]
     },
     "metadata": {
      "needs_background": "light"
     },
     "output_type": "display_data"
    },
    {
     "data": {
      "image/png": "[encoded data removed]",
      "text/plain": [
       "<Figure size 841.68x594.72 with 1 Axes>"
      ]
     },
     "metadata": {
      "needs_background": "light"
     },
     "output_type": "display_data"
    }
   ],
   "source": [
    "# printing the mean and the std of the last 5 values of the 20 sweeps. Each [] represents a concentration\n",
    "\n",
    "# plotting change of MAx values in time for different concentrations\n",
    "TOT = 'changeMaxDiffvaluesintime'\n",
    "utils.plot_max_values(diode_df_dict,conc,couple,1,DUT,TOT, mode = 1)\n",
    "\n",
    "# plotting change of Mx values in time for different concentrations for left and right electrodes\n",
    "TOT = 'changeMaxDiffvaluesintime-LR'\n",
    "utils.plot_max_values(diode_df_dict,conc,couple,1,DUT,TOT, mode = 2)\n",
    "\n",
    "# plotting mean and std of the diff for different concentrations\n",
    "utils.plot_mean_std(len(mean_std), mean_std_L,mean_std_R, mean_std, conc, couple, folder)"
   ]
  },
  {
   "cell_type": "code",
   "execution_count": 32,
   "id": "1f12ed0b-316b-473d-acc6-55b3479835e0",
   "metadata": {},
   "outputs": [
    {
     "data": {
      "text/plain": [
       "[[2.217533333333334, 0.010075889814579908],\n",
       " [2.2158266666666666, 0.006358801424447346],\n",
       " [2.21819, 0.00857506268198653],\n",
       " [2.2224533333333336, 0.005446731945753325]]"
      ]
     },
     "execution_count": 32,
     "metadata": {},
     "output_type": "execute_result"
    }
   ],
   "source": [
    "mean_std_L"
   ]
  },
  {
   "cell_type": "markdown",
   "id": "5a43ea28-b4b0-41a8-8ee5-c288e6c620d0",
   "metadata": {},
   "source": [
    "#### Interactive plot"
   ]
  },
  {
   "cell_type": "code",
   "execution_count": 33,
   "id": "f4e3fa94-1e87-4c91-910f-81667fe026ba",
   "metadata": {
    "tags": []
   },
   "outputs": [
    {
     "data": {
      "application/vnd.plotly.v1+json": {
       "config": {
        "plotlyServerURL": "https://plot.ly"
       },
       "data": [
        {
         "hovertemplate": "x=%{x}<br>VDL=%{y}<extra></extra>",
         "legendgroup": "",
         "marker": {
          "color": "#636efa",
          "symbol": "circle"
         },
         "mode": "markers",
         "name": "VDL",
         "orientation": "v",
         "showlegend": true,
         "type": "scatter",
         "x": [
          0,
          1,
          2,
          3,
          4,
          5,
          6,
          7,
          8,
          9,
          10,
          11,
          12,
          13,
          14,
          15,
          16,
          17,
          18,
          19,
          20,
          21,
          22,
          23,
          24,
          25,
          26,
          27,
          28,
          29,
          30,
          31,
          32,
          33,
          34,
          35,
          36,
          37,
          38,
          39,
          40,
          41,
          42,
          43,
          44,
          45,
          46,
          47,
          48,
          49,
          50,
          51,
          52,
          53,
          54,
          55,
          56,
          57,
          58,
          59,
          60,
          61,
          62,
          63,
          64,
          65,
          66,
          67,
          68,
          69,
          70,
          71,
          72,
          73,
          74,
          75,
          76,
          77,
          78,
          79
         ],
         "xaxis": "x",
         "y": [
          0,
          0.0007999999999999119,
          0.007400000000000073,
          0.0024000000000001798,
          0.007000000000000117,
          0.0043000000000001926,
          0.0030999999999998806,
          0.0032000000000000917,
          0.005900000000000016,
          0.0030999999999998806,
          0.0026999999999999247,
          0.0011999999999998678,
          0.0028999999999999027,
          0.006600000000000161,
          0.005700000000000038,
          0.000300000000000189,
          0.007600000000000051,
          0.02519999999999989,
          0.022600000000000176,
          0.026899999999999924,
          0.015699999999999825,
          0.020999999999999908,
          0.026899999999999924,
          0.020000000000000018,
          0.01429999999999998,
          0.01200000000000001,
          0.007200000000000095,
          0.0030999999999998806,
          0.01429999999999998,
          0.006099999999999994,
          0.0032999999999998586,
          0.004999999999999893,
          0.0026000000000001577,
          0.0030000000000001137,
          0.0034000000000000696,
          0.013500000000000068,
          0.0123000000000002,
          0.0230999999999999,
          0.007299999999999862,
          0.01880000000000015,
          0.00749999999999984,
          0.02629999999999999,
          0.021300000000000097,
          0.03909999999999991,
          0.03410000000000002,
          0.022499999999999964,
          0.027499999999999858,
          0.01949999999999985,
          0.020000000000000018,
          0.029799999999999827,
          0.015000000000000124,
          0.011099999999999888,
          0.0230999999999999,
          0.008999999999999897,
          0.007700000000000262,
          0.005399999999999849,
          0.015800000000000036,
          0.03180000000000005,
          0.01880000000000015,
          0.012700000000000156,
          0.009800000000000253,
          0.02519999999999989,
          0.00890000000000013,
          0.0037000000000002586,
          0.005599999999999827,
          0.008999999999999897,
          0.00010000000000021103,
          -0.0009999999999998899,
          -0.0030999999999998806,
          -0.0026000000000001577,
          0.013599999999999834,
          0.00550000000000006,
          0.02400000000000002,
          0.004100000000000215,
          0.016000000000000014,
          0.020700000000000163,
          0.02959999999999985,
          0.020300000000000207,
          0.021199999999999886,
          0.011099999999999888
         ],
         "yaxis": "y"
        },
        {
         "mode": "markers",
         "name": "VDR",
         "type": "scatter",
         "x": [
          0,
          1,
          2,
          3,
          4,
          5,
          6,
          7,
          8,
          9,
          10,
          11,
          12,
          13,
          14,
          15,
          16,
          17,
          18,
          19,
          20,
          21,
          22,
          23,
          24,
          25,
          26,
          27,
          28,
          29,
          30,
          31,
          32,
          33,
          34,
          35,
          36,
          37,
          38,
          39,
          40,
          41,
          42,
          43,
          44,
          45,
          46,
          47,
          48,
          49,
          50,
          51,
          52,
          53,
          54,
          55,
          56,
          57,
          58,
          59,
          60,
          61,
          62,
          63,
          64,
          65,
          66,
          67,
          68,
          69,
          70,
          71,
          72,
          73,
          74,
          75,
          76,
          77,
          78,
          79
         ],
         "y": [
          0,
          -9.999999999976694e-05,
          0.019200000000000106,
          0.0029000000000003467,
          0.02110000000000012,
          0.009800000000000253,
          0.0045000000000001705,
          0.010400000000000187,
          0.01429999999999998,
          0.010000000000000231,
          0.0033000000000003027,
          0.0024999999999999467,
          0.014800000000000146,
          0.0235000000000003,
          0.01639999999999997,
          0.009400000000000297,
          0.024599999999999955,
          0.04510000000000014,
          0.04260000000000019,
          0.046800000000000175,
          0.028900000000000148,
          0.02629999999999999,
          0.0394000000000001,
          0.03570000000000029,
          0.018299999999999983,
          0.02839999999999998,
          0.016900000000000137,
          0.01200000000000001,
          0.029200000000000337,
          0.01869999999999994,
          0.01650000000000018,
          0.02540000000000031,
          0.017200000000000326,
          0.015500000000000291,
          0.014100000000000001,
          0.0253000000000001,
          0.024799999999999933,
          0.04320000000000013,
          0.02300000000000013,
          0.0365000000000002,
          0.024799999999999933,
          0.04830000000000023,
          0.03100000000000014,
          0.06320000000000014,
          0.05520000000000014,
          0.03440000000000021,
          0.04269999999999996,
          0.029200000000000337,
          0.03780000000000028,
          0.051300000000000345,
          0.020700000000000163,
          0.026900000000000368,
          0.04190000000000005,
          0.015900000000000247,
          0.010600000000000165,
          0.008100000000000218,
          0.025800000000000267,
          0.054400000000000226,
          0.04280000000000017,
          0.03510000000000035,
          0.029100000000000126,
          0.04870000000000019,
          0.026100000000000012,
          0.01639999999999997,
          0.027500000000000302,
          0.0383,
          0.021600000000000286,
          0.011800000000000033,
          0.0043000000000001926,
          0.014100000000000001,
          0.03410000000000002,
          0.013600000000000279,
          0.048799999999999955,
          0.02059999999999995,
          0.034900000000000375,
          0.042300000000000004,
          0.05590000000000028,
          0.03910000000000036,
          0.04820000000000002,
          0.03400000000000025
         ]
        },
        {
         "mode": "markers",
         "name": "diff",
         "type": "scatter",
         "x": [
          0,
          1,
          2,
          3,
          4,
          5,
          6,
          7,
          8,
          9,
          10,
          11,
          12,
          13,
          14,
          15,
          16,
          17,
          18,
          19,
          20,
          21,
          22,
          23,
          24,
          25,
          26,
          27,
          28,
          29,
          30,
          31,
          32,
          33,
          34,
          35,
          36,
          37,
          38,
          39,
          40,
          41,
          42,
          43,
          44,
          45,
          46,
          47,
          48,
          49,
          50,
          51,
          52,
          53,
          54,
          55,
          56,
          57,
          58,
          59,
          60,
          61,
          62,
          63,
          64,
          65,
          66,
          67,
          68,
          69,
          70,
          71,
          72,
          73,
          74,
          75,
          76,
          77,
          78,
          79
         ],
         "y": [
          0,
          0.0008999999999996788,
          -0.011800000000000033,
          -0.000500000000000167,
          -0.014100000000000001,
          -0.00550000000000006,
          -0.00140000000000029,
          -0.007200000000000095,
          -0.008399999999999963,
          -0.00690000000000035,
          -0.000600000000000378,
          -0.0013000000000000789,
          -0.011900000000000244,
          -0.016900000000000137,
          -0.010699999999999932,
          -0.009100000000000108,
          -0.016999999999999904,
          -0.01990000000000025,
          -0.020000000000000018,
          -0.01990000000000025,
          -0.013200000000000323,
          -0.005300000000000082,
          -0.012500000000000178,
          -0.01570000000000027,
          -0.0040000000000000036,
          -0.01639999999999997,
          -0.009700000000000042,
          -0.00890000000000013,
          -0.014900000000000357,
          -0.012599999999999945,
          -0.013200000000000323,
          -0.020400000000000418,
          -0.014600000000000168,
          -0.012500000000000178,
          -0.010699999999999932,
          -0.011800000000000033,
          -0.012499999999999734,
          -0.02010000000000023,
          -0.01570000000000027,
          -0.01770000000000005,
          -0.017300000000000093,
          -0.02200000000000024,
          -0.009700000000000042,
          -0.024100000000000232,
          -0.02110000000000012,
          -0.011900000000000244,
          -0.015200000000000102,
          -0.009700000000000486,
          -0.01780000000000026,
          -0.02150000000000052,
          -0.005700000000000038,
          -0.01580000000000048,
          -0.01880000000000015,
          -0.00690000000000035,
          -0.0028999999999999027,
          -0.0027000000000003688,
          -0.010000000000000231,
          -0.022600000000000176,
          -0.02400000000000002,
          -0.022400000000000198,
          -0.019299999999999873,
          -0.0235000000000003,
          -0.017199999999999882,
          -0.012699999999999712,
          -0.021900000000000475,
          -0.029300000000000104,
          -0.021500000000000075,
          -0.012799999999999923,
          -0.007400000000000073,
          -0.01670000000000016,
          -0.020500000000000185,
          -0.008100000000000218,
          -0.024799999999999933,
          -0.016499999999999737,
          -0.01890000000000036,
          -0.02159999999999984,
          -0.026300000000000434,
          -0.01880000000000015,
          -0.027000000000000135,
          -0.022900000000000365
         ]
        }
       ],
       "layout": {
        "autosize": true,
        "legend": {
         "tracegroupgap": 0
        },
        "margin": {
         "t": 60
        },
        "template": {
         "data": {
          "bar": [
           {
            "error_x": {
             "color": "#2a3f5f"
            },
            "error_y": {
             "color": "#2a3f5f"
            },
            "marker": {
             "line": {
              "color": "#E5ECF6",
              "width": 0.5
             },
             "pattern": {
              "fillmode": "overlay",
              "size": 10,
              "solidity": 0.2
             }
            },
            "type": "bar"
           }
          ],
          "barpolar": [
           {
            "marker": {
             "line": {
              "color": "#E5ECF6",
              "width": 0.5
             },
             "pattern": {
              "fillmode": "overlay",
              "size": 10,
              "solidity": 0.2
             }
            },
            "type": "barpolar"
           }
          ],
          "carpet": [
           {
            "aaxis": {
             "endlinecolor": "#2a3f5f",
             "gridcolor": "white",
             "linecolor": "white",
             "minorgridcolor": "white",
             "startlinecolor": "#2a3f5f"
            },
            "baxis": {
             "endlinecolor": "#2a3f5f",
             "gridcolor": "white",
             "linecolor": "white",
             "minorgridcolor": "white",
             "startlinecolor": "#2a3f5f"
            },
            "type": "carpet"
           }
          ],
          "choropleth": [
           {
            "colorbar": {
             "outlinewidth": 0,
             "ticks": ""
            },
            "type": "choropleth"
           }
          ],
          "contour": [
           {
            "colorbar": {
             "outlinewidth": 0,
             "ticks": ""
            },
            "colorscale": [
             [
              0,
              "#0d0887"
             ],
             [
              0.1111111111111111,
              "#46039f"
             ],
             [
              0.2222222222222222,
              "#7201a8"
             ],
             [
              0.3333333333333333,
              "#9c179e"
             ],
             [
              0.4444444444444444,
              "#bd3786"
             ],
             [
              0.5555555555555556,
              "#d8576b"
             ],
             [
              0.6666666666666666,
              "#ed7953"
             ],
             [
              0.7777777777777778,
              "#fb9f3a"
             ],
             [
              0.8888888888888888,
              "#fdca26"
             ],
             [
              1,
              "#f0f921"
             ]
            ],
            "type": "contour"
           }
          ],
          "contourcarpet": [
           {
            "colorbar": {
             "outlinewidth": 0,
             "ticks": ""
            },
            "type": "contourcarpet"
           }
          ],
          "heatmap": [
           {
            "colorbar": {
             "outlinewidth": 0,
             "ticks": ""
            },
            "colorscale": [
             [
              0,
              "#0d0887"
             ],
             [
              0.1111111111111111,
              "#46039f"
             ],
             [
              0.2222222222222222,
              "#7201a8"
             ],
             [
              0.3333333333333333,
              "#9c179e"
             ],
             [
              0.4444444444444444,
              "#bd3786"
             ],
             [
              0.5555555555555556,
              "#d8576b"
             ],
             [
              0.6666666666666666,
              "#ed7953"
             ],
             [
              0.7777777777777778,
              "#fb9f3a"
             ],
             [
              0.8888888888888888,
              "#fdca26"
             ],
             [
              1,
              "#f0f921"
             ]
            ],
            "type": "heatmap"
           }
          ],
          "heatmapgl": [
           {
            "colorbar": {
             "outlinewidth": 0,
             "ticks": ""
            },
            "colorscale": [
             [
              0,
              "#0d0887"
             ],
             [
              0.1111111111111111,
              "#46039f"
             ],
             [
              0.2222222222222222,
              "#7201a8"
             ],
             [
              0.3333333333333333,
              "#9c179e"
             ],
             [
              0.4444444444444444,
              "#bd3786"
             ],
             [
              0.5555555555555556,
              "#d8576b"
             ],
             [
              0.6666666666666666,
              "#ed7953"
             ],
             [
              0.7777777777777778,
              "#fb9f3a"
             ],
             [
              0.8888888888888888,
              "#fdca26"
             ],
             [
              1,
              "#f0f921"
             ]
            ],
            "type": "heatmapgl"
           }
          ],
          "histogram": [
           {
            "marker": {
             "pattern": {
              "fillmode": "overlay",
              "size": 10,
              "solidity": 0.2
             }
            },
            "type": "histogram"
           }
          ],
          "histogram2d": [
           {
            "colorbar": {
             "outlinewidth": 0,
             "ticks": ""
            },
            "colorscale": [
             [
              0,
              "#0d0887"
             ],
             [
              0.1111111111111111,
              "#46039f"
             ],
             [
              0.2222222222222222,
              "#7201a8"
             ],
             [
              0.3333333333333333,
              "#9c179e"
             ],
             [
              0.4444444444444444,
              "#bd3786"
             ],
             [
              0.5555555555555556,
              "#d8576b"
             ],
             [
              0.6666666666666666,
              "#ed7953"
             ],
             [
              0.7777777777777778,
              "#fb9f3a"
             ],
             [
              0.8888888888888888,
              "#fdca26"
             ],
             [
              1,
              "#f0f921"
             ]
            ],
            "type": "histogram2d"
           }
          ],
          "histogram2dcontour": [
           {
            "colorbar": {
             "outlinewidth": 0,
             "ticks": ""
            },
            "colorscale": [
             [
              0,
              "#0d0887"
             ],
             [
              0.1111111111111111,
              "#46039f"
             ],
             [
              0.2222222222222222,
              "#7201a8"
             ],
             [
              0.3333333333333333,
              "#9c179e"
             ],
             [
              0.4444444444444444,
              "#bd3786"
             ],
             [
              0.5555555555555556,
              "#d8576b"
             ],
             [
              0.6666666666666666,
              "#ed7953"
             ],
             [
              0.7777777777777778,
              "#fb9f3a"
             ],
             [
              0.8888888888888888,
              "#fdca26"
             ],
             [
              1,
              "#f0f921"
             ]
            ],
            "type": "histogram2dcontour"
           }
          ],
          "mesh3d": [
           {
            "colorbar": {
             "outlinewidth": 0,
             "ticks": ""
            },
            "type": "mesh3d"
           }
          ],
          "parcoords": [
           {
            "line": {
             "colorbar": {
              "outlinewidth": 0,
              "ticks": ""
             }
            },
            "type": "parcoords"
           }
          ],
          "pie": [
           {
            "automargin": true,
            "type": "pie"
           }
          ],
          "scatter": [
           {
            "fillpattern": {
             "fillmode": "overlay",
             "size": 10,
             "solidity": 0.2
            },
            "type": "scatter"
           }
          ],
          "scatter3d": [
           {
            "line": {
             "colorbar": {
              "outlinewidth": 0,
              "ticks": ""
             }
            },
            "marker": {
             "colorbar": {
              "outlinewidth": 0,
              "ticks": ""
             }
            },
            "type": "scatter3d"
           }
          ],
          "scattercarpet": [
           {
            "marker": {
             "colorbar": {
              "outlinewidth": 0,
              "ticks": ""
             }
            },
            "type": "scattercarpet"
           }
          ],
          "scattergeo": [
           {
            "marker": {
             "colorbar": {
              "outlinewidth": 0,
              "ticks": ""
             }
            },
            "type": "scattergeo"
           }
          ],
          "scattergl": [
           {
            "marker": {
             "colorbar": {
              "outlinewidth": 0,
              "ticks": ""
             }
            },
            "type": "scattergl"
           }
          ],
          "scattermapbox": [
           {
            "marker": {
             "colorbar": {
              "outlinewidth": 0,
              "ticks": ""
             }
            },
            "type": "scattermapbox"
           }
          ],
          "scatterpolar": [
           {
            "marker": {
             "colorbar": {
              "outlinewidth": 0,
              "ticks": ""
             }
            },
            "type": "scatterpolar"
           }
          ],
          "scatterpolargl": [
           {
            "marker": {
             "colorbar": {
              "outlinewidth": 0,
              "ticks": ""
             }
            },
            "type": "scatterpolargl"
           }
          ],
          "scatterternary": [
           {
            "marker": {
             "colorbar": {
              "outlinewidth": 0,
              "ticks": ""
             }
            },
            "type": "scatterternary"
           }
          ],
          "surface": [
           {
            "colorbar": {
             "outlinewidth": 0,
             "ticks": ""
            },
            "colorscale": [
             [
              0,
              "#0d0887"
             ],
             [
              0.1111111111111111,
              "#46039f"
             ],
             [
              0.2222222222222222,
              "#7201a8"
             ],
             [
              0.3333333333333333,
              "#9c179e"
             ],
             [
              0.4444444444444444,
              "#bd3786"
             ],
             [
              0.5555555555555556,
              "#d8576b"
             ],
             [
              0.6666666666666666,
              "#ed7953"
             ],
             [
              0.7777777777777778,
              "#fb9f3a"
             ],
             [
              0.8888888888888888,
              "#fdca26"
             ],
             [
              1,
              "#f0f921"
             ]
            ],
            "type": "surface"
           }
          ],
          "table": [
           {
            "cells": {
             "fill": {
              "color": "#EBF0F8"
             },
             "line": {
              "color": "white"
             }
            },
            "header": {
             "fill": {
              "color": "#C8D4E3"
             },
             "line": {
              "color": "white"
             }
            },
            "type": "table"
           }
          ]
         },
         "layout": {
          "annotationdefaults": {
           "arrowcolor": "#2a3f5f",
           "arrowhead": 0,
           "arrowwidth": 1
          },
          "autotypenumbers": "strict",
          "coloraxis": {
           "colorbar": {
            "outlinewidth": 0,
            "ticks": ""
           }
          },
          "colorscale": {
           "diverging": [
            [
             0,
             "#8e0152"
            ],
            [
             0.1,
             "#c51b7d"
            ],
            [
             0.2,
             "#de77ae"
            ],
            [
             0.3,
             "#f1b6da"
            ],
            [
             0.4,
             "#fde0ef"
            ],
            [
             0.5,
             "#f7f7f7"
            ],
            [
             0.6,
             "#e6f5d0"
            ],
            [
             0.7,
             "#b8e186"
            ],
            [
             0.8,
             "#7fbc41"
            ],
            [
             0.9,
             "#4d9221"
            ],
            [
             1,
             "#276419"
            ]
           ],
           "sequential": [
            [
             0,
             "#0d0887"
            ],
            [
             0.1111111111111111,
             "#46039f"
            ],
            [
             0.2222222222222222,
             "#7201a8"
            ],
            [
             0.3333333333333333,
             "#9c179e"
            ],
            [
             0.4444444444444444,
             "#bd3786"
            ],
            [
             0.5555555555555556,
             "#d8576b"
            ],
            [
             0.6666666666666666,
             "#ed7953"
            ],
            [
             0.7777777777777778,
             "#fb9f3a"
            ],
            [
             0.8888888888888888,
             "#fdca26"
            ],
            [
             1,
             "#f0f921"
            ]
           ],
           "sequentialminus": [
            [
             0,
             "#0d0887"
            ],
            [
             0.1111111111111111,
             "#46039f"
            ],
            [
             0.2222222222222222,
             "#7201a8"
            ],
            [
             0.3333333333333333,
             "#9c179e"
            ],
            [
             0.4444444444444444,
             "#bd3786"
            ],
            [
             0.5555555555555556,
             "#d8576b"
            ],
            [
             0.6666666666666666,
             "#ed7953"
            ],
            [
             0.7777777777777778,
             "#fb9f3a"
            ],
            [
             0.8888888888888888,
             "#fdca26"
            ],
            [
             1,
             "#f0f921"
            ]
           ]
          },
          "colorway": [
           "#636efa",
           "#EF553B",
           "#00cc96",
           "#ab63fa",
           "#FFA15A",
           "#19d3f3",
           "#FF6692",
           "#B6E880",
           "#FF97FF",
           "#FECB52"
          ],
          "font": {
           "color": "#2a3f5f"
          },
          "geo": {
           "bgcolor": "white",
           "lakecolor": "white",
           "landcolor": "#E5ECF6",
           "showlakes": true,
           "showland": true,
           "subunitcolor": "white"
          },
          "hoverlabel": {
           "align": "left"
          },
          "hovermode": "closest",
          "mapbox": {
           "style": "light"
          },
          "paper_bgcolor": "white",
          "plot_bgcolor": "#E5ECF6",
          "polar": {
           "angularaxis": {
            "gridcolor": "white",
            "linecolor": "white",
            "ticks": ""
           },
           "bgcolor": "#E5ECF6",
           "radialaxis": {
            "gridcolor": "white",
            "linecolor": "white",
            "ticks": ""
           }
          },
          "scene": {
           "xaxis": {
            "backgroundcolor": "#E5ECF6",
            "gridcolor": "white",
            "gridwidth": 2,
            "linecolor": "white",
            "showbackground": true,
            "ticks": "",
            "zerolinecolor": "white"
           },
           "yaxis": {
            "backgroundcolor": "#E5ECF6",
            "gridcolor": "white",
            "gridwidth": 2,
            "linecolor": "white",
            "showbackground": true,
            "ticks": "",
            "zerolinecolor": "white"
           },
           "zaxis": {
            "backgroundcolor": "#E5ECF6",
            "gridcolor": "white",
            "gridwidth": 2,
            "linecolor": "white",
            "showbackground": true,
            "ticks": "",
            "zerolinecolor": "white"
           }
          },
          "shapedefaults": {
           "line": {
            "color": "#2a3f5f"
           }
          },
          "ternary": {
           "aaxis": {
            "gridcolor": "white",
            "linecolor": "white",
            "ticks": ""
           },
           "baxis": {
            "gridcolor": "white",
            "linecolor": "white",
            "ticks": ""
           },
           "bgcolor": "#E5ECF6",
           "caxis": {
            "gridcolor": "white",
            "linecolor": "white",
            "ticks": ""
           }
          },
          "title": {
           "x": 0.05
          },
          "xaxis": {
           "automargin": true,
           "gridcolor": "white",
           "linecolor": "white",
           "ticks": "",
           "title": {
            "standoff": 15
           },
           "zerolinecolor": "white",
           "zerolinewidth": 2
          },
          "yaxis": {
           "automargin": true,
           "gridcolor": "white",
           "linecolor": "white",
           "ticks": "",
           "title": {
            "standoff": 15
           },
           "zerolinecolor": "white",
           "zerolinewidth": 2
          }
         }
        },
        "xaxis": {
         "anchor": "y",
         "autorange": true,
         "domain": [
          0,
          1
         ],
         "range": [
          -4.7086855144272795,
          83.70868551442727
         ],
         "title": {
          "text": "x"
         },
         "type": "linear"
        },
        "yaxis": {
         "anchor": "x",
         "autorange": true,
         "domain": [
          0,
          1
         ],
         "range": [
          -0.03646207349081377,
          0.07036207349081382
         ],
         "title": {
          "text": "VDL"
         },
         "type": "linear"
        }
       }
      },
      "image/png": "[encoded data removed]",
      "text/html": [
       "<div>                            <div id=\"d8e133a8-c108-494c-937d-2658a44125aa\" class=\"plotly-graph-div\" style=\"height:525px; width:100%;\"></div>            <script type=\"text/javascript\">                require([\"plotly\"], function(Plotly) {                    window.PLOTLYENV=window.PLOTLYENV || {};                                    if (document.getElementById(\"d8e133a8-c108-494c-937d-2658a44125aa\")) {                    Plotly.newPlot(                        \"d8e133a8-c108-494c-937d-2658a44125aa\",                        [{\"hovertemplate\":\"x=%{x}<br>VDL=%{y}<extra></extra>\",\"legendgroup\":\"\",\"marker\":{\"color\":\"#636efa\",\"symbol\":\"circle\"},\"mode\":\"markers\",\"name\":\"VDL\",\"orientation\":\"v\",\"showlegend\":true,\"x\":[0,1,2,3,4,5,6,7,8,9,10,11,12,13,14,15,16,17,18,19,20,21,22,23,24,25,26,27,28,29,30,31,32,33,34,35,36,37,38,39,40,41,42,43,44,45,46,47,48,49,50,51,52,53,54,55,56,57,58,59,60,61,62,63,64,65,66,67,68,69,70,71,72,73,74,75,76,77,78,79],\"xaxis\":\"x\",\"y\":[0.0,0.0007999999999999119,0.007400000000000073,0.0024000000000001798,0.007000000000000117,0.0043000000000001926,0.0030999999999998806,0.0032000000000000917,0.005900000000000016,0.0030999999999998806,0.0026999999999999247,0.0011999999999998678,0.0028999999999999027,0.006600000000000161,0.005700000000000038,0.000300000000000189,0.007600000000000051,0.02519999999999989,0.022600000000000176,0.026899999999999924,0.015699999999999825,0.020999999999999908,0.026899999999999924,0.020000000000000018,0.01429999999999998,0.01200000000000001,0.007200000000000095,0.0030999999999998806,0.01429999999999998,0.006099999999999994,0.0032999999999998586,0.004999999999999893,0.0026000000000001577,0.0030000000000001137,0.0034000000000000696,0.013500000000000068,0.0123000000000002,0.0230999999999999,0.007299999999999862,0.01880000000000015,0.00749999999999984,0.02629999999999999,0.021300000000000097,0.03909999999999991,0.03410000000000002,0.022499999999999964,0.027499999999999858,0.01949999999999985,0.020000000000000018,0.029799999999999827,0.015000000000000124,0.011099999999999888,0.0230999999999999,0.008999999999999897,0.007700000000000262,0.005399999999999849,0.015800000000000036,0.03180000000000005,0.01880000000000015,0.012700000000000156,0.009800000000000253,0.02519999999999989,0.00890000000000013,0.0037000000000002586,0.005599999999999827,0.008999999999999897,0.00010000000000021103,-0.0009999999999998899,-0.0030999999999998806,-0.0026000000000001577,0.013599999999999834,0.00550000000000006,0.02400000000000002,0.004100000000000215,0.016000000000000014,0.020700000000000163,0.02959999999999985,0.020300000000000207,0.021199999999999886,0.011099999999999888],\"yaxis\":\"y\",\"type\":\"scatter\"},{\"mode\":\"markers\",\"name\":\"VDR\",\"x\":[0,1,2,3,4,5,6,7,8,9,10,11,12,13,14,15,16,17,18,19,20,21,22,23,24,25,26,27,28,29,30,31,32,33,34,35,36,37,38,39,40,41,42,43,44,45,46,47,48,49,50,51,52,53,54,55,56,57,58,59,60,61,62,63,64,65,66,67,68,69,70,71,72,73,74,75,76,77,78,79],\"y\":[0.0,-9.999999999976694e-05,0.019200000000000106,0.0029000000000003467,0.02110000000000012,0.009800000000000253,0.0045000000000001705,0.010400000000000187,0.01429999999999998,0.010000000000000231,0.0033000000000003027,0.0024999999999999467,0.014800000000000146,0.0235000000000003,0.01639999999999997,0.009400000000000297,0.024599999999999955,0.04510000000000014,0.04260000000000019,0.046800000000000175,0.028900000000000148,0.02629999999999999,0.0394000000000001,0.03570000000000029,0.018299999999999983,0.02839999999999998,0.016900000000000137,0.01200000000000001,0.029200000000000337,0.01869999999999994,0.01650000000000018,0.02540000000000031,0.017200000000000326,0.015500000000000291,0.014100000000000001,0.0253000000000001,0.024799999999999933,0.04320000000000013,0.02300000000000013,0.0365000000000002,0.024799999999999933,0.04830000000000023,0.03100000000000014,0.06320000000000014,0.05520000000000014,0.03440000000000021,0.04269999999999996,0.029200000000000337,0.03780000000000028,0.051300000000000345,0.020700000000000163,0.026900000000000368,0.04190000000000005,0.015900000000000247,0.010600000000000165,0.008100000000000218,0.025800000000000267,0.054400000000000226,0.04280000000000017,0.03510000000000035,0.029100000000000126,0.04870000000000019,0.026100000000000012,0.01639999999999997,0.027500000000000302,0.0383,0.021600000000000286,0.011800000000000033,0.0043000000000001926,0.014100000000000001,0.03410000000000002,0.013600000000000279,0.048799999999999955,0.02059999999999995,0.034900000000000375,0.042300000000000004,0.05590000000000028,0.03910000000000036,0.04820000000000002,0.03400000000000025],\"type\":\"scatter\"},{\"mode\":\"markers\",\"name\":\"diff\",\"x\":[0,1,2,3,4,5,6,7,8,9,10,11,12,13,14,15,16,17,18,19,20,21,22,23,24,25,26,27,28,29,30,31,32,33,34,35,36,37,38,39,40,41,42,43,44,45,46,47,48,49,50,51,52,53,54,55,56,57,58,59,60,61,62,63,64,65,66,67,68,69,70,71,72,73,74,75,76,77,78,79],\"y\":[0.0,0.0008999999999996788,-0.011800000000000033,-0.000500000000000167,-0.014100000000000001,-0.00550000000000006,-0.00140000000000029,-0.007200000000000095,-0.008399999999999963,-0.00690000000000035,-0.000600000000000378,-0.0013000000000000789,-0.011900000000000244,-0.016900000000000137,-0.010699999999999932,-0.009100000000000108,-0.016999999999999904,-0.01990000000000025,-0.020000000000000018,-0.01990000000000025,-0.013200000000000323,-0.005300000000000082,-0.012500000000000178,-0.01570000000000027,-0.0040000000000000036,-0.01639999999999997,-0.009700000000000042,-0.00890000000000013,-0.014900000000000357,-0.012599999999999945,-0.013200000000000323,-0.020400000000000418,-0.014600000000000168,-0.012500000000000178,-0.010699999999999932,-0.011800000000000033,-0.012499999999999734,-0.02010000000000023,-0.01570000000000027,-0.01770000000000005,-0.017300000000000093,-0.02200000000000024,-0.009700000000000042,-0.024100000000000232,-0.02110000000000012,-0.011900000000000244,-0.015200000000000102,-0.009700000000000486,-0.01780000000000026,-0.02150000000000052,-0.005700000000000038,-0.01580000000000048,-0.01880000000000015,-0.00690000000000035,-0.0028999999999999027,-0.0027000000000003688,-0.010000000000000231,-0.022600000000000176,-0.02400000000000002,-0.022400000000000198,-0.019299999999999873,-0.0235000000000003,-0.017199999999999882,-0.012699999999999712,-0.021900000000000475,-0.029300000000000104,-0.021500000000000075,-0.012799999999999923,-0.007400000000000073,-0.01670000000000016,-0.020500000000000185,-0.008100000000000218,-0.024799999999999933,-0.016499999999999737,-0.01890000000000036,-0.02159999999999984,-0.026300000000000434,-0.01880000000000015,-0.027000000000000135,-0.022900000000000365],\"type\":\"scatter\"}],                        {\"template\":{\"data\":{\"histogram2dcontour\":[{\"type\":\"histogram2dcontour\",\"colorbar\":{\"outlinewidth\":0,\"ticks\":\"\"},\"colorscale\":[[0.0,\"#0d0887\"],[0.1111111111111111,\"#46039f\"],[0.2222222222222222,\"#7201a8\"],[0.3333333333333333,\"#9c179e\"],[0.4444444444444444,\"#bd3786\"],[0.5555555555555556,\"#d8576b\"],[0.6666666666666666,\"#ed7953\"],[0.7777777777777778,\"#fb9f3a\"],[0.8888888888888888,\"#fdca26\"],[1.0,\"#f0f921\"]]}],\"choropleth\":[{\"type\":\"choropleth\",\"colorbar\":{\"outlinewidth\":0,\"ticks\":\"\"}}],\"histogram2d\":[{\"type\":\"histogram2d\",\"colorbar\":{\"outlinewidth\":0,\"ticks\":\"\"},\"colorscale\":[[0.0,\"#0d0887\"],[0.1111111111111111,\"#46039f\"],[0.2222222222222222,\"#7201a8\"],[0.3333333333333333,\"#9c179e\"],[0.4444444444444444,\"#bd3786\"],[0.5555555555555556,\"#d8576b\"],[0.6666666666666666,\"#ed7953\"],[0.7777777777777778,\"#fb9f3a\"],[0.8888888888888888,\"#fdca26\"],[1.0,\"#f0f921\"]]}],\"heatmap\":[{\"type\":\"heatmap\",\"colorbar\":{\"outlinewidth\":0,\"ticks\":\"\"},\"colorscale\":[[0.0,\"#0d0887\"],[0.1111111111111111,\"#46039f\"],[0.2222222222222222,\"#7201a8\"],[0.3333333333333333,\"#9c179e\"],[0.4444444444444444,\"#bd3786\"],[0.5555555555555556,\"#d8576b\"],[0.6666666666666666,\"#ed7953\"],[0.7777777777777778,\"#fb9f3a\"],[0.8888888888888888,\"#fdca26\"],[1.0,\"#f0f921\"]]}],\"heatmapgl\":[{\"type\":\"heatmapgl\",\"colorbar\":{\"outlinewidth\":0,\"ticks\":\"\"},\"colorscale\":[[0.0,\"#0d0887\"],[0.1111111111111111,\"#46039f\"],[0.2222222222222222,\"#7201a8\"],[0.3333333333333333,\"#9c179e\"],[0.4444444444444444,\"#bd3786\"],[0.5555555555555556,\"#d8576b\"],[0.6666666666666666,\"#ed7953\"],[0.7777777777777778,\"#fb9f3a\"],[0.8888888888888888,\"#fdca26\"],[1.0,\"#f0f921\"]]}],\"contourcarpet\":[{\"type\":\"contourcarpet\",\"colorbar\":{\"outlinewidth\":0,\"ticks\":\"\"}}],\"contour\":[{\"type\":\"contour\",\"colorbar\":{\"outlinewidth\":0,\"ticks\":\"\"},\"colorscale\":[[0.0,\"#0d0887\"],[0.1111111111111111,\"#46039f\"],[0.2222222222222222,\"#7201a8\"],[0.3333333333333333,\"#9c179e\"],[0.4444444444444444,\"#bd3786\"],[0.5555555555555556,\"#d8576b\"],[0.6666666666666666,\"#ed7953\"],[0.7777777777777778,\"#fb9f3a\"],[0.8888888888888888,\"#fdca26\"],[1.0,\"#f0f921\"]]}],\"surface\":[{\"type\":\"surface\",\"colorbar\":{\"outlinewidth\":0,\"ticks\":\"\"},\"colorscale\":[[0.0,\"#0d0887\"],[0.1111111111111111,\"#46039f\"],[0.2222222222222222,\"#7201a8\"],[0.3333333333333333,\"#9c179e\"],[0.4444444444444444,\"#bd3786\"],[0.5555555555555556,\"#d8576b\"],[0.6666666666666666,\"#ed7953\"],[0.7777777777777778,\"#fb9f3a\"],[0.8888888888888888,\"#fdca26\"],[1.0,\"#f0f921\"]]}],\"mesh3d\":[{\"type\":\"mesh3d\",\"colorbar\":{\"outlinewidth\":0,\"ticks\":\"\"}}],\"scatter\":[{\"fillpattern\":{\"fillmode\":\"overlay\",\"size\":10,\"solidity\":0.2},\"type\":\"scatter\"}],\"parcoords\":[{\"type\":\"parcoords\",\"line\":{\"colorbar\":{\"outlinewidth\":0,\"ticks\":\"\"}}}],\"scatterpolargl\":[{\"type\":\"scatterpolargl\",\"marker\":{\"colorbar\":{\"outlinewidth\":0,\"ticks\":\"\"}}}],\"bar\":[{\"error_x\":{\"color\":\"#2a3f5f\"},\"error_y\":{\"color\":\"#2a3f5f\"},\"marker\":{\"line\":{\"color\":\"#E5ECF6\",\"width\":0.5},\"pattern\":{\"fillmode\":\"overlay\",\"size\":10,\"solidity\":0.2}},\"type\":\"bar\"}],\"scattergeo\":[{\"type\":\"scattergeo\",\"marker\":{\"colorbar\":{\"outlinewidth\":0,\"ticks\":\"\"}}}],\"scatterpolar\":[{\"type\":\"scatterpolar\",\"marker\":{\"colorbar\":{\"outlinewidth\":0,\"ticks\":\"\"}}}],\"histogram\":[{\"marker\":{\"pattern\":{\"fillmode\":\"overlay\",\"size\":10,\"solidity\":0.2}},\"type\":\"histogram\"}],\"scattergl\":[{\"type\":\"scattergl\",\"marker\":{\"colorbar\":{\"outlinewidth\":0,\"ticks\":\"\"}}}],\"scatter3d\":[{\"type\":\"scatter3d\",\"line\":{\"colorbar\":{\"outlinewidth\":0,\"ticks\":\"\"}},\"marker\":{\"colorbar\":{\"outlinewidth\":0,\"ticks\":\"\"}}}],\"scattermapbox\":[{\"type\":\"scattermapbox\",\"marker\":{\"colorbar\":{\"outlinewidth\":0,\"ticks\":\"\"}}}],\"scatterternary\":[{\"type\":\"scatterternary\",\"marker\":{\"colorbar\":{\"outlinewidth\":0,\"ticks\":\"\"}}}],\"scattercarpet\":[{\"type\":\"scattercarpet\",\"marker\":{\"colorbar\":{\"outlinewidth\":0,\"ticks\":\"\"}}}],\"carpet\":[{\"aaxis\":{\"endlinecolor\":\"#2a3f5f\",\"gridcolor\":\"white\",\"linecolor\":\"white\",\"minorgridcolor\":\"white\",\"startlinecolor\":\"#2a3f5f\"},\"baxis\":{\"endlinecolor\":\"#2a3f5f\",\"gridcolor\":\"white\",\"linecolor\":\"white\",\"minorgridcolor\":\"white\",\"startlinecolor\":\"#2a3f5f\"},\"type\":\"carpet\"}],\"table\":[{\"cells\":{\"fill\":{\"color\":\"#EBF0F8\"},\"line\":{\"color\":\"white\"}},\"header\":{\"fill\":{\"color\":\"#C8D4E3\"},\"line\":{\"color\":\"white\"}},\"type\":\"table\"}],\"barpolar\":[{\"marker\":{\"line\":{\"color\":\"#E5ECF6\",\"width\":0.5},\"pattern\":{\"fillmode\":\"overlay\",\"size\":10,\"solidity\":0.2}},\"type\":\"barpolar\"}],\"pie\":[{\"automargin\":true,\"type\":\"pie\"}]},\"layout\":{\"autotypenumbers\":\"strict\",\"colorway\":[\"#636efa\",\"#EF553B\",\"#00cc96\",\"#ab63fa\",\"#FFA15A\",\"#19d3f3\",\"#FF6692\",\"#B6E880\",\"#FF97FF\",\"#FECB52\"],\"font\":{\"color\":\"#2a3f5f\"},\"hovermode\":\"closest\",\"hoverlabel\":{\"align\":\"left\"},\"paper_bgcolor\":\"white\",\"plot_bgcolor\":\"#E5ECF6\",\"polar\":{\"bgcolor\":\"#E5ECF6\",\"angularaxis\":{\"gridcolor\":\"white\",\"linecolor\":\"white\",\"ticks\":\"\"},\"radialaxis\":{\"gridcolor\":\"white\",\"linecolor\":\"white\",\"ticks\":\"\"}},\"ternary\":{\"bgcolor\":\"#E5ECF6\",\"aaxis\":{\"gridcolor\":\"white\",\"linecolor\":\"white\",\"ticks\":\"\"},\"baxis\":{\"gridcolor\":\"white\",\"linecolor\":\"white\",\"ticks\":\"\"},\"caxis\":{\"gridcolor\":\"white\",\"linecolor\":\"white\",\"ticks\":\"\"}},\"coloraxis\":{\"colorbar\":{\"outlinewidth\":0,\"ticks\":\"\"}},\"colorscale\":{\"sequential\":[[0.0,\"#0d0887\"],[0.1111111111111111,\"#46039f\"],[0.2222222222222222,\"#7201a8\"],[0.3333333333333333,\"#9c179e\"],[0.4444444444444444,\"#bd3786\"],[0.5555555555555556,\"#d8576b\"],[0.6666666666666666,\"#ed7953\"],[0.7777777777777778,\"#fb9f3a\"],[0.8888888888888888,\"#fdca26\"],[1.0,\"#f0f921\"]],\"sequentialminus\":[[0.0,\"#0d0887\"],[0.1111111111111111,\"#46039f\"],[0.2222222222222222,\"#7201a8\"],[0.3333333333333333,\"#9c179e\"],[0.4444444444444444,\"#bd3786\"],[0.5555555555555556,\"#d8576b\"],[0.6666666666666666,\"#ed7953\"],[0.7777777777777778,\"#fb9f3a\"],[0.8888888888888888,\"#fdca26\"],[1.0,\"#f0f921\"]],\"diverging\":[[0,\"#8e0152\"],[0.1,\"#c51b7d\"],[0.2,\"#de77ae\"],[0.3,\"#f1b6da\"],[0.4,\"#fde0ef\"],[0.5,\"#f7f7f7\"],[0.6,\"#e6f5d0\"],[0.7,\"#b8e186\"],[0.8,\"#7fbc41\"],[0.9,\"#4d9221\"],[1,\"#276419\"]]},\"xaxis\":{\"gridcolor\":\"white\",\"linecolor\":\"white\",\"ticks\":\"\",\"title\":{\"standoff\":15},\"zerolinecolor\":\"white\",\"automargin\":true,\"zerolinewidth\":2},\"yaxis\":{\"gridcolor\":\"white\",\"linecolor\":\"white\",\"ticks\":\"\",\"title\":{\"standoff\":15},\"zerolinecolor\":\"white\",\"automargin\":true,\"zerolinewidth\":2},\"scene\":{\"xaxis\":{\"backgroundcolor\":\"#E5ECF6\",\"gridcolor\":\"white\",\"linecolor\":\"white\",\"showbackground\":true,\"ticks\":\"\",\"zerolinecolor\":\"white\",\"gridwidth\":2},\"yaxis\":{\"backgroundcolor\":\"#E5ECF6\",\"gridcolor\":\"white\",\"linecolor\":\"white\",\"showbackground\":true,\"ticks\":\"\",\"zerolinecolor\":\"white\",\"gridwidth\":2},\"zaxis\":{\"backgroundcolor\":\"#E5ECF6\",\"gridcolor\":\"white\",\"linecolor\":\"white\",\"showbackground\":true,\"ticks\":\"\",\"zerolinecolor\":\"white\",\"gridwidth\":2}},\"shapedefaults\":{\"line\":{\"color\":\"#2a3f5f\"}},\"annotationdefaults\":{\"arrowcolor\":\"#2a3f5f\",\"arrowhead\":0,\"arrowwidth\":1},\"geo\":{\"bgcolor\":\"white\",\"landcolor\":\"#E5ECF6\",\"subunitcolor\":\"white\",\"showland\":true,\"showlakes\":true,\"lakecolor\":\"white\"},\"title\":{\"x\":0.05},\"mapbox\":{\"style\":\"light\"}}},\"xaxis\":{\"anchor\":\"y\",\"domain\":[0.0,1.0],\"title\":{\"text\":\"x\"}},\"yaxis\":{\"anchor\":\"x\",\"domain\":[0.0,1.0],\"title\":{\"text\":\"VDL\"}},\"legend\":{\"tracegroupgap\":0},\"margin\":{\"t\":60}},                        {\"responsive\": true}                    ).then(function(){\n",
       "                            \n",
       "var gd = document.getElementById('d8e133a8-c108-494c-937d-2658a44125aa');\n",
       "var x = new MutationObserver(function (mutations, observer) {{\n",
       "        var display = window.getComputedStyle(gd).display;\n",
       "        if (!display || display === 'none') {{\n",
       "            console.log([gd, 'removed!']);\n",
       "            Plotly.purge(gd);\n",
       "            observer.disconnect();\n",
       "        }}\n",
       "}});\n",
       "\n",
       "// Listen for the removal of the full notebook cells\n",
       "var notebookContainer = gd.closest('#notebook-container');\n",
       "if (notebookContainer) {{\n",
       "    x.observe(notebookContainer, {childList: true});\n",
       "}}\n",
       "\n",
       "// Listen for the clearing of the current output cell\n",
       "var outputEl = gd.closest('.output');\n",
       "if (outputEl) {{\n",
       "    x.observe(outputEl, {childList: true});\n",
       "}}\n",
       "\n",
       "                        })                };                });            </script>        </div>"
      ]
     },
     "metadata": {},
     "output_type": "display_data"
    }
   ],
   "source": [
    "diff_in_time = pd.concat(diode_df_dict.values(), ignore_index=False)\n",
    "numberoftests = len(diode_df_dict)\n",
    "diff_in_time_grouped = diff_in_time.groupby(diff_in_time.index)\n",
    "threshold = diff_in_time.index.max()\n",
    "\n",
    "diff_in_time_max = [group for name, group in diff_in_time_grouped if name >= threshold]\n",
    "fig = px.scatter(diff_in_time_max[0]-diff_in_time_max[0]['VDL'].iloc[0], x=range(len(diff_in_time_max[0])), y='VDL')\n",
    "fig.data[0].name=\"VDL\"\n",
    "fig.update_traces(showlegend=True)\n",
    " \n",
    "fig.add_scatter(x=np.array(range(len(diff_in_time_max[0]))), y=diff_in_time_max[0]['VDR']-diff_in_time_max[0]['VDR'].iloc[0], mode='markers',name = \"VDR\")\n",
    "fig.add_scatter(x=np.array(range(len(diff_in_time_max[0]))), y=(diff_in_time_max[0]['VDL']-diff_in_time_max[0]['VDR'])-(diff_in_time_max[0]['VDL']-diff_in_time_max[0]['VDR']).iloc[0], mode='markers',name = \"diff\")\n",
    " \n",
    "fig.show()"
   ]
  },
  {
   "cell_type": "code",
   "execution_count": 34,
   "id": "c342951b-49bb-4314-b716-6c0eb70b36c2",
   "metadata": {},
   "outputs": [],
   "source": [
    "# std and mean only for the diff"
   ]
  },
  {
   "cell_type": "code",
   "execution_count": 35,
   "id": "02df135b-e513-452a-a81e-69bde5952e57",
   "metadata": {},
   "outputs": [
    {
     "data": {
      "image/png": "[encoded data removed]",
      "text/plain": [
       "<Figure size 432x288 with 1 Axes>"
      ]
     },
     "metadata": {
      "needs_background": "light"
     },
     "output_type": "display_data"
    }
   ],
   "source": [
    "plt.scatter(conc[:k], [i[0]*1000 for i in mean_std] )\n",
    "plt.errorbar(conc[:k], [i[0]*1000 for i in mean_std], yerr=[i[1]*1000 for i in mean_std], label='std')\n",
    "\n",
    "plt.xlabel('Concentration')\n",
    "plt.ylabel('DeltaV [mV]')\n",
    "plt.title('Mean and Std DeltaV dor different concentrartions (last 5 values of the last 6 steps)')\n",
    "plt.legend()\n",
    "plt.grid()\n"
   ]
  },
  {
   "cell_type": "code",
   "execution_count": 36,
   "id": "8dd6df50-f3de-49a3-aff4-01b6ffda5219",
   "metadata": {},
   "outputs": [
    {
     "data": {
      "text/plain": [
       "[[0.0, 0.004298068041444739],\n",
       " [0.0008766666666661926, 0.0033976070010131075],\n",
       " [0.001703333333332946, 0.009169315980789164],\n",
       " [-0.006393333333333473, 0.003056070461665874]]"
      ]
     },
     "execution_count": 36,
     "metadata": {},
     "output_type": "execute_result"
    }
   ],
   "source": [
    "mean_std"
   ]
  },
  {
   "cell_type": "code",
   "execution_count": 92,
   "id": "f2d02c5c-28e0-4821-9e0f-8e6a8053e216",
   "metadata": {},
   "outputs": [
    {
     "data": {
      "text/plain": [
       "array([-0.00377667, -0.00613667, -0.00585333, -0.00306   , -0.00861667,\n",
       "       -0.00697   , -0.01118   , -0.01018667, -0.00653   ])"
      ]
     },
     "execution_count": 92,
     "metadata": {},
     "output_type": "execute_result"
    }
   ],
   "source": [
    "np.diff([i[0]-mean_std_L[0][0] for i in mean_std_L])"
   ]
  },
  {
   "cell_type": "code",
   "execution_count": 93,
   "id": "c80cf1a2-6d55-47d4-9e35-6fea7e9892b7",
   "metadata": {},
   "outputs": [
    {
     "data": {
      "text/plain": [
       "array([-0.00053333, -0.00368667, -0.00496667, -0.00216667, -0.00914   ,\n",
       "       -0.00580667, -0.01037667, -0.00765   , -0.00645333])"
      ]
     },
     "execution_count": 93,
     "metadata": {},
     "output_type": "execute_result"
    }
   ],
   "source": [
    "np.diff([i[0]-mean_std_R[0][0] for i in mean_std_R])"
   ]
  },
  {
   "cell_type": "code",
   "execution_count": 98,
   "id": "bdbecf1f-a9b9-473c-b153-fb167f7240aa",
   "metadata": {},
   "outputs": [
    {
     "data": {
      "text/plain": [
       "<matplotlib.collections.PathCollection at 0x195524db640>"
      ]
     },
     "execution_count": 98,
     "metadata": {},
     "output_type": "execute_result"
    },
    {
     "data": {
      "image/png": "[encoded data removed]",
      "text/plain": [
       "<Figure size 432x288 with 1 Axes>"
      ]
     },
     "metadata": {
      "needs_background": "light"
     },
     "output_type": "display_data"
    }
   ],
   "source": [
    "plt.scatter(conc[1:],np.diff([i[0] for i in mean_std_L])-np.diff([i[0]-mean_std_R[0][0] for i in mean_std_R]))"
   ]
  },
  {
   "cell_type": "code",
   "execution_count": 73,
   "id": "f01692d6-d2bc-4dbc-8b0b-ad003e1de79c",
   "metadata": {},
   "outputs": [
    {
     "data": {
      "text/plain": [
       "[<matplotlib.lines.Line2D at 0x1954f239ca0>]"
      ]
     },
     "execution_count": 73,
     "metadata": {},
     "output_type": "execute_result"
    },
    {
     "data": {
      "image/png": "[encoded data removed]",
      "text/plain": [
       "<Figure size 432x288 with 1 Axes>"
      ]
     },
     "metadata": {
      "needs_background": "light"
     },
     "output_type": "display_data"
    }
   ],
   "source": [
    "plt.plot(np.diff([i[0] for i in mean_std_R]))"
   ]
  },
  {
   "cell_type": "code",
   "execution_count": 71,
   "id": "815981ff-4118-4910-9200-68df2be8f0e6",
   "metadata": {},
   "outputs": [
    {
     "data": {
      "text/plain": [
       "[1.8691566666666666,\n",
       " 1.8653799999999998,\n",
       " 1.8592433333333334,\n",
       " 1.8533899999999999,\n",
       " 1.8503300000000003,\n",
       " 1.8417133333333335,\n",
       " 1.8347433333333334,\n",
       " 1.8235633333333334,\n",
       " 1.8133766666666664,\n",
       " 1.8068466666666665]"
      ]
     },
     "execution_count": 71,
     "metadata": {},
     "output_type": "execute_result"
    }
   ],
   "source": [
    "[i[0] for i in mean_std_L]"
   ]
  },
  {
   "cell_type": "code",
   "execution_count": 74,
   "id": "ee4dd389-ca35-4d90-972f-e98004195912",
   "metadata": {},
   "outputs": [
    {
     "data": {
      "text/plain": [
       "array([-0.00377667, -0.00613667, -0.00585333, -0.00306   , -0.00861667,\n",
       "       -0.00697   , -0.01118   , -0.01018667, -0.00653   ])"
      ]
     },
     "execution_count": 74,
     "metadata": {},
     "output_type": "execute_result"
    }
   ],
   "source": [
    "np.diff([i[0] for i in mean_std_L])"
   ]
  },
  {
   "cell_type": "code",
   "execution_count": null,
   "id": "a4a8d543-eb19-45c3-a653-aab254fe18b0",
   "metadata": {},
   "outputs": [],
   "source": []
  }
 ],
 "metadata": {
  "kernelspec": {
   "display_name": "Python 3 (ipykernel)",
   "language": "python",
   "name": "python3"
  },
  "language_info": {
   "codemirror_mode": {
    "name": "ipython",
    "version": 3
   },
   "file_extension": ".py",
   "mimetype": "text/x-python",
   "name": "python",
   "nbconvert_exporter": "python",
   "pygments_lexer": "ipython3",
   "version": "3.9.13"
  }
 },
 "nbformat": 4,
 "nbformat_minor": 5
}
