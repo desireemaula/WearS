{
 "cells": [
  {
   "cell_type": "code",
   "execution_count": 1,
   "id": "05a25cd7-0a8e-4281-9ccf-8bf34bc27e33",
   "metadata": {
    "tags": []
   },
   "outputs": [
    {
     "name": "stderr",
     "output_type": "stream",
     "text": [
      "C:\\Users\\desi\\anaconda3\\lib\\site-packages\\pandas\\core\\computation\\expressions.py:21: UserWarning: Pandas requires version '2.8.4' or newer of 'numexpr' (version '2.8.1' currently installed).\n",
      "  from pandas.core.computation.check import NUMEXPR_INSTALLED\n",
      "C:\\Users\\desi\\anaconda3\\lib\\site-packages\\pandas\\core\\arrays\\masked.py:60: UserWarning: Pandas requires version '1.3.6' or newer of 'bottleneck' (version '1.3.4' currently installed).\n",
      "  from pandas.core import (\n"
     ]
    }
   ],
   "source": [
    "import sys\n",
    "sys.path.append('..') \n",
    "\n",
    "from keithleyAPI import Communications\n",
    "from tests_ import sensing_test,stability_test\n",
    "import utils"
   ]
  },
  {
   "cell_type": "code",
   "execution_count": 15,
   "id": "b06a589c-9618-46fd-99a1-c8e9ba19279f",
   "metadata": {},
   "outputs": [],
   "source": [
    "import plotly.express as px \n",
    "import pandas as pd\n",
    "import seaborn as sns\n",
    "import time\n",
    "import matplotlib.pyplot as plt\n",
    "import os\n",
    "import numpy as np\n",
    "\n",
    "smu = Communications(\"TCPIP0::169.254.181.21::1225::SOCKET\")\n",
    "smu.connect()\n",
    "smu._instrument_object.write_termination = \"\\0\"\n",
    "smu._instrument_object.read_termination = \"\\0\""
   ]
  },
  {
   "cell_type": "code",
   "execution_count": 58,
   "id": "8bbbb00a-22ca-4a3e-ba29-158ead6c7d3a",
   "metadata": {},
   "outputs": [],
   "source": [
    "DUT = 'd030824-II' # device under test\n",
    "couple = 'r3c1'\n",
    "VDL = 'CH1'\n",
    "VDR = 'CH3'\n",
    "CMN = 'CH2'"
   ]
  },
  {
   "cell_type": "code",
   "execution_count": 59,
   "id": "d79d9457-9e70-4199-b23f-40f0096ead9e",
   "metadata": {},
   "outputs": [
    {
     "data": {
      "text/plain": [
       "'ACK'"
      ]
     },
     "execution_count": 59,
     "metadata": {},
     "output_type": "execute_result"
    }
   ],
   "source": [
    "smu.query(\"BC\") # clears all readings from buffer"
   ]
  },
  {
   "cell_type": "markdown",
   "id": "ab8755e2",
   "metadata": {},
   "source": [
    "# Diode connection Test"
   ]
  },
  {
   "cell_type": "markdown",
   "id": "474325bf-af3e-4f9a-a2f9-7a36a0e19af5",
   "metadata": {},
   "source": [
    "### To run a cell and go to the next one: Shift + enter\n",
    "#### Run the following cell until it prints out \"Device correctly stabilized\"\n",
    "Be sure to change the device under test on the last line"
   ]
  },
  {
   "cell_type": "code",
   "execution_count": 60,
   "id": "9b69f409-435d-4446-bb2b-9fa289bbe5b2",
   "metadata": {},
   "outputs": [],
   "source": [
    "diode_df = []\n",
    "mean_diff = []\n",
    "TOT = 'DiodeConnected_StabilityforIonSensing-Na' #type of test"
   ]
  },
  {
   "cell_type": "markdown",
   "id": "d609a0a0-f2ac-4229-ba33-df894087e571",
   "metadata": {},
   "source": [
    "### Run Stability Check before sensing test"
   ]
  },
  {
   "cell_type": "code",
   "execution_count": 61,
   "id": "d6253bdd",
   "metadata": {},
   "outputs": [
    {
     "name": "stdout",
     "output_type": "stream",
     "text": [
      "Sweep #: 1\n",
      "|VDL-VDR|:  0.23507\n",
      "mean diff of diff L-R: nan\n",
      "std diff of diff L-R: nan\n"
     ]
    },
    {
     "name": "stderr",
     "output_type": "stream",
     "text": [
      "C:\\Users\\desi\\anaconda3\\lib\\site-packages\\numpy\\core\\fromnumeric.py:3504: RuntimeWarning:\n",
      "\n",
      "Mean of empty slice.\n",
      "\n",
      "C:\\Users\\desi\\anaconda3\\lib\\site-packages\\numpy\\core\\_methods.py:129: RuntimeWarning:\n",
      "\n",
      "invalid value encountered in scalar divide\n",
      "\n",
      "C:\\Users\\desi\\anaconda3\\lib\\site-packages\\numpy\\core\\_methods.py:206: RuntimeWarning:\n",
      "\n",
      "Degrees of freedom <= 0 for slice\n",
      "\n",
      "C:\\Users\\desi\\anaconda3\\lib\\site-packages\\numpy\\core\\_methods.py:163: RuntimeWarning:\n",
      "\n",
      "invalid value encountered in divide\n",
      "\n",
      "C:\\Users\\desi\\anaconda3\\lib\\site-packages\\numpy\\core\\_methods.py:198: RuntimeWarning:\n",
      "\n",
      "invalid value encountered in scalar divide\n",
      "\n"
     ]
    },
    {
     "name": "stdout",
     "output_type": "stream",
     "text": [
      "Sweep #: 2\n",
      "|VDL-VDR|:  0.20434\n",
      "mean diff of diff L-R: 0.03073\n",
      "std diff of diff L-R: 0.0\n",
      "Sweep #: 3\n",
      "|VDL-VDR|:  0.36191\n",
      "mean diff of diff L-R: 0.29849\n",
      "std diff of diff L-R: 0.26776\n",
      "Sweep #: 4\n",
      "|VDL-VDR|:  0.0002\n",
      "mean diff of diff L-R: 0.31957\n",
      "std diff of diff L-R: 0.22065\n",
      "Sweep #: 5\n"
     ]
    },
    {
     "data": {
      "image/png": "[encoded data removed]",
      "text/plain": [
       "<Figure size 1080x360 with 1 Axes>"
      ]
     },
     "metadata": {
      "needs_background": "light"
     },
     "output_type": "display_data"
    },
    {
     "data": {
      "image/png": "[encoded data removed]",
      "text/plain": [
       "<Figure size 1080x360 with 1 Axes>"
      ]
     },
     "metadata": {
      "needs_background": "light"
     },
     "output_type": "display_data"
    },
    {
     "name": "stdout",
     "output_type": "stream",
     "text": [
      "|VDL-VDR|:  0.0002\n",
      "mean diff of diff L-R: 0.23968\n",
      "std diff of diff L-R: 0.23593\n",
      "Sweep #: 6\n",
      "|VDL-VDR|:  0.0002\n",
      "mean diff of diff L-R: 0.19174\n",
      "std diff of diff L-R: 0.23178\n",
      "Sweep #: 7\n"
     ]
    },
    {
     "ename": "VisaIOError",
     "evalue": "VI_ERROR_CONN_LOST (-1073807194): The connection for the given session has been lost.",
     "output_type": "error",
     "traceback": [
      "\u001b[1;31m---------------------------------------------------------------------------\u001b[0m",
      "\u001b[1;31mVisaIOError\u001b[0m                               Traceback (most recent call last)",
      "Input \u001b[1;32mIn [61]\u001b[0m, in \u001b[0;36m<cell line: 1>\u001b[1;34m()\u001b[0m\n\u001b[1;32m----> 1\u001b[0m diode_df, mean_diff \u001b[38;5;241m=\u001b[39m \u001b[43mstability_test\u001b[49m\u001b[43m(\u001b[49m\u001b[38;5;124;43m'\u001b[39;49m\u001b[38;5;124;43mCH1\u001b[39;49m\u001b[38;5;124;43m'\u001b[39;49m\u001b[43m,\u001b[49m\u001b[43m \u001b[49m\u001b[38;5;124;43m'\u001b[39;49m\u001b[38;5;124;43mCH3\u001b[39;49m\u001b[38;5;124;43m'\u001b[39;49m\u001b[43m,\u001b[49m\u001b[43m \u001b[49m\u001b[38;5;124;43m'\u001b[39;49m\u001b[38;5;124;43mCH2\u001b[39;49m\u001b[38;5;124;43m'\u001b[39;49m\u001b[43m,\u001b[49m\u001b[43m \u001b[49m\u001b[43msmu\u001b[49m\u001b[43m,\u001b[49m\u001b[43mdiode_df\u001b[49m\u001b[43m,\u001b[49m\u001b[43mmean_diff\u001b[49m\u001b[43m,\u001b[49m\u001b[38;5;124;43m'\u001b[39;49m\u001b[38;5;124;43msensing\u001b[39;49m\u001b[38;5;124;43m'\u001b[39;49m\u001b[43m,\u001b[49m\u001b[43mcouple\u001b[49m\u001b[43m,\u001b[49m\u001b[43mDUT\u001b[49m\u001b[43m,\u001b[49m\u001b[43mTOT\u001b[49m\u001b[43m,\u001b[49m\u001b[43mmax_steps\u001b[49m\u001b[43m \u001b[49m\u001b[38;5;241;43m=\u001b[39;49m\u001b[43m \u001b[49m\u001b[38;5;241;43m10\u001b[39;49m\u001b[43m,\u001b[49m\u001b[43mresting_time\u001b[49m\u001b[38;5;241;43m=\u001b[39;49m\u001b[38;5;241;43m10\u001b[39;49m\u001b[43m)\u001b[49m\n",
      "File \u001b[1;32m~\\Desktop\\TesiStanford\\repo\\WearS\\Sensing\\..\\tests_.py:124\u001b[0m, in \u001b[0;36mstability_test\u001b[1;34m(L, R, C, smu, diode_df, mean_diff, mode, couple, DUT, TOT, max_steps, resting_time)\u001b[0m\n\u001b[0;32m    121\u001b[0m     utils\u001b[38;5;241m.\u001b[39mplot_max_values(diode_df, [\u001b[38;5;124m'\u001b[39m\u001b[38;5;124mbaseline\u001b[39m\u001b[38;5;124m'\u001b[39m], couple, step, DUT, TOT, mode\u001b[38;5;241m=\u001b[39m\u001b[38;5;241m3\u001b[39m)\n\u001b[0;32m    123\u001b[0m \u001b[38;5;66;03m# Perform diode connection and calculate mean differences\u001b[39;00m\n\u001b[1;32m--> 124\u001b[0m diode_df\u001b[38;5;241m.\u001b[39mappend(\u001b[43msmu\u001b[49m\u001b[38;5;241;43m.\u001b[39;49m\u001b[43mdiode_connection\u001b[49m\u001b[43m(\u001b[49m\u001b[43mL\u001b[49m\u001b[43m,\u001b[49m\u001b[43m \u001b[49m\u001b[43mR\u001b[49m\u001b[43m,\u001b[49m\u001b[43m \u001b[49m\u001b[43mC\u001b[49m\u001b[43m,\u001b[49m\u001b[43m \u001b[49m\u001b[38;5;124;43m'\u001b[39;49m\u001b[38;5;124;43m0\u001b[39;49m\u001b[38;5;124;43m'\u001b[39;49m\u001b[43m,\u001b[49m\u001b[43m \u001b[49m\u001b[43mcurrent_stop\u001b[49m\u001b[43m,\u001b[49m\u001b[43m \u001b[49m\u001b[38;5;124;43m'\u001b[39;49m\u001b[38;5;124;43m5E-09\u001b[39;49m\u001b[38;5;124;43m'\u001b[39;49m\u001b[43m)\u001b[49m)\n\u001b[0;32m    125\u001b[0m diff \u001b[38;5;241m=\u001b[39m \u001b[38;5;28mabs\u001b[39m((diode_df[step\u001b[38;5;241m-\u001b[39m\u001b[38;5;241m2\u001b[39m][\u001b[38;5;124m'\u001b[39m\u001b[38;5;124mVDL\u001b[39m\u001b[38;5;124m'\u001b[39m]\u001b[38;5;241m.\u001b[39miloc[\u001b[38;5;241m-\u001b[39m\u001b[38;5;241m10\u001b[39m:] \u001b[38;5;241m-\u001b[39m diode_df[step\u001b[38;5;241m-\u001b[39m\u001b[38;5;241m2\u001b[39m][\u001b[38;5;124m'\u001b[39m\u001b[38;5;124mVDR\u001b[39m\u001b[38;5;124m'\u001b[39m]\u001b[38;5;241m.\u001b[39miloc[\u001b[38;5;241m-\u001b[39m\u001b[38;5;241m10\u001b[39m:]) \u001b[38;5;241m-\u001b[39m \n\u001b[0;32m    126\u001b[0m            (diode_df[step\u001b[38;5;241m-\u001b[39m\u001b[38;5;241m1\u001b[39m][\u001b[38;5;124m'\u001b[39m\u001b[38;5;124mVDL\u001b[39m\u001b[38;5;124m'\u001b[39m]\u001b[38;5;241m.\u001b[39miloc[\u001b[38;5;241m-\u001b[39m\u001b[38;5;241m10\u001b[39m:] \u001b[38;5;241m-\u001b[39m diode_df[step\u001b[38;5;241m-\u001b[39m\u001b[38;5;241m1\u001b[39m][\u001b[38;5;124m'\u001b[39m\u001b[38;5;124mVDR\u001b[39m\u001b[38;5;124m'\u001b[39m]\u001b[38;5;241m.\u001b[39miloc[\u001b[38;5;241m-\u001b[39m\u001b[38;5;241m10\u001b[39m:]))\u001b[38;5;241m.\u001b[39mmean() \u001b[38;5;66;03m#mean (|VDL-VDR|_step(i)-|VDL-VDR|_step(i-1)) of the last 10 values\u001b[39;00m\n\u001b[0;32m    127\u001b[0m VDL_VDR \u001b[38;5;241m=\u001b[39m \u001b[38;5;28mabs\u001b[39m((diode_df[step\u001b[38;5;241m-\u001b[39m\u001b[38;5;241m1\u001b[39m][\u001b[38;5;124m'\u001b[39m\u001b[38;5;124mVDL\u001b[39m\u001b[38;5;124m'\u001b[39m]\u001b[38;5;241m.\u001b[39miloc[\u001b[38;5;241m-\u001b[39m\u001b[38;5;241m10\u001b[39m:] \u001b[38;5;241m-\u001b[39m diode_df[step\u001b[38;5;241m-\u001b[39m\u001b[38;5;241m1\u001b[39m][\u001b[38;5;124m'\u001b[39m\u001b[38;5;124mVDR\u001b[39m\u001b[38;5;124m'\u001b[39m]\u001b[38;5;241m.\u001b[39miloc[\u001b[38;5;241m-\u001b[39m\u001b[38;5;241m10\u001b[39m:]))\u001b[38;5;241m.\u001b[39mmean()  \u001b[38;5;66;03m#mean |VDL-VDR| of the last 10 values\u001b[39;00m\n",
      "File \u001b[1;32m~\\Desktop\\TesiStanford\\repo\\WearS\\Sensing\\..\\keithleyAPI.py:328\u001b[0m, in \u001b[0;36mCommunications.diode_connection\u001b[1;34m(self, Left, Right, Common, current_start, current_stop, step)\u001b[0m\n\u001b[0;32m    326\u001b[0m \u001b[38;5;66;03m#print(status)\u001b[39;00m\n\u001b[0;32m    327\u001b[0m \u001b[38;5;28;01mwhile\u001b[39;00m \u001b[38;5;28mint\u001b[39m(status) \u001b[38;5;241m!=\u001b[39m \u001b[38;5;241m1\u001b[39m:\n\u001b[1;32m--> 328\u001b[0m     status \u001b[38;5;241m=\u001b[39m \u001b[38;5;28;43mself\u001b[39;49m\u001b[38;5;241;43m.\u001b[39;49m\u001b[43m_instrument_object\u001b[49m\u001b[38;5;241;43m.\u001b[39;49m\u001b[43mquery\u001b[49m\u001b[43m(\u001b[49m\u001b[38;5;124;43m\"\u001b[39;49m\u001b[38;5;124;43mSP\u001b[39;49m\u001b[38;5;124;43m\"\u001b[39;49m\u001b[43m)\u001b[49m\n\u001b[0;32m    329\u001b[0m     \u001b[38;5;66;03m#print(status)\u001b[39;00m\n\u001b[0;32m    330\u001b[0m     time\u001b[38;5;241m.\u001b[39msleep(\u001b[38;5;241m1\u001b[39m)\n",
      "File \u001b[1;32m~\\anaconda3\\envs\\ada\\lib\\site-packages\\pyvisa\\resources\\messagebased.py:641\u001b[0m, in \u001b[0;36mMessageBasedResource.query\u001b[1;34m(self, message, delay)\u001b[0m\n\u001b[0;32m    624\u001b[0m \u001b[38;5;28;01mdef\u001b[39;00m \u001b[38;5;21mquery\u001b[39m(\u001b[38;5;28mself\u001b[39m, message: \u001b[38;5;28mstr\u001b[39m, delay: Optional[\u001b[38;5;28mfloat\u001b[39m] \u001b[38;5;241m=\u001b[39m \u001b[38;5;28;01mNone\u001b[39;00m) \u001b[38;5;241m-\u001b[39m\u001b[38;5;241m>\u001b[39m \u001b[38;5;28mstr\u001b[39m:\n\u001b[0;32m    625\u001b[0m     \u001b[38;5;124;03m\"\"\"A combination of write(message) and read()\u001b[39;00m\n\u001b[0;32m    626\u001b[0m \n\u001b[0;32m    627\u001b[0m \u001b[38;5;124;03m    Parameters\u001b[39;00m\n\u001b[1;32m   (...)\u001b[0m\n\u001b[0;32m    639\u001b[0m \n\u001b[0;32m    640\u001b[0m \u001b[38;5;124;03m    \"\"\"\u001b[39;00m\n\u001b[1;32m--> 641\u001b[0m     \u001b[38;5;28;43mself\u001b[39;49m\u001b[38;5;241;43m.\u001b[39;49m\u001b[43mwrite\u001b[49m\u001b[43m(\u001b[49m\u001b[43mmessage\u001b[49m\u001b[43m)\u001b[49m\n\u001b[0;32m    643\u001b[0m     delay \u001b[38;5;241m=\u001b[39m \u001b[38;5;28mself\u001b[39m\u001b[38;5;241m.\u001b[39mquery_delay \u001b[38;5;28;01mif\u001b[39;00m delay \u001b[38;5;129;01mis\u001b[39;00m \u001b[38;5;28;01mNone\u001b[39;00m \u001b[38;5;28;01melse\u001b[39;00m delay\n\u001b[0;32m    644\u001b[0m     \u001b[38;5;28;01mif\u001b[39;00m delay \u001b[38;5;241m>\u001b[39m \u001b[38;5;241m0.0\u001b[39m:\n",
      "File \u001b[1;32m~\\anaconda3\\envs\\ada\\lib\\site-packages\\pyvisa\\resources\\messagebased.py:196\u001b[0m, in \u001b[0;36mMessageBasedResource.write\u001b[1;34m(self, message, termination, encoding)\u001b[0m\n\u001b[0;32m    190\u001b[0m         warnings\u001b[38;5;241m.\u001b[39mwarn(\n\u001b[0;32m    191\u001b[0m             \u001b[38;5;124m\"\u001b[39m\u001b[38;5;124mwrite message already ends with \u001b[39m\u001b[38;5;124m\"\u001b[39m \u001b[38;5;124m\"\u001b[39m\u001b[38;5;124mtermination characters\u001b[39m\u001b[38;5;124m\"\u001b[39m,\n\u001b[0;32m    192\u001b[0m             stacklevel\u001b[38;5;241m=\u001b[39m\u001b[38;5;241m2\u001b[39m,\n\u001b[0;32m    193\u001b[0m         )\n\u001b[0;32m    194\u001b[0m     message \u001b[38;5;241m+\u001b[39m\u001b[38;5;241m=\u001b[39m term\n\u001b[1;32m--> 196\u001b[0m count \u001b[38;5;241m=\u001b[39m \u001b[38;5;28;43mself\u001b[39;49m\u001b[38;5;241;43m.\u001b[39;49m\u001b[43mwrite_raw\u001b[49m\u001b[43m(\u001b[49m\u001b[43mmessage\u001b[49m\u001b[38;5;241;43m.\u001b[39;49m\u001b[43mencode\u001b[49m\u001b[43m(\u001b[49m\u001b[43menco\u001b[49m\u001b[43m)\u001b[49m\u001b[43m)\u001b[49m\n\u001b[0;32m    198\u001b[0m \u001b[38;5;28;01mreturn\u001b[39;00m count\n",
      "File \u001b[1;32m~\\anaconda3\\envs\\ada\\lib\\site-packages\\pyvisa\\resources\\messagebased.py:156\u001b[0m, in \u001b[0;36mMessageBasedResource.write_raw\u001b[1;34m(self, message)\u001b[0m\n\u001b[0;32m    142\u001b[0m \u001b[38;5;28;01mdef\u001b[39;00m \u001b[38;5;21mwrite_raw\u001b[39m(\u001b[38;5;28mself\u001b[39m, message: \u001b[38;5;28mbytes\u001b[39m) \u001b[38;5;241m-\u001b[39m\u001b[38;5;241m>\u001b[39m \u001b[38;5;28mint\u001b[39m:\n\u001b[0;32m    143\u001b[0m     \u001b[38;5;124;03m\"\"\"Write a byte message to the device.\u001b[39;00m\n\u001b[0;32m    144\u001b[0m \n\u001b[0;32m    145\u001b[0m \u001b[38;5;124;03m    Parameters\u001b[39;00m\n\u001b[1;32m   (...)\u001b[0m\n\u001b[0;32m    154\u001b[0m \n\u001b[0;32m    155\u001b[0m \u001b[38;5;124;03m    \"\"\"\u001b[39;00m\n\u001b[1;32m--> 156\u001b[0m     \u001b[38;5;28;01mreturn\u001b[39;00m \u001b[38;5;28;43mself\u001b[39;49m\u001b[38;5;241;43m.\u001b[39;49m\u001b[43mvisalib\u001b[49m\u001b[38;5;241;43m.\u001b[39;49m\u001b[43mwrite\u001b[49m\u001b[43m(\u001b[49m\u001b[38;5;28;43mself\u001b[39;49m\u001b[38;5;241;43m.\u001b[39;49m\u001b[43msession\u001b[49m\u001b[43m,\u001b[49m\u001b[43m \u001b[49m\u001b[43mmessage\u001b[49m\u001b[43m)\u001b[49m[\u001b[38;5;241m0\u001b[39m]\n",
      "File \u001b[1;32m~\\anaconda3\\envs\\ada\\lib\\site-packages\\pyvisa\\ctwrapper\\functions.py:2795\u001b[0m, in \u001b[0;36mwrite\u001b[1;34m(library, session, data)\u001b[0m\n\u001b[0;32m   2793\u001b[0m return_count \u001b[38;5;241m=\u001b[39m ViUInt32()\n\u001b[0;32m   2794\u001b[0m \u001b[38;5;66;03m# [ViSession, ViBuf, ViUInt32, ViPUInt32]\u001b[39;00m\n\u001b[1;32m-> 2795\u001b[0m ret \u001b[38;5;241m=\u001b[39m \u001b[43mlibrary\u001b[49m\u001b[38;5;241;43m.\u001b[39;49m\u001b[43mviWrite\u001b[49m\u001b[43m(\u001b[49m\u001b[43msession\u001b[49m\u001b[43m,\u001b[49m\u001b[43m \u001b[49m\u001b[43mdata\u001b[49m\u001b[43m,\u001b[49m\u001b[43m \u001b[49m\u001b[38;5;28;43mlen\u001b[39;49m\u001b[43m(\u001b[49m\u001b[43mdata\u001b[49m\u001b[43m)\u001b[49m\u001b[43m,\u001b[49m\u001b[43m \u001b[49m\u001b[43mbyref\u001b[49m\u001b[43m(\u001b[49m\u001b[43mreturn_count\u001b[49m\u001b[43m)\u001b[49m\u001b[43m)\u001b[49m\n\u001b[0;32m   2796\u001b[0m \u001b[38;5;28;01mreturn\u001b[39;00m return_count\u001b[38;5;241m.\u001b[39mvalue, ret\n",
      "File \u001b[1;32m~\\anaconda3\\envs\\ada\\lib\\site-packages\\pyvisa\\ctwrapper\\highlevel.py:226\u001b[0m, in \u001b[0;36mIVIVisaLibrary._return_handler\u001b[1;34m(self, ret_value, func, arguments)\u001b[0m\n\u001b[0;32m    223\u001b[0m         \u001b[38;5;66;03m# Set session back to a safe value\u001b[39;00m\n\u001b[0;32m    224\u001b[0m         session \u001b[38;5;241m=\u001b[39m \u001b[38;5;28;01mNone\u001b[39;00m\n\u001b[1;32m--> 226\u001b[0m \u001b[38;5;28;01mreturn\u001b[39;00m \u001b[38;5;28;43mself\u001b[39;49m\u001b[38;5;241;43m.\u001b[39;49m\u001b[43mhandle_return_value\u001b[49m\u001b[43m(\u001b[49m\u001b[43msession\u001b[49m\u001b[43m,\u001b[49m\u001b[43m \u001b[49m\u001b[43mret_value\u001b[49m\u001b[43m)\u001b[49m\n",
      "File \u001b[1;32m~\\anaconda3\\envs\\ada\\lib\\site-packages\\pyvisa\\highlevel.py:251\u001b[0m, in \u001b[0;36mVisaLibraryBase.handle_return_value\u001b[1;34m(self, session, status_code)\u001b[0m\n\u001b[0;32m    248\u001b[0m     \u001b[38;5;28mself\u001b[39m\u001b[38;5;241m.\u001b[39m_last_status_in_session[session] \u001b[38;5;241m=\u001b[39m rv\n\u001b[0;32m    250\u001b[0m \u001b[38;5;28;01mif\u001b[39;00m rv \u001b[38;5;241m<\u001b[39m \u001b[38;5;241m0\u001b[39m:\n\u001b[1;32m--> 251\u001b[0m     \u001b[38;5;28;01mraise\u001b[39;00m errors\u001b[38;5;241m.\u001b[39mVisaIOError(rv)\n\u001b[0;32m    253\u001b[0m \u001b[38;5;28;01mif\u001b[39;00m rv \u001b[38;5;129;01min\u001b[39;00m \u001b[38;5;28mself\u001b[39m\u001b[38;5;241m.\u001b[39missue_warning_on:\n\u001b[0;32m    254\u001b[0m     \u001b[38;5;28;01mif\u001b[39;00m session \u001b[38;5;129;01mand\u001b[39;00m rv \u001b[38;5;129;01mnot\u001b[39;00m \u001b[38;5;129;01min\u001b[39;00m \u001b[38;5;28mself\u001b[39m\u001b[38;5;241m.\u001b[39m_ignore_warning_in_session[session]:\n",
      "\u001b[1;31mVisaIOError\u001b[0m: VI_ERROR_CONN_LOST (-1073807194): The connection for the given session has been lost."
     ]
    }
   ],
   "source": [
    " diode_df, mean_diff = stability_test('CH1', 'CH3', 'CH2', smu,diode_df,mean_diff,'sensing',couple,DUT,TOT,max_steps = 10,resting_time=10)"
   ]
  },
  {
   "cell_type": "code",
   "execution_count": 17,
   "id": "9154021a-7ed6-4854-a0a4-bf92723ed5e7",
   "metadata": {},
   "outputs": [
    {
     "name": "stdout",
     "output_type": "stream",
     "text": [
      "The directory doesn't exist\n",
      "C:\\Users\\Desi\\Desktop\\TesiStanford\\repo\\WearS\\Sensing\\03192024-d030824-IIIr2c3-DiodeConnected_StabilityforAptamerSensing-CT\n"
     ]
    },
    {
     "data": {
      "text/plain": [
       "'03192024-d030824-IIIr2c3-DiodeConnected_StabilityforAptamerSensing-CT'"
      ]
     },
     "execution_count": 17,
     "metadata": {},
     "output_type": "execute_result"
    }
   ],
   "source": [
    "utils.save_xls(diode_df, DUT+couple,TOT,additional_comment= '80sweeps', mode = 2)"
   ]
  },
  {
   "cell_type": "markdown",
   "id": "f1b50dcb-c37e-4bd9-8c2a-59f932d382f0",
   "metadata": {},
   "source": [
    "#### Run the following cell to plot the max values in time for the last sweeps"
   ]
  },
  {
   "cell_type": "code",
   "execution_count": null,
   "id": "35e8fa2e-ecbf-4dd0-a26b-aba605ae662d",
   "metadata": {},
   "outputs": [],
   "source": [
    "utils.plot_max_values(diode_df,['baseline'],couple,1,DUT,TOT,3,r'C:\\Users\\Desi\\Desktop\\TesiStanford\\images-results')"
   ]
  },
  {
   "cell_type": "markdown",
   "id": "e9386c73-2f11-44f6-96db-ea3753c8a875",
   "metadata": {},
   "source": [
    "#### Plot Diode Connection"
   ]
  },
  {
   "cell_type": "code",
   "execution_count": 9,
   "id": "ca5a692e-f0da-4012-96b7-08fc206e0ef1",
   "metadata": {},
   "outputs": [
    {
     "data": {
      "text/plain": [
       "<matplotlib.legend.Legend at 0x1bec0f6d040>"
      ]
     },
     "execution_count": 9,
     "metadata": {},
     "output_type": "execute_result"
    },
    {
     "data": {
      "image/png": "[encoded data removed]",
      "text/plain": [
       "<Figure size 576x576 with 2 Axes>"
      ]
     },
     "metadata": {
      "needs_background": "light"
     },
     "output_type": "display_data"
    }
   ],
   "source": [
    "# plot DiodeConnection\n",
    "fig, ax1 = plt.subplots(figsize=(8, 8))\n",
    "ax2 = ax1.twinx()\n",
    "\n",
    "ax1.plot(diode_df[-1]['IDL'], diode_df[-1]['VDL'], color = 'blue', label = 'VDL')\n",
    "ax1.set_ylabel('VdLeft [V]')\n",
    "ax2.plot(diode_df[-1]['IDL'], diode_df[-1]['VDR'], color = 'red', label = 'VDR')\n",
    "ax2.set_ylabel('VdRight [V]')\n",
    "plt.grid()\n",
    "ax1.set_xlabel('Id [A]')\n",
    "plt.title('Diode Connected - Single Sweep')\n",
    "ax1.legend()\n",
    "ax2.legend(loc = 1)\n"
   ]
  },
  {
   "cell_type": "markdown",
   "id": "fa1e4376-bda7-4ba6-9ff2-dc3f21ed0a9c",
   "metadata": {},
   "source": [
    "# Sensing Test"
   ]
  },
  {
   "cell_type": "markdown",
   "id": "617594aa-9080-417e-a08c-c974464a8088",
   "metadata": {},
   "source": [
    "### Run the following two cells only one time!"
   ]
  },
  {
   "cell_type": "code",
   "execution_count": 21,
   "id": "9979bb4b-cc29-4aa0-ae17-c896bfdb423c",
   "metadata": {},
   "outputs": [],
   "source": [
    "meandiff = []\n",
    "stddiff = []\n",
    "diode_dict_list = {} # dictionary where to store the list with the 20 sweeps of all the concentrations\n",
    "diode_df_dict = {} # dictionary where to store the df with the 20 sweeps of all the concentrations\n",
    "mean_std = [] #list where to store the mean and std of the òast 5 values of the last Nvalidsteps\n",
    "mean_std_L = []\n",
    "mean_std_R = []\n",
    "baseline = 0"
   ]
  },
  {
   "cell_type": "code",
   "execution_count": 22,
   "id": "24bc0d80-0d42-40c0-aeee-582f7f7d5ce9",
   "metadata": {},
   "outputs": [],
   "source": [
    "k = 0 # 10pM\n",
    "conc = ['baseline','1pM','10pM','100pM','1nM','10nM','100nM','1uM']\n",
    "#conc = ['1mM','2mM','4mM','8mM','16mM','32mM']"
   ]
  },
  {
   "cell_type": "code",
   "execution_count": 23,
   "id": "5a8a6d02-5290-4940-9169-8034cc51c72b",
   "metadata": {},
   "outputs": [],
   "source": [
    "conc = ['10mM','20mM','40mM','80mM','160mM','16mMK','32mMK']\n",
    "#conc = ['1mM','2mM','4mM','8mM','10mMNa','16mM','20mMNa','32mM']\n",
    "#conc = ['baseline','1pM_CT','1pM_MT','10pM_CT','10pM_MT','100pM_CT','100pM_MT','1nM_CT','1nM_MT','10nM_CT','10nM_MT','100nM_CT','100nM_MT','1uM_CT','1uM_MT']\n",
    "#conc = ['baseline','1pM','10pM','100pM','1nM','10nM','100nM','1uM','1nM-MT','100nm_MT']"
   ]
  },
  {
   "cell_type": "markdown",
   "id": "44ebb42e-4930-445c-b34f-aa6c8d6be1c9",
   "metadata": {},
   "source": [
    "### Run all the following cells until 'END' every time you change concentration"
   ]
  },
  {
   "cell_type": "code",
   "execution_count": 24,
   "id": "c138037f-ece4-4510-bd57-a026f588473f",
   "metadata": {},
   "outputs": [],
   "source": [
    "#baseline = 200 010324"
   ]
  },
  {
   "cell_type": "code",
   "execution_count": 45,
   "id": "ee82b438-7334-4702-8f9f-a8b0f07be15b",
   "metadata": {
    "tags": []
   },
   "outputs": [
    {
     "name": "stdout",
     "output_type": "stream",
     "text": [
      "Run #: 1\n",
      "Run #: 2\n",
      "Run #: 3\n",
      "Run #: 4\n",
      "Run #: 5\n",
      "Run #: 6\n",
      "Run #: 7\n",
      "Run #: 8\n",
      "Run #: 9\n",
      "Run #: 10\n",
      "Run #: 11\n",
      "Run #: 12\n",
      "Run #: 13\n",
      "Run #: 14\n",
      "Run #: 15\n",
      "Run #: 16\n",
      "Run #: 17\n",
      "Run #: 18\n",
      "Run #: 19\n",
      "Run #: 20\n",
      "The directory exists\n",
      "C:\\Users\\Desi\\Desktop\\TesiStanford\\repo\\WearS\\Sensing\\03212024-d030824-I-DiodeConnected_SensingTest-Na\n",
      "[[0.0, 0.00035175749222064734], [0.007080000000000197, 0.0016287827765952725], [0.008439999999999781, 0.001826800481716589], [0.004596666666667026, 0.0014814144892260407], [0.007909999999999862, 0.0004514790508243616]]\n"
     ]
    }
   ],
   "source": [
    "TOT = 'DiodeConnected_SensingTest-Na' #Type Of Test\n",
    "k, diode_df_dict, diode_dict_list, mean_std, mean_std_L, mean_std_R, folder, baseline = sensing_test('CH1', 'CH3', 'CH2', smu,k, conc, diode_df_dict, diode_dict_list, mean_std, mean_std_L, mean_std_R,DUT, TOT, couple, baseline)"
   ]
  },
  {
   "cell_type": "code",
   "execution_count": 46,
   "id": "3898ff49-f894-4325-854c-ad9dc23ac99d",
   "metadata": {},
   "outputs": [
    {
     "data": {
      "image/png": "[encoded data removed]",
      "text/plain": [
       "<Figure size 1080x360 with 1 Axes>"
      ]
     },
     "metadata": {
      "needs_background": "light"
     },
     "output_type": "display_data"
    },
    {
     "data": {
      "image/png": "[encoded data removed]",
      "text/plain": [
       "<Figure size 1080x360 with 1 Axes>"
      ]
     },
     "metadata": {
      "needs_background": "light"
     },
     "output_type": "display_data"
    },
    {
     "data": {
      "image/png": "[encoded data removed]",
      "text/plain": [
       "<Figure size 841.68x594.72 with 1 Axes>"
      ]
     },
     "metadata": {
      "needs_background": "light"
     },
     "output_type": "display_data"
    }
   ],
   "source": [
    "# printing the mean and the std of the last 5 values of the 20 sweeps. Each [] represents a concentration\n",
    "\n",
    "# plotting change of MAx values in time for different concentrations\n",
    "TOT = 'changeMaxDiffvaluesintime'\n",
    "utils.plot_max_values(diode_df_dict,conc,couple,1,DUT,TOT, mode = 1)\n",
    "\n",
    "# plotting change of Mx values in time for different concentrations for left and right electrodes\n",
    "TOT = 'changeMaxDiffvaluesintime-LR'\n",
    "utils.plot_max_values(diode_df_dict,conc,couple,1,DUT,TOT, mode = 2)\n",
    "\n",
    "# plotting mean and std of the diff for different concentrations\n",
    "utils.plot_mean_std(len(mean_std), mean_std_L,mean_std_R, mean_std, conc, couple, folder)\n",
    "\n"
   ]
  },
  {
   "cell_type": "markdown",
   "id": "5a43ea28-b4b0-41a8-8ee5-c288e6c620d0",
   "metadata": {},
   "source": [
    "#### Interactive plot"
   ]
  },
  {
   "cell_type": "code",
   "execution_count": 47,
   "id": "f4e3fa94-1e87-4c91-910f-81667fe026ba",
   "metadata": {
    "tags": []
   },
   "outputs": [
    {
     "data": {
      "application/vnd.plotly.v1+json": {
       "config": {
        "plotlyServerURL": "https://plot.ly"
       },
       "data": [
        {
         "hovertemplate": "x=%{x}<br>VDL=%{y}<extra></extra>",
         "legendgroup": "",
         "marker": {
          "color": "#636efa",
          "symbol": "circle"
         },
         "mode": "markers",
         "name": "VDL",
         "orientation": "v",
         "showlegend": true,
         "type": "scatter",
         "x": [
          0,
          1,
          2,
          3,
          4,
          5,
          6,
          7,
          8,
          9,
          10,
          11,
          12,
          13,
          14,
          15,
          16,
          17,
          18,
          19,
          20,
          21,
          22,
          23,
          24,
          25,
          26,
          27,
          28,
          29,
          30,
          31,
          32,
          33,
          34,
          35,
          36,
          37,
          38,
          39,
          40,
          41,
          42,
          43,
          44,
          45,
          46,
          47,
          48,
          49,
          50,
          51,
          52,
          53,
          54,
          55,
          56,
          57,
          58,
          59,
          60,
          61,
          62,
          63,
          64,
          65,
          66,
          67,
          68,
          69,
          70,
          71,
          72,
          73,
          74,
          75,
          76,
          77,
          78,
          79,
          80,
          81,
          82,
          83,
          84,
          85,
          86,
          87,
          88,
          89,
          90,
          91,
          92,
          93,
          94,
          95,
          96,
          97,
          98,
          99
         ],
         "xaxis": "x",
         "y": [
          0,
          0.02200000000000024,
          0.0036000000000000476,
          0.0032999999999998586,
          -0.005700000000000038,
          0.00649999999999995,
          -0.005700000000000038,
          -0.014600000000000168,
          -0.0005999999999999339,
          -0.005900000000000016,
          0.002200000000000202,
          0.006400000000000183,
          0.0030999999999998806,
          0.006099999999999994,
          0.00019999999999997797,
          0.005599999999999827,
          -0.01869999999999994,
          0.0019000000000000128,
          -0.0036000000000000476,
          0.010299999999999976,
          0.023299999999999876,
          -0.006400000000000183,
          -0.020099999999999785,
          -0.0028999999999999027,
          -0.007400000000000073,
          0.010299999999999976,
          0.0034000000000000696,
          -0.013199999999999878,
          0.006699999999999928,
          -0.011099999999999888,
          -0.017300000000000093,
          0.01540000000000008,
          0.00649999999999995,
          -0.005799999999999805,
          -0.000500000000000167,
          -0.0011999999999998678,
          0.0024000000000001798,
          -0.010299999999999976,
          -0.0028000000000001357,
          0.008100000000000218,
          -0.025900000000000034,
          0.0024000000000001798,
          0.009300000000000086,
          0.012900000000000134,
          0.014699999999999935,
          0.02300000000000013,
          0.011499999999999844,
          0.000300000000000189,
          0.010099999999999998,
          0.009799999999999809,
          -0.0009999999999998899,
          -0.005799999999999805,
          -0.008999999999999897,
          -0.008999999999999897,
          -0.009300000000000086,
          -0.00749999999999984,
          -0.0047000000000001485,
          0.0028000000000001357,
          0.0045000000000001705,
          0.0045999999999999375,
          0.019200000000000106,
          0.0024999999999999467,
          0.006600000000000161,
          0.005199999999999871,
          -0.0009999999999998899,
          0.008500000000000174,
          0.0007999999999999119,
          -0.009399999999999853,
          -0.01100000000000012,
          -0.01529999999999987,
          -0.005900000000000016,
          -0.01849999999999996,
          -0.017599999999999838,
          -0.014600000000000168,
          -0.0015999999999998238,
          -0.019200000000000106,
          -0.02079999999999993,
          -0.007299999999999862,
          -0.016799999999999926,
          -0.008599999999999941,
          0,
          -0.00649999999999995,
          -0.006600000000000161,
          -0.01399999999999979,
          -0.031200000000000117,
          -0.021399999999999864,
          -0.017100000000000115,
          -0.022699999999999942,
          -0.010800000000000143,
          -0.008000000000000007,
          -0.02729999999999988,
          -0.007699999999999818,
          -0.006899999999999906,
          -0.007699999999999818,
          -0.0028000000000001357,
          -0.0017000000000000348,
          0.0013999999999998458,
          0.0043000000000001926,
          0.005900000000000016,
          0.006099999999999994
         ],
         "yaxis": "y"
        },
        {
         "mode": "markers",
         "name": "VDR",
         "type": "scatter",
         "x": [
          0,
          1,
          2,
          3,
          4,
          5,
          6,
          7,
          8,
          9,
          10,
          11,
          12,
          13,
          14,
          15,
          16,
          17,
          18,
          19,
          20,
          21,
          22,
          23,
          24,
          25,
          26,
          27,
          28,
          29,
          30,
          31,
          32,
          33,
          34,
          35,
          36,
          37,
          38,
          39,
          40,
          41,
          42,
          43,
          44,
          45,
          46,
          47,
          48,
          49,
          50,
          51,
          52,
          53,
          54,
          55,
          56,
          57,
          58,
          59,
          60,
          61,
          62,
          63,
          64,
          65,
          66,
          67,
          68,
          69,
          70,
          71,
          72,
          73,
          74,
          75,
          76,
          77,
          78,
          79,
          80,
          81,
          82,
          83,
          84,
          85,
          86,
          87,
          88,
          89,
          90,
          91,
          92,
          93,
          94,
          95,
          96,
          97,
          98,
          99
         ],
         "y": [
          0,
          0.022400000000000198,
          0.0043000000000001926,
          0.0032999999999998586,
          -0.005700000000000038,
          0.0045999999999999375,
          -0.005399999999999849,
          -0.01100000000000012,
          0,
          -0.006899999999999906,
          0.0017999999999998018,
          0.0036999999999998145,
          -0.000700000000000145,
          0.0045999999999999375,
          0.000500000000000167,
          0.005199999999999871,
          -0.01869999999999994,
          0.0019000000000000128,
          -0.0045000000000001705,
          0.010000000000000231,
          0.02010000000000023,
          -0.000500000000000167,
          -0.01330000000000009,
          -0.0032000000000000917,
          -0.008500000000000174,
          0.00749999999999984,
          0.0015999999999998238,
          -0.015600000000000058,
          0.0034000000000000696,
          -0.018899999999999917,
          -0.020700000000000163,
          0.012700000000000156,
          0.0030000000000001137,
          -0.011499999999999844,
          -0.0045999999999999375,
          -0.007299999999999862,
          -0.005999999999999783,
          -0.017799999999999816,
          -0.011099999999999888,
          0.00019999999999997797,
          -0.007299999999999862,
          -0.0026999999999999247,
          0.0028999999999999027,
          0.008199999999999985,
          0.00749999999999984,
          0.016000000000000014,
          0.006000000000000227,
          -0.008999999999999897,
          0.0024999999999999467,
          0.0024000000000001798,
          -0.008599999999999941,
          -0.014499999999999957,
          -0.01869999999999994,
          -0.018299999999999983,
          -0.021500000000000075,
          -0.015000000000000124,
          -0.010800000000000143,
          -0.00550000000000006,
          -0.0045999999999999375,
          -0.0038999999999997925,
          0.011299999999999866,
          0.000700000000000145,
          -0.004999999999999893,
          -0.008300000000000196,
          -0.014899999999999913,
          -0.0028000000000001357,
          -0.009100000000000108,
          -0.015200000000000102,
          -0.018299999999999983,
          -0.022499999999999964,
          -0.016599999999999948,
          -0.02289999999999992,
          -0.02090000000000014,
          -0.021399999999999864,
          -0.0049000000000001265,
          -0.02190000000000003,
          -0.0259999999999998,
          -0.011800000000000033,
          -0.02079999999999993,
          -0.016599999999999948,
          -0.005199999999999871,
          -0.010400000000000187,
          -0.015099999999999891,
          -0.022199999999999775,
          -0.04090000000000016,
          -0.02939999999999987,
          -0.027200000000000113,
          -0.025399999999999867,
          -0.017799999999999816,
          -0.01429999999999998,
          -0.03629999999999978,
          -0.015899999999999803,
          -0.014100000000000001,
          -0.01750000000000007,
          -0.011699999999999822,
          -0.009199999999999875,
          -0.006699999999999928,
          -0.0034999999999998366,
          -0.0015999999999998238,
          -0.0024000000000001798
         ]
        },
        {
         "mode": "markers",
         "name": "diff",
         "type": "scatter",
         "x": [
          0,
          1,
          2,
          3,
          4,
          5,
          6,
          7,
          8,
          9,
          10,
          11,
          12,
          13,
          14,
          15,
          16,
          17,
          18,
          19,
          20,
          21,
          22,
          23,
          24,
          25,
          26,
          27,
          28,
          29,
          30,
          31,
          32,
          33,
          34,
          35,
          36,
          37,
          38,
          39,
          40,
          41,
          42,
          43,
          44,
          45,
          46,
          47,
          48,
          49,
          50,
          51,
          52,
          53,
          54,
          55,
          56,
          57,
          58,
          59,
          60,
          61,
          62,
          63,
          64,
          65,
          66,
          67,
          68,
          69,
          70,
          71,
          72,
          73,
          74,
          75,
          76,
          77,
          78,
          79,
          80,
          81,
          82,
          83,
          84,
          85,
          86,
          87,
          88,
          89,
          90,
          91,
          92,
          93,
          94,
          95,
          96,
          97,
          98,
          99
         ],
         "y": [
          0,
          -0.00039999999999995595,
          -0.000700000000000145,
          0,
          0,
          0.0019000000000000128,
          -0.000300000000000189,
          -0.0036000000000000476,
          -0.0005999999999999339,
          0.0009999999999998899,
          0.00040000000000040004,
          0.0027000000000003688,
          0.0038000000000000256,
          0.0015000000000000568,
          -0.000300000000000189,
          0.00039999999999995595,
          0,
          0,
          0.0009000000000001229,
          0.0002999999999997449,
          0.0031999999999996476,
          -0.005900000000000016,
          -0.006799999999999695,
          0.000300000000000189,
          0.001100000000000101,
          0.0028000000000001357,
          0.0018000000000002458,
          0.0024000000000001798,
          0.0032999999999998586,
          0.007800000000000029,
          0.0034000000000000696,
          0.0026999999999999247,
          0.0034999999999998366,
          0.005700000000000038,
          0.0040999999999997705,
          0.006099999999999994,
          0.008399999999999963,
          0.00749999999999984,
          0.008299999999999752,
          0.00790000000000024,
          -0.018600000000000172,
          0.0051000000000001044,
          0.006400000000000183,
          0.0047000000000001485,
          0.007200000000000095,
          0.007000000000000117,
          0.005499999999999616,
          0.009300000000000086,
          0.007600000000000051,
          0.007399999999999629,
          0.007600000000000051,
          0.008700000000000152,
          0.009700000000000042,
          0.009300000000000086,
          0.012199999999999989,
          0.007500000000000284,
          0.006099999999999994,
          0.008300000000000196,
          0.009100000000000108,
          0.00849999999999973,
          0.00790000000000024,
          0.0017999999999998018,
          0.011600000000000055,
          0.013500000000000068,
          0.013900000000000023,
          0.01130000000000031,
          0.00990000000000002,
          0.005800000000000249,
          0.007299999999999862,
          0.007200000000000095,
          0.010699999999999932,
          0.0043999999999999595,
          0.0033000000000003027,
          0.006799999999999695,
          0.0033000000000003027,
          0.0026999999999999247,
          0.005199999999999871,
          0.0045000000000001705,
          0.0040000000000000036,
          0.008000000000000007,
          0.005199999999999871,
          0.0039000000000002366,
          0.00849999999999973,
          0.008199999999999985,
          0.009700000000000042,
          0.008000000000000007,
          0.010099999999999998,
          0.0026999999999999247,
          0.006999999999999673,
          0.006299999999999972,
          0.008999999999999897,
          0.008199999999999985,
          0.007200000000000095,
          0.009800000000000253,
          0.008899999999999686,
          0.00749999999999984,
          0.008099999999999774,
          0.007800000000000029,
          0.00749999999999984,
          0.008500000000000174
         ]
        }
       ],
       "layout": {
        "autosize": true,
        "legend": {
         "tracegroupgap": 0
        },
        "margin": {
         "t": 60
        },
        "template": {
         "data": {
          "bar": [
           {
            "error_x": {
             "color": "#2a3f5f"
            },
            "error_y": {
             "color": "#2a3f5f"
            },
            "marker": {
             "line": {
              "color": "#E5ECF6",
              "width": 0.5
             },
             "pattern": {
              "fillmode": "overlay",
              "size": 10,
              "solidity": 0.2
             }
            },
            "type": "bar"
           }
          ],
          "barpolar": [
           {
            "marker": {
             "line": {
              "color": "#E5ECF6",
              "width": 0.5
             },
             "pattern": {
              "fillmode": "overlay",
              "size": 10,
              "solidity": 0.2
             }
            },
            "type": "barpolar"
           }
          ],
          "carpet": [
           {
            "aaxis": {
             "endlinecolor": "#2a3f5f",
             "gridcolor": "white",
             "linecolor": "white",
             "minorgridcolor": "white",
             "startlinecolor": "#2a3f5f"
            },
            "baxis": {
             "endlinecolor": "#2a3f5f",
             "gridcolor": "white",
             "linecolor": "white",
             "minorgridcolor": "white",
             "startlinecolor": "#2a3f5f"
            },
            "type": "carpet"
           }
          ],
          "choropleth": [
           {
            "colorbar": {
             "outlinewidth": 0,
             "ticks": ""
            },
            "type": "choropleth"
           }
          ],
          "contour": [
           {
            "colorbar": {
             "outlinewidth": 0,
             "ticks": ""
            },
            "colorscale": [
             [
              0,
              "#0d0887"
             ],
             [
              0.1111111111111111,
              "#46039f"
             ],
             [
              0.2222222222222222,
              "#7201a8"
             ],
             [
              0.3333333333333333,
              "#9c179e"
             ],
             [
              0.4444444444444444,
              "#bd3786"
             ],
             [
              0.5555555555555556,
              "#d8576b"
             ],
             [
              0.6666666666666666,
              "#ed7953"
             ],
             [
              0.7777777777777778,
              "#fb9f3a"
             ],
             [
              0.8888888888888888,
              "#fdca26"
             ],
             [
              1,
              "#f0f921"
             ]
            ],
            "type": "contour"
           }
          ],
          "contourcarpet": [
           {
            "colorbar": {
             "outlinewidth": 0,
             "ticks": ""
            },
            "type": "contourcarpet"
           }
          ],
          "heatmap": [
           {
            "colorbar": {
             "outlinewidth": 0,
             "ticks": ""
            },
            "colorscale": [
             [
              0,
              "#0d0887"
             ],
             [
              0.1111111111111111,
              "#46039f"
             ],
             [
              0.2222222222222222,
              "#7201a8"
             ],
             [
              0.3333333333333333,
              "#9c179e"
             ],
             [
              0.4444444444444444,
              "#bd3786"
             ],
             [
              0.5555555555555556,
              "#d8576b"
             ],
             [
              0.6666666666666666,
              "#ed7953"
             ],
             [
              0.7777777777777778,
              "#fb9f3a"
             ],
             [
              0.8888888888888888,
              "#fdca26"
             ],
             [
              1,
              "#f0f921"
             ]
            ],
            "type": "heatmap"
           }
          ],
          "heatmapgl": [
           {
            "colorbar": {
             "outlinewidth": 0,
             "ticks": ""
            },
            "colorscale": [
             [
              0,
              "#0d0887"
             ],
             [
              0.1111111111111111,
              "#46039f"
             ],
             [
              0.2222222222222222,
              "#7201a8"
             ],
             [
              0.3333333333333333,
              "#9c179e"
             ],
             [
              0.4444444444444444,
              "#bd3786"
             ],
             [
              0.5555555555555556,
              "#d8576b"
             ],
             [
              0.6666666666666666,
              "#ed7953"
             ],
             [
              0.7777777777777778,
              "#fb9f3a"
             ],
             [
              0.8888888888888888,
              "#fdca26"
             ],
             [
              1,
              "#f0f921"
             ]
            ],
            "type": "heatmapgl"
           }
          ],
          "histogram": [
           {
            "marker": {
             "pattern": {
              "fillmode": "overlay",
              "size": 10,
              "solidity": 0.2
             }
            },
            "type": "histogram"
           }
          ],
          "histogram2d": [
           {
            "colorbar": {
             "outlinewidth": 0,
             "ticks": ""
            },
            "colorscale": [
             [
              0,
              "#0d0887"
             ],
             [
              0.1111111111111111,
              "#46039f"
             ],
             [
              0.2222222222222222,
              "#7201a8"
             ],
             [
              0.3333333333333333,
              "#9c179e"
             ],
             [
              0.4444444444444444,
              "#bd3786"
             ],
             [
              0.5555555555555556,
              "#d8576b"
             ],
             [
              0.6666666666666666,
              "#ed7953"
             ],
             [
              0.7777777777777778,
              "#fb9f3a"
             ],
             [
              0.8888888888888888,
              "#fdca26"
             ],
             [
              1,
              "#f0f921"
             ]
            ],
            "type": "histogram2d"
           }
          ],
          "histogram2dcontour": [
           {
            "colorbar": {
             "outlinewidth": 0,
             "ticks": ""
            },
            "colorscale": [
             [
              0,
              "#0d0887"
             ],
             [
              0.1111111111111111,
              "#46039f"
             ],
             [
              0.2222222222222222,
              "#7201a8"
             ],
             [
              0.3333333333333333,
              "#9c179e"
             ],
             [
              0.4444444444444444,
              "#bd3786"
             ],
             [
              0.5555555555555556,
              "#d8576b"
             ],
             [
              0.6666666666666666,
              "#ed7953"
             ],
             [
              0.7777777777777778,
              "#fb9f3a"
             ],
             [
              0.8888888888888888,
              "#fdca26"
             ],
             [
              1,
              "#f0f921"
             ]
            ],
            "type": "histogram2dcontour"
           }
          ],
          "mesh3d": [
           {
            "colorbar": {
             "outlinewidth": 0,
             "ticks": ""
            },
            "type": "mesh3d"
           }
          ],
          "parcoords": [
           {
            "line": {
             "colorbar": {
              "outlinewidth": 0,
              "ticks": ""
             }
            },
            "type": "parcoords"
           }
          ],
          "pie": [
           {
            "automargin": true,
            "type": "pie"
           }
          ],
          "scatter": [
           {
            "fillpattern": {
             "fillmode": "overlay",
             "size": 10,
             "solidity": 0.2
            },
            "type": "scatter"
           }
          ],
          "scatter3d": [
           {
            "line": {
             "colorbar": {
              "outlinewidth": 0,
              "ticks": ""
             }
            },
            "marker": {
             "colorbar": {
              "outlinewidth": 0,
              "ticks": ""
             }
            },
            "type": "scatter3d"
           }
          ],
          "scattercarpet": [
           {
            "marker": {
             "colorbar": {
              "outlinewidth": 0,
              "ticks": ""
             }
            },
            "type": "scattercarpet"
           }
          ],
          "scattergeo": [
           {
            "marker": {
             "colorbar": {
              "outlinewidth": 0,
              "ticks": ""
             }
            },
            "type": "scattergeo"
           }
          ],
          "scattergl": [
           {
            "marker": {
             "colorbar": {
              "outlinewidth": 0,
              "ticks": ""
             }
            },
            "type": "scattergl"
           }
          ],
          "scattermapbox": [
           {
            "marker": {
             "colorbar": {
              "outlinewidth": 0,
              "ticks": ""
             }
            },
            "type": "scattermapbox"
           }
          ],
          "scatterpolar": [
           {
            "marker": {
             "colorbar": {
              "outlinewidth": 0,
              "ticks": ""
             }
            },
            "type": "scatterpolar"
           }
          ],
          "scatterpolargl": [
           {
            "marker": {
             "colorbar": {
              "outlinewidth": 0,
              "ticks": ""
             }
            },
            "type": "scatterpolargl"
           }
          ],
          "scatterternary": [
           {
            "marker": {
             "colorbar": {
              "outlinewidth": 0,
              "ticks": ""
             }
            },
            "type": "scatterternary"
           }
          ],
          "surface": [
           {
            "colorbar": {
             "outlinewidth": 0,
             "ticks": ""
            },
            "colorscale": [
             [
              0,
              "#0d0887"
             ],
             [
              0.1111111111111111,
              "#46039f"
             ],
             [
              0.2222222222222222,
              "#7201a8"
             ],
             [
              0.3333333333333333,
              "#9c179e"
             ],
             [
              0.4444444444444444,
              "#bd3786"
             ],
             [
              0.5555555555555556,
              "#d8576b"
             ],
             [
              0.6666666666666666,
              "#ed7953"
             ],
             [
              0.7777777777777778,
              "#fb9f3a"
             ],
             [
              0.8888888888888888,
              "#fdca26"
             ],
             [
              1,
              "#f0f921"
             ]
            ],
            "type": "surface"
           }
          ],
          "table": [
           {
            "cells": {
             "fill": {
              "color": "#EBF0F8"
             },
             "line": {
              "color": "white"
             }
            },
            "header": {
             "fill": {
              "color": "#C8D4E3"
             },
             "line": {
              "color": "white"
             }
            },
            "type": "table"
           }
          ]
         },
         "layout": {
          "annotationdefaults": {
           "arrowcolor": "#2a3f5f",
           "arrowhead": 0,
           "arrowwidth": 1
          },
          "autotypenumbers": "strict",
          "coloraxis": {
           "colorbar": {
            "outlinewidth": 0,
            "ticks": ""
           }
          },
          "colorscale": {
           "diverging": [
            [
             0,
             "#8e0152"
            ],
            [
             0.1,
             "#c51b7d"
            ],
            [
             0.2,
             "#de77ae"
            ],
            [
             0.3,
             "#f1b6da"
            ],
            [
             0.4,
             "#fde0ef"
            ],
            [
             0.5,
             "#f7f7f7"
            ],
            [
             0.6,
             "#e6f5d0"
            ],
            [
             0.7,
             "#b8e186"
            ],
            [
             0.8,
             "#7fbc41"
            ],
            [
             0.9,
             "#4d9221"
            ],
            [
             1,
             "#276419"
            ]
           ],
           "sequential": [
            [
             0,
             "#0d0887"
            ],
            [
             0.1111111111111111,
             "#46039f"
            ],
            [
             0.2222222222222222,
             "#7201a8"
            ],
            [
             0.3333333333333333,
             "#9c179e"
            ],
            [
             0.4444444444444444,
             "#bd3786"
            ],
            [
             0.5555555555555556,
             "#d8576b"
            ],
            [
             0.6666666666666666,
             "#ed7953"
            ],
            [
             0.7777777777777778,
             "#fb9f3a"
            ],
            [
             0.8888888888888888,
             "#fdca26"
            ],
            [
             1,
             "#f0f921"
            ]
           ],
           "sequentialminus": [
            [
             0,
             "#0d0887"
            ],
            [
             0.1111111111111111,
             "#46039f"
            ],
            [
             0.2222222222222222,
             "#7201a8"
            ],
            [
             0.3333333333333333,
             "#9c179e"
            ],
            [
             0.4444444444444444,
             "#bd3786"
            ],
            [
             0.5555555555555556,
             "#d8576b"
            ],
            [
             0.6666666666666666,
             "#ed7953"
            ],
            [
             0.7777777777777778,
             "#fb9f3a"
            ],
            [
             0.8888888888888888,
             "#fdca26"
            ],
            [
             1,
             "#f0f921"
            ]
           ]
          },
          "colorway": [
           "#636efa",
           "#EF553B",
           "#00cc96",
           "#ab63fa",
           "#FFA15A",
           "#19d3f3",
           "#FF6692",
           "#B6E880",
           "#FF97FF",
           "#FECB52"
          ],
          "font": {
           "color": "#2a3f5f"
          },
          "geo": {
           "bgcolor": "white",
           "lakecolor": "white",
           "landcolor": "#E5ECF6",
           "showlakes": true,
           "showland": true,
           "subunitcolor": "white"
          },
          "hoverlabel": {
           "align": "left"
          },
          "hovermode": "closest",
          "mapbox": {
           "style": "light"
          },
          "paper_bgcolor": "white",
          "plot_bgcolor": "#E5ECF6",
          "polar": {
           "angularaxis": {
            "gridcolor": "white",
            "linecolor": "white",
            "ticks": ""
           },
           "bgcolor": "#E5ECF6",
           "radialaxis": {
            "gridcolor": "white",
            "linecolor": "white",
            "ticks": ""
           }
          },
          "scene": {
           "xaxis": {
            "backgroundcolor": "#E5ECF6",
            "gridcolor": "white",
            "gridwidth": 2,
            "linecolor": "white",
            "showbackground": true,
            "ticks": "",
            "zerolinecolor": "white"
           },
           "yaxis": {
            "backgroundcolor": "#E5ECF6",
            "gridcolor": "white",
            "gridwidth": 2,
            "linecolor": "white",
            "showbackground": true,
            "ticks": "",
            "zerolinecolor": "white"
           },
           "zaxis": {
            "backgroundcolor": "#E5ECF6",
            "gridcolor": "white",
            "gridwidth": 2,
            "linecolor": "white",
            "showbackground": true,
            "ticks": "",
            "zerolinecolor": "white"
           }
          },
          "shapedefaults": {
           "line": {
            "color": "#2a3f5f"
           }
          },
          "ternary": {
           "aaxis": {
            "gridcolor": "white",
            "linecolor": "white",
            "ticks": ""
           },
           "baxis": {
            "gridcolor": "white",
            "linecolor": "white",
            "ticks": ""
           },
           "bgcolor": "#E5ECF6",
           "caxis": {
            "gridcolor": "white",
            "linecolor": "white",
            "ticks": ""
           }
          },
          "title": {
           "x": 0.05
          },
          "xaxis": {
           "automargin": true,
           "gridcolor": "white",
           "linecolor": "white",
           "ticks": "",
           "title": {
            "standoff": 15
           },
           "zerolinecolor": "white",
           "zerolinewidth": 2
          },
          "yaxis": {
           "automargin": true,
           "gridcolor": "white",
           "linecolor": "white",
           "ticks": "",
           "title": {
            "standoff": 15
           },
           "zerolinecolor": "white",
           "zerolinewidth": 2
          }
         }
        },
        "xaxis": {
         "anchor": "y",
         "autorange": true,
         "domain": [
          0,
          1
         ],
         "range": [
          -6.6762189905902485,
          105.67621899059024
         ],
         "title": {
          "text": "x"
         },
         "type": "linear"
        },
        "yaxis": {
         "anchor": "x",
         "autorange": true,
         "domain": [
          0,
          1
         ],
         "range": [
          -0.04587086614173244,
          0.028270866141732163
         ],
         "title": {
          "text": "VDL"
         },
         "type": "linear"
        }
       }
      },
      "image/png": "[encoded data removed]",
      "text/html": [
       "<div>                            <div id=\"0236d34a-22e1-430d-8520-249680f99678\" class=\"plotly-graph-div\" style=\"height:525px; width:100%;\"></div>            <script type=\"text/javascript\">                require([\"plotly\"], function(Plotly) {                    window.PLOTLYENV=window.PLOTLYENV || {};                                    if (document.getElementById(\"0236d34a-22e1-430d-8520-249680f99678\")) {                    Plotly.newPlot(                        \"0236d34a-22e1-430d-8520-249680f99678\",                        [{\"hovertemplate\":\"x=%{x}<br>VDL=%{y}<extra></extra>\",\"legendgroup\":\"\",\"marker\":{\"color\":\"#636efa\",\"symbol\":\"circle\"},\"mode\":\"markers\",\"name\":\"VDL\",\"orientation\":\"v\",\"showlegend\":true,\"x\":[0,1,2,3,4,5,6,7,8,9,10,11,12,13,14,15,16,17,18,19,20,21,22,23,24,25,26,27,28,29,30,31,32,33,34,35,36,37,38,39,40,41,42,43,44,45,46,47,48,49,50,51,52,53,54,55,56,57,58,59,60,61,62,63,64,65,66,67,68,69,70,71,72,73,74,75,76,77,78,79,80,81,82,83,84,85,86,87,88,89,90,91,92,93,94,95,96,97,98,99],\"xaxis\":\"x\",\"y\":[0.0,0.02200000000000024,0.0036000000000000476,0.0032999999999998586,-0.005700000000000038,0.00649999999999995,-0.005700000000000038,-0.014600000000000168,-0.0005999999999999339,-0.005900000000000016,0.002200000000000202,0.006400000000000183,0.0030999999999998806,0.006099999999999994,0.00019999999999997797,0.005599999999999827,-0.01869999999999994,0.0019000000000000128,-0.0036000000000000476,0.010299999999999976,0.023299999999999876,-0.006400000000000183,-0.020099999999999785,-0.0028999999999999027,-0.007400000000000073,0.010299999999999976,0.0034000000000000696,-0.013199999999999878,0.006699999999999928,-0.011099999999999888,-0.017300000000000093,0.01540000000000008,0.00649999999999995,-0.005799999999999805,-0.000500000000000167,-0.0011999999999998678,0.0024000000000001798,-0.010299999999999976,-0.0028000000000001357,0.008100000000000218,-0.025900000000000034,0.0024000000000001798,0.009300000000000086,0.012900000000000134,0.014699999999999935,0.02300000000000013,0.011499999999999844,0.000300000000000189,0.010099999999999998,0.009799999999999809,-0.0009999999999998899,-0.005799999999999805,-0.008999999999999897,-0.008999999999999897,-0.009300000000000086,-0.00749999999999984,-0.0047000000000001485,0.0028000000000001357,0.0045000000000001705,0.0045999999999999375,0.019200000000000106,0.0024999999999999467,0.006600000000000161,0.005199999999999871,-0.0009999999999998899,0.008500000000000174,0.0007999999999999119,-0.009399999999999853,-0.01100000000000012,-0.01529999999999987,-0.005900000000000016,-0.01849999999999996,-0.017599999999999838,-0.014600000000000168,-0.0015999999999998238,-0.019200000000000106,-0.02079999999999993,-0.007299999999999862,-0.016799999999999926,-0.008599999999999941,0.0,-0.00649999999999995,-0.006600000000000161,-0.01399999999999979,-0.031200000000000117,-0.021399999999999864,-0.017100000000000115,-0.022699999999999942,-0.010800000000000143,-0.008000000000000007,-0.02729999999999988,-0.007699999999999818,-0.006899999999999906,-0.007699999999999818,-0.0028000000000001357,-0.0017000000000000348,0.0013999999999998458,0.0043000000000001926,0.005900000000000016,0.006099999999999994],\"yaxis\":\"y\",\"type\":\"scatter\"},{\"mode\":\"markers\",\"name\":\"VDR\",\"x\":[0,1,2,3,4,5,6,7,8,9,10,11,12,13,14,15,16,17,18,19,20,21,22,23,24,25,26,27,28,29,30,31,32,33,34,35,36,37,38,39,40,41,42,43,44,45,46,47,48,49,50,51,52,53,54,55,56,57,58,59,60,61,62,63,64,65,66,67,68,69,70,71,72,73,74,75,76,77,78,79,80,81,82,83,84,85,86,87,88,89,90,91,92,93,94,95,96,97,98,99],\"y\":[0.0,0.022400000000000198,0.0043000000000001926,0.0032999999999998586,-0.005700000000000038,0.0045999999999999375,-0.005399999999999849,-0.01100000000000012,0.0,-0.006899999999999906,0.0017999999999998018,0.0036999999999998145,-0.000700000000000145,0.0045999999999999375,0.000500000000000167,0.005199999999999871,-0.01869999999999994,0.0019000000000000128,-0.0045000000000001705,0.010000000000000231,0.02010000000000023,-0.000500000000000167,-0.01330000000000009,-0.0032000000000000917,-0.008500000000000174,0.00749999999999984,0.0015999999999998238,-0.015600000000000058,0.0034000000000000696,-0.018899999999999917,-0.020700000000000163,0.012700000000000156,0.0030000000000001137,-0.011499999999999844,-0.0045999999999999375,-0.007299999999999862,-0.005999999999999783,-0.017799999999999816,-0.011099999999999888,0.00019999999999997797,-0.007299999999999862,-0.0026999999999999247,0.0028999999999999027,0.008199999999999985,0.00749999999999984,0.016000000000000014,0.006000000000000227,-0.008999999999999897,0.0024999999999999467,0.0024000000000001798,-0.008599999999999941,-0.014499999999999957,-0.01869999999999994,-0.018299999999999983,-0.021500000000000075,-0.015000000000000124,-0.010800000000000143,-0.00550000000000006,-0.0045999999999999375,-0.0038999999999997925,0.011299999999999866,0.000700000000000145,-0.004999999999999893,-0.008300000000000196,-0.014899999999999913,-0.0028000000000001357,-0.009100000000000108,-0.015200000000000102,-0.018299999999999983,-0.022499999999999964,-0.016599999999999948,-0.02289999999999992,-0.02090000000000014,-0.021399999999999864,-0.0049000000000001265,-0.02190000000000003,-0.0259999999999998,-0.011800000000000033,-0.02079999999999993,-0.016599999999999948,-0.005199999999999871,-0.010400000000000187,-0.015099999999999891,-0.022199999999999775,-0.04090000000000016,-0.02939999999999987,-0.027200000000000113,-0.025399999999999867,-0.017799999999999816,-0.01429999999999998,-0.03629999999999978,-0.015899999999999803,-0.014100000000000001,-0.01750000000000007,-0.011699999999999822,-0.009199999999999875,-0.006699999999999928,-0.0034999999999998366,-0.0015999999999998238,-0.0024000000000001798],\"type\":\"scatter\"},{\"mode\":\"markers\",\"name\":\"diff\",\"x\":[0,1,2,3,4,5,6,7,8,9,10,11,12,13,14,15,16,17,18,19,20,21,22,23,24,25,26,27,28,29,30,31,32,33,34,35,36,37,38,39,40,41,42,43,44,45,46,47,48,49,50,51,52,53,54,55,56,57,58,59,60,61,62,63,64,65,66,67,68,69,70,71,72,73,74,75,76,77,78,79,80,81,82,83,84,85,86,87,88,89,90,91,92,93,94,95,96,97,98,99],\"y\":[0.0,-0.00039999999999995595,-0.000700000000000145,0.0,0.0,0.0019000000000000128,-0.000300000000000189,-0.0036000000000000476,-0.0005999999999999339,0.0009999999999998899,0.00040000000000040004,0.0027000000000003688,0.0038000000000000256,0.0015000000000000568,-0.000300000000000189,0.00039999999999995595,0.0,0.0,0.0009000000000001229,0.0002999999999997449,0.0031999999999996476,-0.005900000000000016,-0.006799999999999695,0.000300000000000189,0.001100000000000101,0.0028000000000001357,0.0018000000000002458,0.0024000000000001798,0.0032999999999998586,0.007800000000000029,0.0034000000000000696,0.0026999999999999247,0.0034999999999998366,0.005700000000000038,0.0040999999999997705,0.006099999999999994,0.008399999999999963,0.00749999999999984,0.008299999999999752,0.00790000000000024,-0.018600000000000172,0.0051000000000001044,0.006400000000000183,0.0047000000000001485,0.007200000000000095,0.007000000000000117,0.005499999999999616,0.009300000000000086,0.007600000000000051,0.007399999999999629,0.007600000000000051,0.008700000000000152,0.009700000000000042,0.009300000000000086,0.012199999999999989,0.007500000000000284,0.006099999999999994,0.008300000000000196,0.009100000000000108,0.00849999999999973,0.00790000000000024,0.0017999999999998018,0.011600000000000055,0.013500000000000068,0.013900000000000023,0.01130000000000031,0.00990000000000002,0.005800000000000249,0.007299999999999862,0.007200000000000095,0.010699999999999932,0.0043999999999999595,0.0033000000000003027,0.006799999999999695,0.0033000000000003027,0.0026999999999999247,0.005199999999999871,0.0045000000000001705,0.0040000000000000036,0.008000000000000007,0.005199999999999871,0.0039000000000002366,0.00849999999999973,0.008199999999999985,0.009700000000000042,0.008000000000000007,0.010099999999999998,0.0026999999999999247,0.006999999999999673,0.006299999999999972,0.008999999999999897,0.008199999999999985,0.007200000000000095,0.009800000000000253,0.008899999999999686,0.00749999999999984,0.008099999999999774,0.007800000000000029,0.00749999999999984,0.008500000000000174],\"type\":\"scatter\"}],                        {\"template\":{\"data\":{\"histogram2dcontour\":[{\"type\":\"histogram2dcontour\",\"colorbar\":{\"outlinewidth\":0,\"ticks\":\"\"},\"colorscale\":[[0.0,\"#0d0887\"],[0.1111111111111111,\"#46039f\"],[0.2222222222222222,\"#7201a8\"],[0.3333333333333333,\"#9c179e\"],[0.4444444444444444,\"#bd3786\"],[0.5555555555555556,\"#d8576b\"],[0.6666666666666666,\"#ed7953\"],[0.7777777777777778,\"#fb9f3a\"],[0.8888888888888888,\"#fdca26\"],[1.0,\"#f0f921\"]]}],\"choropleth\":[{\"type\":\"choropleth\",\"colorbar\":{\"outlinewidth\":0,\"ticks\":\"\"}}],\"histogram2d\":[{\"type\":\"histogram2d\",\"colorbar\":{\"outlinewidth\":0,\"ticks\":\"\"},\"colorscale\":[[0.0,\"#0d0887\"],[0.1111111111111111,\"#46039f\"],[0.2222222222222222,\"#7201a8\"],[0.3333333333333333,\"#9c179e\"],[0.4444444444444444,\"#bd3786\"],[0.5555555555555556,\"#d8576b\"],[0.6666666666666666,\"#ed7953\"],[0.7777777777777778,\"#fb9f3a\"],[0.8888888888888888,\"#fdca26\"],[1.0,\"#f0f921\"]]}],\"heatmap\":[{\"type\":\"heatmap\",\"colorbar\":{\"outlinewidth\":0,\"ticks\":\"\"},\"colorscale\":[[0.0,\"#0d0887\"],[0.1111111111111111,\"#46039f\"],[0.2222222222222222,\"#7201a8\"],[0.3333333333333333,\"#9c179e\"],[0.4444444444444444,\"#bd3786\"],[0.5555555555555556,\"#d8576b\"],[0.6666666666666666,\"#ed7953\"],[0.7777777777777778,\"#fb9f3a\"],[0.8888888888888888,\"#fdca26\"],[1.0,\"#f0f921\"]]}],\"heatmapgl\":[{\"type\":\"heatmapgl\",\"colorbar\":{\"outlinewidth\":0,\"ticks\":\"\"},\"colorscale\":[[0.0,\"#0d0887\"],[0.1111111111111111,\"#46039f\"],[0.2222222222222222,\"#7201a8\"],[0.3333333333333333,\"#9c179e\"],[0.4444444444444444,\"#bd3786\"],[0.5555555555555556,\"#d8576b\"],[0.6666666666666666,\"#ed7953\"],[0.7777777777777778,\"#fb9f3a\"],[0.8888888888888888,\"#fdca26\"],[1.0,\"#f0f921\"]]}],\"contourcarpet\":[{\"type\":\"contourcarpet\",\"colorbar\":{\"outlinewidth\":0,\"ticks\":\"\"}}],\"contour\":[{\"type\":\"contour\",\"colorbar\":{\"outlinewidth\":0,\"ticks\":\"\"},\"colorscale\":[[0.0,\"#0d0887\"],[0.1111111111111111,\"#46039f\"],[0.2222222222222222,\"#7201a8\"],[0.3333333333333333,\"#9c179e\"],[0.4444444444444444,\"#bd3786\"],[0.5555555555555556,\"#d8576b\"],[0.6666666666666666,\"#ed7953\"],[0.7777777777777778,\"#fb9f3a\"],[0.8888888888888888,\"#fdca26\"],[1.0,\"#f0f921\"]]}],\"surface\":[{\"type\":\"surface\",\"colorbar\":{\"outlinewidth\":0,\"ticks\":\"\"},\"colorscale\":[[0.0,\"#0d0887\"],[0.1111111111111111,\"#46039f\"],[0.2222222222222222,\"#7201a8\"],[0.3333333333333333,\"#9c179e\"],[0.4444444444444444,\"#bd3786\"],[0.5555555555555556,\"#d8576b\"],[0.6666666666666666,\"#ed7953\"],[0.7777777777777778,\"#fb9f3a\"],[0.8888888888888888,\"#fdca26\"],[1.0,\"#f0f921\"]]}],\"mesh3d\":[{\"type\":\"mesh3d\",\"colorbar\":{\"outlinewidth\":0,\"ticks\":\"\"}}],\"scatter\":[{\"fillpattern\":{\"fillmode\":\"overlay\",\"size\":10,\"solidity\":0.2},\"type\":\"scatter\"}],\"parcoords\":[{\"type\":\"parcoords\",\"line\":{\"colorbar\":{\"outlinewidth\":0,\"ticks\":\"\"}}}],\"scatterpolargl\":[{\"type\":\"scatterpolargl\",\"marker\":{\"colorbar\":{\"outlinewidth\":0,\"ticks\":\"\"}}}],\"bar\":[{\"error_x\":{\"color\":\"#2a3f5f\"},\"error_y\":{\"color\":\"#2a3f5f\"},\"marker\":{\"line\":{\"color\":\"#E5ECF6\",\"width\":0.5},\"pattern\":{\"fillmode\":\"overlay\",\"size\":10,\"solidity\":0.2}},\"type\":\"bar\"}],\"scattergeo\":[{\"type\":\"scattergeo\",\"marker\":{\"colorbar\":{\"outlinewidth\":0,\"ticks\":\"\"}}}],\"scatterpolar\":[{\"type\":\"scatterpolar\",\"marker\":{\"colorbar\":{\"outlinewidth\":0,\"ticks\":\"\"}}}],\"histogram\":[{\"marker\":{\"pattern\":{\"fillmode\":\"overlay\",\"size\":10,\"solidity\":0.2}},\"type\":\"histogram\"}],\"scattergl\":[{\"type\":\"scattergl\",\"marker\":{\"colorbar\":{\"outlinewidth\":0,\"ticks\":\"\"}}}],\"scatter3d\":[{\"type\":\"scatter3d\",\"line\":{\"colorbar\":{\"outlinewidth\":0,\"ticks\":\"\"}},\"marker\":{\"colorbar\":{\"outlinewidth\":0,\"ticks\":\"\"}}}],\"scattermapbox\":[{\"type\":\"scattermapbox\",\"marker\":{\"colorbar\":{\"outlinewidth\":0,\"ticks\":\"\"}}}],\"scatterternary\":[{\"type\":\"scatterternary\",\"marker\":{\"colorbar\":{\"outlinewidth\":0,\"ticks\":\"\"}}}],\"scattercarpet\":[{\"type\":\"scattercarpet\",\"marker\":{\"colorbar\":{\"outlinewidth\":0,\"ticks\":\"\"}}}],\"carpet\":[{\"aaxis\":{\"endlinecolor\":\"#2a3f5f\",\"gridcolor\":\"white\",\"linecolor\":\"white\",\"minorgridcolor\":\"white\",\"startlinecolor\":\"#2a3f5f\"},\"baxis\":{\"endlinecolor\":\"#2a3f5f\",\"gridcolor\":\"white\",\"linecolor\":\"white\",\"minorgridcolor\":\"white\",\"startlinecolor\":\"#2a3f5f\"},\"type\":\"carpet\"}],\"table\":[{\"cells\":{\"fill\":{\"color\":\"#EBF0F8\"},\"line\":{\"color\":\"white\"}},\"header\":{\"fill\":{\"color\":\"#C8D4E3\"},\"line\":{\"color\":\"white\"}},\"type\":\"table\"}],\"barpolar\":[{\"marker\":{\"line\":{\"color\":\"#E5ECF6\",\"width\":0.5},\"pattern\":{\"fillmode\":\"overlay\",\"size\":10,\"solidity\":0.2}},\"type\":\"barpolar\"}],\"pie\":[{\"automargin\":true,\"type\":\"pie\"}]},\"layout\":{\"autotypenumbers\":\"strict\",\"colorway\":[\"#636efa\",\"#EF553B\",\"#00cc96\",\"#ab63fa\",\"#FFA15A\",\"#19d3f3\",\"#FF6692\",\"#B6E880\",\"#FF97FF\",\"#FECB52\"],\"font\":{\"color\":\"#2a3f5f\"},\"hovermode\":\"closest\",\"hoverlabel\":{\"align\":\"left\"},\"paper_bgcolor\":\"white\",\"plot_bgcolor\":\"#E5ECF6\",\"polar\":{\"bgcolor\":\"#E5ECF6\",\"angularaxis\":{\"gridcolor\":\"white\",\"linecolor\":\"white\",\"ticks\":\"\"},\"radialaxis\":{\"gridcolor\":\"white\",\"linecolor\":\"white\",\"ticks\":\"\"}},\"ternary\":{\"bgcolor\":\"#E5ECF6\",\"aaxis\":{\"gridcolor\":\"white\",\"linecolor\":\"white\",\"ticks\":\"\"},\"baxis\":{\"gridcolor\":\"white\",\"linecolor\":\"white\",\"ticks\":\"\"},\"caxis\":{\"gridcolor\":\"white\",\"linecolor\":\"white\",\"ticks\":\"\"}},\"coloraxis\":{\"colorbar\":{\"outlinewidth\":0,\"ticks\":\"\"}},\"colorscale\":{\"sequential\":[[0.0,\"#0d0887\"],[0.1111111111111111,\"#46039f\"],[0.2222222222222222,\"#7201a8\"],[0.3333333333333333,\"#9c179e\"],[0.4444444444444444,\"#bd3786\"],[0.5555555555555556,\"#d8576b\"],[0.6666666666666666,\"#ed7953\"],[0.7777777777777778,\"#fb9f3a\"],[0.8888888888888888,\"#fdca26\"],[1.0,\"#f0f921\"]],\"sequentialminus\":[[0.0,\"#0d0887\"],[0.1111111111111111,\"#46039f\"],[0.2222222222222222,\"#7201a8\"],[0.3333333333333333,\"#9c179e\"],[0.4444444444444444,\"#bd3786\"],[0.5555555555555556,\"#d8576b\"],[0.6666666666666666,\"#ed7953\"],[0.7777777777777778,\"#fb9f3a\"],[0.8888888888888888,\"#fdca26\"],[1.0,\"#f0f921\"]],\"diverging\":[[0,\"#8e0152\"],[0.1,\"#c51b7d\"],[0.2,\"#de77ae\"],[0.3,\"#f1b6da\"],[0.4,\"#fde0ef\"],[0.5,\"#f7f7f7\"],[0.6,\"#e6f5d0\"],[0.7,\"#b8e186\"],[0.8,\"#7fbc41\"],[0.9,\"#4d9221\"],[1,\"#276419\"]]},\"xaxis\":{\"gridcolor\":\"white\",\"linecolor\":\"white\",\"ticks\":\"\",\"title\":{\"standoff\":15},\"zerolinecolor\":\"white\",\"automargin\":true,\"zerolinewidth\":2},\"yaxis\":{\"gridcolor\":\"white\",\"linecolor\":\"white\",\"ticks\":\"\",\"title\":{\"standoff\":15},\"zerolinecolor\":\"white\",\"automargin\":true,\"zerolinewidth\":2},\"scene\":{\"xaxis\":{\"backgroundcolor\":\"#E5ECF6\",\"gridcolor\":\"white\",\"linecolor\":\"white\",\"showbackground\":true,\"ticks\":\"\",\"zerolinecolor\":\"white\",\"gridwidth\":2},\"yaxis\":{\"backgroundcolor\":\"#E5ECF6\",\"gridcolor\":\"white\",\"linecolor\":\"white\",\"showbackground\":true,\"ticks\":\"\",\"zerolinecolor\":\"white\",\"gridwidth\":2},\"zaxis\":{\"backgroundcolor\":\"#E5ECF6\",\"gridcolor\":\"white\",\"linecolor\":\"white\",\"showbackground\":true,\"ticks\":\"\",\"zerolinecolor\":\"white\",\"gridwidth\":2}},\"shapedefaults\":{\"line\":{\"color\":\"#2a3f5f\"}},\"annotationdefaults\":{\"arrowcolor\":\"#2a3f5f\",\"arrowhead\":0,\"arrowwidth\":1},\"geo\":{\"bgcolor\":\"white\",\"landcolor\":\"#E5ECF6\",\"subunitcolor\":\"white\",\"showland\":true,\"showlakes\":true,\"lakecolor\":\"white\"},\"title\":{\"x\":0.05},\"mapbox\":{\"style\":\"light\"}}},\"xaxis\":{\"anchor\":\"y\",\"domain\":[0.0,1.0],\"title\":{\"text\":\"x\"}},\"yaxis\":{\"anchor\":\"x\",\"domain\":[0.0,1.0],\"title\":{\"text\":\"VDL\"}},\"legend\":{\"tracegroupgap\":0},\"margin\":{\"t\":60}},                        {\"responsive\": true}                    ).then(function(){\n",
       "                            \n",
       "var gd = document.getElementById('0236d34a-22e1-430d-8520-249680f99678');\n",
       "var x = new MutationObserver(function (mutations, observer) {{\n",
       "        var display = window.getComputedStyle(gd).display;\n",
       "        if (!display || display === 'none') {{\n",
       "            console.log([gd, 'removed!']);\n",
       "            Plotly.purge(gd);\n",
       "            observer.disconnect();\n",
       "        }}\n",
       "}});\n",
       "\n",
       "// Listen for the removal of the full notebook cells\n",
       "var notebookContainer = gd.closest('#notebook-container');\n",
       "if (notebookContainer) {{\n",
       "    x.observe(notebookContainer, {childList: true});\n",
       "}}\n",
       "\n",
       "// Listen for the clearing of the current output cell\n",
       "var outputEl = gd.closest('.output');\n",
       "if (outputEl) {{\n",
       "    x.observe(outputEl, {childList: true});\n",
       "}}\n",
       "\n",
       "                        })                };                });            </script>        </div>"
      ]
     },
     "metadata": {},
     "output_type": "display_data"
    }
   ],
   "source": [
    "diff_in_time = pd.concat(diode_df_dict.values(), ignore_index=False)\n",
    "numberoftests = len(diode_df_dict)\n",
    "diff_in_time_grouped = diff_in_time.groupby(diff_in_time.index)\n",
    "threshold = diff_in_time.index.max()\n",
    "\n",
    "diff_in_time_max = [group for name, group in diff_in_time_grouped if name >= threshold]\n",
    "fig = px.scatter(diff_in_time_max[0]-diff_in_time_max[0]['VDL'].iloc[0], x=range(len(diff_in_time_max[0])), y='VDL')\n",
    "fig.data[0].name=\"VDL\"\n",
    "fig.update_traces(showlegend=True)\n",
    " \n",
    "fig.add_scatter(x=np.array(range(len(diff_in_time_max[0]))), y=diff_in_time_max[0]['VDR']-diff_in_time_max[0]['VDR'].iloc[0], mode='markers',name = \"VDR\")\n",
    "fig.add_scatter(x=np.array(range(len(diff_in_time_max[0]))), y=(diff_in_time_max[0]['VDL']-diff_in_time_max[0]['VDR'])-(diff_in_time_max[0]['VDL']-diff_in_time_max[0]['VDR']).iloc[0], mode='markers',name = \"diff\")\n",
    " \n",
    "fig.show()"
   ]
  },
  {
   "cell_type": "code",
   "execution_count": 48,
   "id": "c342951b-49bb-4314-b716-6c0eb70b36c2",
   "metadata": {},
   "outputs": [],
   "source": [
    "# std and mean only for the diff"
   ]
  },
  {
   "cell_type": "code",
   "execution_count": 49,
   "id": "02df135b-e513-452a-a81e-69bde5952e57",
   "metadata": {},
   "outputs": [
    {
     "data": {
      "image/png": "[encoded data removed]",
      "text/plain": [
       "<Figure size 432x288 with 1 Axes>"
      ]
     },
     "metadata": {
      "needs_background": "light"
     },
     "output_type": "display_data"
    }
   ],
   "source": [
    "plt.scatter(conc[:k], [i[0]*1000 for i in mean_std] )\n",
    "plt.errorbar(conc[:k], [i[0]*1000 for i in mean_std], yerr=[i[1]*1000 for i in mean_std], label='std')\n",
    "\n",
    "plt.xlabel('Concentration')\n",
    "plt.ylabel('DeltaV [mV]')\n",
    "plt.title('Mean and Std DeltaV dor different concentrartions (last 5 values of the last 6 steps)')\n",
    "plt.legend()\n",
    "plt.grid()\n"
   ]
  },
  {
   "cell_type": "code",
   "execution_count": 84,
   "id": "8dd6df50-f3de-49a3-aff4-01b6ffda5219",
   "metadata": {},
   "outputs": [
    {
     "data": {
      "text/plain": [
       "[[0.0, 0.0016194546407149926],\n",
       " [0.0008499999999993513, 0.0026138604910490144],\n",
       " [0.0017999999999998018, 0.0031873447674618588],\n",
       " [0.005303333333333438, 0.003240836654665272],\n",
       " [0.007130000000000081, 0.0026970601278676473],\n",
       " [0.013206666666665257, 0.003056695746862816],\n",
       " [0.013983333333333459, 0.002301844670886601],\n",
       " [0.013646666666666363, 0.004074300212579108],\n",
       " [0.017836666666667167, 0.0020228582638325454],\n",
       " [0.01912333333333338, 0.0017250185184190863],\n",
       " [0.01837999999999962, 0.002334773365161307],\n",
       " [0.013729999999999354, 0.0013038916110372568],\n",
       " [0.018899999999999473, 0.002336514498136069],\n",
       " [0.023383333333332867, 0.0013375433533991043]]"
      ]
     },
     "execution_count": 84,
     "metadata": {},
     "output_type": "execute_result"
    }
   ],
   "source": [
    "mean_std"
   ]
  },
  {
   "cell_type": "code",
   "execution_count": 92,
   "id": "f2d02c5c-28e0-4821-9e0f-8e6a8053e216",
   "metadata": {},
   "outputs": [
    {
     "data": {
      "text/plain": [
       "array([-0.00377667, -0.00613667, -0.00585333, -0.00306   , -0.00861667,\n",
       "       -0.00697   , -0.01118   , -0.01018667, -0.00653   ])"
      ]
     },
     "execution_count": 92,
     "metadata": {},
     "output_type": "execute_result"
    }
   ],
   "source": [
    "np.diff([i[0]-mean_std_L[0][0] for i in mean_std_L])"
   ]
  },
  {
   "cell_type": "code",
   "execution_count": 93,
   "id": "c80cf1a2-6d55-47d4-9e35-6fea7e9892b7",
   "metadata": {},
   "outputs": [
    {
     "data": {
      "text/plain": [
       "array([-0.00053333, -0.00368667, -0.00496667, -0.00216667, -0.00914   ,\n",
       "       -0.00580667, -0.01037667, -0.00765   , -0.00645333])"
      ]
     },
     "execution_count": 93,
     "metadata": {},
     "output_type": "execute_result"
    }
   ],
   "source": [
    "np.diff([i[0]-mean_std_R[0][0] for i in mean_std_R])"
   ]
  },
  {
   "cell_type": "code",
   "execution_count": 53,
   "id": "bdbecf1f-a9b9-473c-b153-fb167f7240aa",
   "metadata": {},
   "outputs": [
    {
     "ename": "ValueError",
     "evalue": "x and y must be the same size",
     "output_type": "error",
     "traceback": [
      "\u001b[1;31m---------------------------------------------------------------------------\u001b[0m",
      "\u001b[1;31mValueError\u001b[0m                                Traceback (most recent call last)",
      "Input \u001b[1;32mIn [53]\u001b[0m, in \u001b[0;36m<cell line: 1>\u001b[1;34m()\u001b[0m\n\u001b[1;32m----> 1\u001b[0m \u001b[43mplt\u001b[49m\u001b[38;5;241;43m.\u001b[39;49m\u001b[43mscatter\u001b[49m\u001b[43m(\u001b[49m\u001b[43mconc\u001b[49m\u001b[43m[\u001b[49m\u001b[38;5;241;43m1\u001b[39;49m\u001b[43m:\u001b[49m\u001b[43m]\u001b[49m\u001b[43m,\u001b[49m\u001b[43mnp\u001b[49m\u001b[38;5;241;43m.\u001b[39;49m\u001b[43mdiff\u001b[49m\u001b[43m(\u001b[49m\u001b[43m[\u001b[49m\u001b[43mi\u001b[49m\u001b[43m[\u001b[49m\u001b[38;5;241;43m0\u001b[39;49m\u001b[43m]\u001b[49m\u001b[43m \u001b[49m\u001b[38;5;28;43;01mfor\u001b[39;49;00m\u001b[43m \u001b[49m\u001b[43mi\u001b[49m\u001b[43m \u001b[49m\u001b[38;5;129;43;01min\u001b[39;49;00m\u001b[43m \u001b[49m\u001b[43mmean_std_L\u001b[49m\u001b[43m]\u001b[49m\u001b[43m)\u001b[49m\u001b[38;5;241;43m-\u001b[39;49m\u001b[43mnp\u001b[49m\u001b[38;5;241;43m.\u001b[39;49m\u001b[43mdiff\u001b[49m\u001b[43m(\u001b[49m\u001b[43m[\u001b[49m\u001b[43mi\u001b[49m\u001b[43m[\u001b[49m\u001b[38;5;241;43m0\u001b[39;49m\u001b[43m]\u001b[49m\u001b[38;5;241;43m-\u001b[39;49m\u001b[43mmean_std_R\u001b[49m\u001b[43m[\u001b[49m\u001b[38;5;241;43m0\u001b[39;49m\u001b[43m]\u001b[49m\u001b[43m[\u001b[49m\u001b[38;5;241;43m0\u001b[39;49m\u001b[43m]\u001b[49m\u001b[43m \u001b[49m\u001b[38;5;28;43;01mfor\u001b[39;49;00m\u001b[43m \u001b[49m\u001b[43mi\u001b[49m\u001b[43m \u001b[49m\u001b[38;5;129;43;01min\u001b[39;49;00m\u001b[43m \u001b[49m\u001b[43mmean_std_R\u001b[49m\u001b[43m]\u001b[49m\u001b[43m)\u001b[49m\u001b[43m)\u001b[49m\n",
      "File \u001b[1;32mC:\\Users\\desi\\anaconda3\\lib\\site-packages\\matplotlib\\pyplot.py:3699\u001b[0m, in \u001b[0;36mscatter\u001b[1;34m(x, y, s, c, marker, cmap, norm, vmin, vmax, alpha, linewidths, edgecolors, plotnonfinite, data, **kwargs)\u001b[0m\n\u001b[0;32m   3680\u001b[0m \u001b[38;5;129m@_copy_docstring_and_deprecators\u001b[39m(Axes\u001b[38;5;241m.\u001b[39mscatter)\n\u001b[0;32m   3681\u001b[0m \u001b[38;5;28;01mdef\u001b[39;00m \u001b[38;5;21mscatter\u001b[39m(\n\u001b[0;32m   3682\u001b[0m     x: \u001b[38;5;28mfloat\u001b[39m \u001b[38;5;241m|\u001b[39m ArrayLike,\n\u001b[1;32m   (...)\u001b[0m\n\u001b[0;32m   3697\u001b[0m     \u001b[38;5;241m*\u001b[39m\u001b[38;5;241m*\u001b[39mkwargs,\n\u001b[0;32m   3698\u001b[0m ) \u001b[38;5;241m-\u001b[39m\u001b[38;5;241m>\u001b[39m PathCollection:\n\u001b[1;32m-> 3699\u001b[0m     __ret \u001b[38;5;241m=\u001b[39m gca()\u001b[38;5;241m.\u001b[39mscatter(\n\u001b[0;32m   3700\u001b[0m         x,\n\u001b[0;32m   3701\u001b[0m         y,\n\u001b[0;32m   3702\u001b[0m         s\u001b[38;5;241m=\u001b[39ms,\n\u001b[0;32m   3703\u001b[0m         c\u001b[38;5;241m=\u001b[39mc,\n\u001b[0;32m   3704\u001b[0m         marker\u001b[38;5;241m=\u001b[39mmarker,\n\u001b[0;32m   3705\u001b[0m         cmap\u001b[38;5;241m=\u001b[39mcmap,\n\u001b[0;32m   3706\u001b[0m         norm\u001b[38;5;241m=\u001b[39mnorm,\n\u001b[0;32m   3707\u001b[0m         vmin\u001b[38;5;241m=\u001b[39mvmin,\n\u001b[0;32m   3708\u001b[0m         vmax\u001b[38;5;241m=\u001b[39mvmax,\n\u001b[0;32m   3709\u001b[0m         alpha\u001b[38;5;241m=\u001b[39malpha,\n\u001b[0;32m   3710\u001b[0m         linewidths\u001b[38;5;241m=\u001b[39mlinewidths,\n\u001b[0;32m   3711\u001b[0m         edgecolors\u001b[38;5;241m=\u001b[39medgecolors,\n\u001b[0;32m   3712\u001b[0m         plotnonfinite\u001b[38;5;241m=\u001b[39mplotnonfinite,\n\u001b[0;32m   3713\u001b[0m         \u001b[38;5;241m*\u001b[39m\u001b[38;5;241m*\u001b[39m({\u001b[38;5;124m\"\u001b[39m\u001b[38;5;124mdata\u001b[39m\u001b[38;5;124m\"\u001b[39m: data} \u001b[38;5;28;01mif\u001b[39;00m data \u001b[38;5;129;01mis\u001b[39;00m \u001b[38;5;129;01mnot\u001b[39;00m \u001b[38;5;28;01mNone\u001b[39;00m \u001b[38;5;28;01melse\u001b[39;00m {}),\n\u001b[0;32m   3714\u001b[0m         \u001b[38;5;241m*\u001b[39m\u001b[38;5;241m*\u001b[39mkwargs,\n\u001b[0;32m   3715\u001b[0m     )\n\u001b[0;32m   3716\u001b[0m     sci(__ret)\n\u001b[0;32m   3717\u001b[0m     \u001b[38;5;28;01mreturn\u001b[39;00m __ret\n",
      "File \u001b[1;32mC:\\Users\\desi\\anaconda3\\lib\\site-packages\\matplotlib\\__init__.py:1493\u001b[0m, in \u001b[0;36m_preprocess_data.<locals>.inner\u001b[1;34m(ax, data, *args, **kwargs)\u001b[0m\n\u001b[0;32m   1490\u001b[0m \u001b[38;5;129m@functools\u001b[39m\u001b[38;5;241m.\u001b[39mwraps(func)\n\u001b[0;32m   1491\u001b[0m \u001b[38;5;28;01mdef\u001b[39;00m \u001b[38;5;21minner\u001b[39m(ax, \u001b[38;5;241m*\u001b[39margs, data\u001b[38;5;241m=\u001b[39m\u001b[38;5;28;01mNone\u001b[39;00m, \u001b[38;5;241m*\u001b[39m\u001b[38;5;241m*\u001b[39mkwargs):\n\u001b[0;32m   1492\u001b[0m     \u001b[38;5;28;01mif\u001b[39;00m data \u001b[38;5;129;01mis\u001b[39;00m \u001b[38;5;28;01mNone\u001b[39;00m:\n\u001b[1;32m-> 1493\u001b[0m         \u001b[38;5;28;01mreturn\u001b[39;00m func(ax, \u001b[38;5;241m*\u001b[39m\u001b[38;5;28mmap\u001b[39m(sanitize_sequence, args), \u001b[38;5;241m*\u001b[39m\u001b[38;5;241m*\u001b[39mkwargs)\n\u001b[0;32m   1495\u001b[0m     bound \u001b[38;5;241m=\u001b[39m new_sig\u001b[38;5;241m.\u001b[39mbind(ax, \u001b[38;5;241m*\u001b[39margs, \u001b[38;5;241m*\u001b[39m\u001b[38;5;241m*\u001b[39mkwargs)\n\u001b[0;32m   1496\u001b[0m     auto_label \u001b[38;5;241m=\u001b[39m (bound\u001b[38;5;241m.\u001b[39marguments\u001b[38;5;241m.\u001b[39mget(label_namer)\n\u001b[0;32m   1497\u001b[0m                   \u001b[38;5;129;01mor\u001b[39;00m bound\u001b[38;5;241m.\u001b[39mkwargs\u001b[38;5;241m.\u001b[39mget(label_namer))\n",
      "File \u001b[1;32mC:\\Users\\desi\\anaconda3\\lib\\site-packages\\matplotlib\\axes\\_axes.py:4655\u001b[0m, in \u001b[0;36mAxes.scatter\u001b[1;34m(self, x, y, s, c, marker, cmap, norm, vmin, vmax, alpha, linewidths, edgecolors, plotnonfinite, **kwargs)\u001b[0m\n\u001b[0;32m   4653\u001b[0m y \u001b[38;5;241m=\u001b[39m np\u001b[38;5;241m.\u001b[39mma\u001b[38;5;241m.\u001b[39mravel(y)\n\u001b[0;32m   4654\u001b[0m \u001b[38;5;28;01mif\u001b[39;00m x\u001b[38;5;241m.\u001b[39msize \u001b[38;5;241m!=\u001b[39m y\u001b[38;5;241m.\u001b[39msize:\n\u001b[1;32m-> 4655\u001b[0m     \u001b[38;5;28;01mraise\u001b[39;00m \u001b[38;5;167;01mValueError\u001b[39;00m(\u001b[38;5;124m\"\u001b[39m\u001b[38;5;124mx and y must be the same size\u001b[39m\u001b[38;5;124m\"\u001b[39m)\n\u001b[0;32m   4657\u001b[0m \u001b[38;5;28;01mif\u001b[39;00m s \u001b[38;5;129;01mis\u001b[39;00m \u001b[38;5;28;01mNone\u001b[39;00m:\n\u001b[0;32m   4658\u001b[0m     s \u001b[38;5;241m=\u001b[39m (\u001b[38;5;241m20\u001b[39m \u001b[38;5;28;01mif\u001b[39;00m mpl\u001b[38;5;241m.\u001b[39mrcParams[\u001b[38;5;124m'\u001b[39m\u001b[38;5;124m_internal.classic_mode\u001b[39m\u001b[38;5;124m'\u001b[39m] \u001b[38;5;28;01melse\u001b[39;00m\n\u001b[0;32m   4659\u001b[0m          mpl\u001b[38;5;241m.\u001b[39mrcParams[\u001b[38;5;124m'\u001b[39m\u001b[38;5;124mlines.markersize\u001b[39m\u001b[38;5;124m'\u001b[39m] \u001b[38;5;241m*\u001b[39m\u001b[38;5;241m*\u001b[39m \u001b[38;5;241m2.0\u001b[39m)\n",
      "\u001b[1;31mValueError\u001b[0m: x and y must be the same size"
     ]
    },
    {
     "data": {
      "image/png": "[encoded data removed]",
      "text/plain": [
       "<Figure size 432x288 with 1 Axes>"
      ]
     },
     "metadata": {
      "needs_background": "light"
     },
     "output_type": "display_data"
    }
   ],
   "source": [
    "plt.scatter(conc[1:],np.diff([i[0] for i in mean_std_L])-np.diff([i[0]-mean_std_R[0][0] for i in mean_std_R]))"
   ]
  },
  {
   "cell_type": "code",
   "execution_count": 73,
   "id": "f01692d6-d2bc-4dbc-8b0b-ad003e1de79c",
   "metadata": {},
   "outputs": [
    {
     "data": {
      "text/plain": [
       "[<matplotlib.lines.Line2D at 0x1954f239ca0>]"
      ]
     },
     "execution_count": 73,
     "metadata": {},
     "output_type": "execute_result"
    },
    {
     "data": {
      "image/png": "[encoded data removed]",
      "text/plain": [
       "<Figure size 432x288 with 1 Axes>"
      ]
     },
     "metadata": {
      "needs_background": "light"
     },
     "output_type": "display_data"
    }
   ],
   "source": [
    "plt.plot(np.diff([i[0] for i in mean_std_R]))"
   ]
  },
  {
   "cell_type": "code",
   "execution_count": 71,
   "id": "815981ff-4118-4910-9200-68df2be8f0e6",
   "metadata": {},
   "outputs": [
    {
     "data": {
      "text/plain": [
       "[1.8691566666666666,\n",
       " 1.8653799999999998,\n",
       " 1.8592433333333334,\n",
       " 1.8533899999999999,\n",
       " 1.8503300000000003,\n",
       " 1.8417133333333335,\n",
       " 1.8347433333333334,\n",
       " 1.8235633333333334,\n",
       " 1.8133766666666664,\n",
       " 1.8068466666666665]"
      ]
     },
     "execution_count": 71,
     "metadata": {},
     "output_type": "execute_result"
    }
   ],
   "source": [
    "[i[0] for i in mean_std_L]"
   ]
  },
  {
   "cell_type": "code",
   "execution_count": 74,
   "id": "ee4dd389-ca35-4d90-972f-e98004195912",
   "metadata": {},
   "outputs": [
    {
     "data": {
      "text/plain": [
       "array([-0.00377667, -0.00613667, -0.00585333, -0.00306   , -0.00861667,\n",
       "       -0.00697   , -0.01118   , -0.01018667, -0.00653   ])"
      ]
     },
     "execution_count": 74,
     "metadata": {},
     "output_type": "execute_result"
    }
   ],
   "source": [
    "np.diff([i[0] for i in mean_std_L])"
   ]
  },
  {
   "cell_type": "code",
   "execution_count": null,
   "id": "a4a8d543-eb19-45c3-a653-aab254fe18b0",
   "metadata": {},
   "outputs": [],
   "source": []
  }
 ],
 "metadata": {
  "kernelspec": {
   "display_name": "Python 3 (ipykernel)",
   "language": "python",
   "name": "python3"
  },
  "language_info": {
   "codemirror_mode": {
    "name": "ipython",
    "version": 3
   },
   "file_extension": ".py",
   "mimetype": "text/x-python",
   "name": "python",
   "nbconvert_exporter": "python",
   "pygments_lexer": "ipython3",
   "version": "3.9.13"
  }
 },
 "nbformat": 4,
 "nbformat_minor": 5
}
