{
 "cells": [
  {
   "cell_type": "code",
   "execution_count": null,
   "id": "05a25cd7-0a8e-4281-9ccf-8bf34bc27e33",
   "metadata": {
    "tags": []
   },
   "outputs": [],
   "source": [
    "import sys\n",
    "sys.path.append('..') \n",
    "\n",
    "from keithleyAPI import Communications\n",
    "from tests_ import sensing_test,stability_test\n",
    "import utils"
   ]
  },
  {
   "cell_type": "code",
   "execution_count": null,
   "id": "b06a589c-9618-46fd-99a1-c8e9ba19279f",
   "metadata": {},
   "outputs": [],
   "source": [
    "import plotly.express as px \n",
    "import pandas as pd\n",
    "import seaborn as sns\n",
    "import time\n",
    "import matplotlib.pyplot as plt\n",
    "import os\n",
    "import numpy as np\n",
    "\n",
    "smu = Communications(\"TCPIP0::169.254.181.21::1225::SOCKET\")\n",
    "smu.connect()\n",
    "smu._instrument_object.write_termination = \"\\0\"\n",
    "smu._instrument_object.read_termination = \"\\0\""
   ]
  },
  {
   "cell_type": "code",
   "execution_count": null,
   "id": "8bbbb00a-22ca-4a3e-ba29-158ead6c7d3a",
   "metadata": {},
   "outputs": [],
   "source": [
    "DUT = 'd030824-II' # device under test\n",
    "couple = 'r3c1'\n",
    "VDL = 'CH1'\n",
    "VDR = 'CH3'\n",
    "CMN = 'CH2'"
   ]
  },
  {
   "cell_type": "code",
   "execution_count": null,
   "id": "d79d9457-9e70-4199-b23f-40f0096ead9e",
   "metadata": {},
   "outputs": [],
   "source": [
    "smu.query(\"BC\") # clears all readings from buffer"
   ]
  },
  {
   "cell_type": "markdown",
   "id": "ab8755e2",
   "metadata": {},
   "source": [
    "# Diode connection Test"
   ]
  },
  {
   "cell_type": "markdown",
   "id": "474325bf-af3e-4f9a-a2f9-7a36a0e19af5",
   "metadata": {},
   "source": [
    "### To run a cell and go to the next one: Shift + enter\n",
    "#### Run the following cell until it prints out \"Device correctly stabilized\"\n",
    "Be sure to change the device under test on the last line"
   ]
  },
  {
   "cell_type": "code",
   "execution_count": null,
   "id": "9b69f409-435d-4446-bb2b-9fa289bbe5b2",
   "metadata": {},
   "outputs": [],
   "source": [
    "diode_df = []\n",
    "mean_diff = []\n",
    "TOT = 'DiodeConnected_StabilityforIonSensing-Na' #type of test"
   ]
  },
  {
   "cell_type": "markdown",
   "id": "d609a0a0-f2ac-4229-ba33-df894087e571",
   "metadata": {},
   "source": [
    "### Run Stability Check before sensing test"
   ]
  },
  {
   "cell_type": "code",
   "execution_count": null,
   "id": "d6253bdd",
   "metadata": {},
   "outputs": [],
   "source": [
    " diode_df, mean_diff = stability_test('CH1', 'CH3', 'CH2', smu,diode_df,mean_diff,'sensing',couple,DUT,TOT,max_steps = 10,resting_time=10)"
   ]
  },
  {
   "cell_type": "code",
   "execution_count": null,
   "id": "9154021a-7ed6-4854-a0a4-bf92723ed5e7",
   "metadata": {},
   "outputs": [],
   "source": [
    "utils.save_xls(diode_df, DUT+couple,TOT,additional_comment= '80sweeps', mode = 2)"
   ]
  },
  {
   "cell_type": "markdown",
   "id": "f1b50dcb-c37e-4bd9-8c2a-59f932d382f0",
   "metadata": {},
   "source": [
    "#### Run the following cell to plot the max values in time for the last sweeps"
   ]
  },
  {
   "cell_type": "code",
   "execution_count": null,
   "id": "35e8fa2e-ecbf-4dd0-a26b-aba605ae662d",
   "metadata": {},
   "outputs": [],
   "source": [
    "utils.plot_max_values(diode_df,['baseline'],couple,1,DUT,TOT,3,r'C:\\Users\\Desi\\Desktop\\TesiStanford\\images-results')"
   ]
  },
  {
   "cell_type": "markdown",
   "id": "e9386c73-2f11-44f6-96db-ea3753c8a875",
   "metadata": {},
   "source": [
    "#### Plot Diode Connection"
   ]
  },
  {
   "cell_type": "code",
   "execution_count": null,
   "id": "ca5a692e-f0da-4012-96b7-08fc206e0ef1",
   "metadata": {},
   "outputs": [],
   "source": [
    "# plot DiodeConnection\n",
    "fig, ax1 = plt.subplots(figsize=(8, 8))\n",
    "ax2 = ax1.twinx()\n",
    "\n",
    "ax1.plot(diode_df[-1]['IDL'], diode_df[-1]['VDL'], color = 'blue', label = 'VDL')\n",
    "ax1.set_ylabel('VdLeft [V]')\n",
    "ax2.plot(diode_df[-1]['IDL'], diode_df[-1]['VDR'], color = 'red', label = 'VDR')\n",
    "ax2.set_ylabel('VdRight [V]')\n",
    "plt.grid()\n",
    "ax1.set_xlabel('Id [A]')\n",
    "plt.title('Diode Connected - Single Sweep')\n",
    "ax1.legend()\n",
    "ax2.legend(loc = 1)\n"
   ]
  },
  {
   "cell_type": "markdown",
   "id": "fa1e4376-bda7-4ba6-9ff2-dc3f21ed0a9c",
   "metadata": {},
   "source": [
    "# Sensing Test"
   ]
  },
  {
   "cell_type": "markdown",
   "id": "617594aa-9080-417e-a08c-c974464a8088",
   "metadata": {},
   "source": [
    "### Run the following two cells only one time!"
   ]
  },
  {
   "cell_type": "code",
   "execution_count": null,
   "id": "9979bb4b-cc29-4aa0-ae17-c896bfdb423c",
   "metadata": {},
   "outputs": [],
   "source": [
    "meandiff = []\n",
    "stddiff = []\n",
    "diode_dict_list = {} # dictionary where to store the list with the 20 sweeps of all the concentrations\n",
    "diode_df_dict = {} # dictionary where to store the df with the 20 sweeps of all the concentrations\n",
    "mean_std = [] #list where to store the mean and std of the òast 5 values of the last Nvalidsteps\n",
    "mean_std_L = []\n",
    "mean_std_R = []\n",
    "baseline = 0"
   ]
  },
  {
   "cell_type": "code",
   "execution_count": null,
   "id": "24bc0d80-0d42-40c0-aeee-582f7f7d5ce9",
   "metadata": {},
   "outputs": [],
   "source": [
    "k = 0 \n",
    "conc = ['baseline','1pM','10pM','100pM','1nM','10nM','100nM','1uM']\n",
    "#conc = ['1mM','2mM','4mM','8mM','16mM','32mM']"
   ]
  },
  {
   "cell_type": "code",
   "execution_count": null,
   "id": "5a8a6d02-5290-4940-9169-8034cc51c72b",
   "metadata": {},
   "outputs": [],
   "source": [
    "conc = ['10mM','20mM','40mM','80mM','160mM','16mMK','32mMK']\n",
    "#conc = ['1mM','2mM','4mM','8mM','10mMNa','16mM','20mMNa','32mM']\n",
    "#conc = ['baseline','1pM_CT','1pM_MT','10pM_CT','10pM_MT','100pM_CT','100pM_MT','1nM_CT','1nM_MT','10nM_CT','10nM_MT','100nM_CT','100nM_MT','1uM_CT','1uM_MT']\n",
    "#conc = ['baseline','1pM','10pM','100pM','1nM','10nM','100nM','1uM','1nM-MT','100nm_MT']"
   ]
  },
  {
   "cell_type": "markdown",
   "id": "44ebb42e-4930-445c-b34f-aa6c8d6be1c9",
   "metadata": {},
   "source": [
    "### Run all the following cells until 'END' every time you change concentration"
   ]
  },
  {
   "cell_type": "code",
   "execution_count": null,
   "id": "ee82b438-7334-4702-8f9f-a8b0f07be15b",
   "metadata": {
    "tags": []
   },
   "outputs": [],
   "source": [
    "TOT = 'DiodeConnected_SensingTest-Na' #Type Of Test\n",
    "k, diode_df_dict, diode_dict_list, mean_std, mean_std_L, mean_std_R, folder, baseline = sensing_test('CH1', 'CH3', 'CH2', smu,k, conc, diode_df_dict, diode_dict_list, mean_std, mean_std_L, mean_std_R,DUT, TOT, couple, baseline)"
   ]
  },
  {
   "cell_type": "code",
   "execution_count": null,
   "id": "3898ff49-f894-4325-854c-ad9dc23ac99d",
   "metadata": {},
   "outputs": [],
   "source": [
    "# printing the mean and the std of the last 5 values of the 20 sweeps. Each [] represents a concentration\n",
    "\n",
    "# plotting change of MAx values in time for different concentrations\n",
    "TOT = 'changeMaxDiffvaluesintime'\n",
    "utils.plot_max_values(diode_df_dict,conc,couple,1,DUT,TOT, mode = 1, folder)\n",
    "\n",
    "# plotting change of Mx values in time for different concentrations for left and right electrodes\n",
    "TOT = 'changeMaxDiffvaluesintime-LR'\n",
    "utils.plot_max_values(diode_df_dict,conc,couple,1,DUT,TOT, mode = 2, folder)\n",
    "\n",
    "# plotting mean and std of the diff for different concentrations\n",
    "utils.plot_mean_std(len(mean_std), mean_std_L,mean_std_R, mean_std, conc, couple, folder)\n",
    "\n"
   ]
  },
  {
   "cell_type": "markdown",
   "id": "5a43ea28-b4b0-41a8-8ee5-c288e6c620d0",
   "metadata": {},
   "source": [
    "#### Interactive plot"
   ]
  },
  {
   "cell_type": "code",
   "execution_count": null,
   "id": "f4e3fa94-1e87-4c91-910f-81667fe026ba",
   "metadata": {
    "tags": []
   },
   "outputs": [],
   "source": [
    "diff_in_time = pd.concat(diode_df_dict.values(), ignore_index=False)\n",
    "numberoftests = len(diode_df_dict)\n",
    "diff_in_time_grouped = diff_in_time.groupby(diff_in_time.index)\n",
    "threshold = diff_in_time.index.max()\n",
    "\n",
    "diff_in_time_max = [group for name, group in diff_in_time_grouped if name >= threshold]\n",
    "fig = px.scatter(diff_in_time_max[0]-diff_in_time_max[0]['VDL'].iloc[0], x=range(len(diff_in_time_max[0])), y='VDL')\n",
    "fig.data[0].name=\"VDL\"\n",
    "fig.update_traces(showlegend=True)\n",
    " \n",
    "fig.add_scatter(x=np.array(range(len(diff_in_time_max[0]))), y=diff_in_time_max[0]['VDR']-diff_in_time_max[0]['VDR'].iloc[0], mode='markers',name = \"VDR\")\n",
    "fig.add_scatter(x=np.array(range(len(diff_in_time_max[0]))), y=(diff_in_time_max[0]['VDL']-diff_in_time_max[0]['VDR'])-(diff_in_time_max[0]['VDL']-diff_in_time_max[0]['VDR']).iloc[0], mode='markers',name = \"diff\")\n",
    " \n",
    "fig.show()"
   ]
  },
  {
   "cell_type": "code",
   "execution_count": null,
   "id": "c342951b-49bb-4314-b716-6c0eb70b36c2",
   "metadata": {},
   "outputs": [],
   "source": [
    "# std and mean only for the diff"
   ]
  },
  {
   "cell_type": "code",
   "execution_count": null,
   "id": "02df135b-e513-452a-a81e-69bde5952e57",
   "metadata": {},
   "outputs": [],
   "source": [
    "plt.scatter(conc[:k], [i[0]*1000 for i in mean_std] )\n",
    "plt.errorbar(conc[:k], [i[0]*1000 for i in mean_std], yerr=[i[1]*1000 for i in mean_std], label='std')\n",
    "\n",
    "plt.xlabel('Concentration')\n",
    "plt.ylabel('DeltaV [mV]')\n",
    "plt.title('Mean and Std DeltaV dor different concentrartions (last 5 values of the last 6 steps)')\n",
    "plt.legend()\n",
    "plt.grid()\n"
   ]
  },
  {
   "cell_type": "markdown",
   "id": "0db01e19-84f3-4a42-9449-ec3388d20e50",
   "metadata": {},
   "source": [
    "### End"
   ]
  }
 ],
 "metadata": {
  "kernelspec": {
   "display_name": "Python 3 (ipykernel)",
   "language": "python",
   "name": "python3"
  },
  "language_info": {
   "codemirror_mode": {
    "name": "ipython",
    "version": 3
   },
   "file_extension": ".py",
   "mimetype": "text/x-python",
   "name": "python",
   "nbconvert_exporter": "python",
   "pygments_lexer": "ipython3",
   "version": "3.9.13"
  }
 },
 "nbformat": 4,
 "nbformat_minor": 5
}
