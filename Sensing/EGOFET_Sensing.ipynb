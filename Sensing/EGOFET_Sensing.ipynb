{
 "cells": [
  {
   "cell_type": "code",
   "execution_count": 1,
   "id": "064018f3-9e37-4f76-a17f-b4f00c1a46a4",
   "metadata": {},
   "outputs": [
    {
     "name": "stderr",
     "output_type": "stream",
     "text": [
      "C:\\Users\\desi\\anaconda3\\lib\\site-packages\\pandas\\core\\computation\\expressions.py:21: UserWarning: Pandas requires version '2.8.4' or newer of 'numexpr' (version '2.8.1' currently installed).\n",
      "  from pandas.core.computation.check import NUMEXPR_INSTALLED\n",
      "C:\\Users\\desi\\anaconda3\\lib\\site-packages\\pandas\\core\\arrays\\masked.py:60: UserWarning: Pandas requires version '1.3.6' or newer of 'bottleneck' (version '1.3.4' currently installed).\n",
      "  from pandas.core import (\n"
     ]
    }
   ],
   "source": [
    "import sys\n",
    "sys.path.append('..') \n",
    "\n",
    "from keithleyAPI import Communications\n",
    "from tests_ import sensing_test,stability_test\n",
    "import utils"
   ]
  },
  {
   "cell_type": "code",
   "execution_count": 11,
   "id": "9476ee23-5a57-412d-a2d8-d8af30fef7aa",
   "metadata": {},
   "outputs": [],
   "source": [
    "import pandas as pd"
   ]
  },
  {
   "cell_type": "code",
   "execution_count": 2,
   "id": "b8107304-80c7-4c60-9810-4a1d3c3a456a",
   "metadata": {},
   "outputs": [],
   "source": [
    "smu = Communications(\"TCPIP0::169.254.181.21::1225::SOCKET\")\n",
    "smu.connect()\n",
    "smu._instrument_object.write_termination = \"\\0\"\n",
    "smu._instrument_object.read_termination = \"\\0\""
   ]
  },
  {
   "cell_type": "code",
   "execution_count": 3,
   "id": "5c9f821a-86dc-4c4c-8e7d-028dba6a5d30",
   "metadata": {},
   "outputs": [],
   "source": [
    "DUT = 'd030824-II' # device under test\n",
    "couple = 'r3c1'\n",
    "VDL = 'CH1'\n",
    "VDR = 'CH3'\n",
    "CMN = 'CH2'"
   ]
  },
  {
   "cell_type": "code",
   "execution_count": 4,
   "id": "d79d9457-9e70-4199-b23f-40f0096ead9e",
   "metadata": {},
   "outputs": [
    {
     "data": {
      "text/plain": [
       "'ACK'"
      ]
     },
     "execution_count": 4,
     "metadata": {},
     "output_type": "execute_result"
    }
   ],
   "source": [
    "smu.query(\"BC\") # clears all readings from buffer"
   ]
  },
  {
   "cell_type": "markdown",
   "id": "059bb17a-6866-4e77-90c0-f63a4df87020",
   "metadata": {},
   "source": [
    "# Diode connection Test"
   ]
  },
  {
   "cell_type": "markdown",
   "id": "9bd40de1-7953-4514-b058-d6df50579f6d",
   "metadata": {},
   "source": [
    "### To run a cell and go to the next one: Shift + enter\n",
    "#### Run the following cell until it prints out \"Device correctly stabilized\"\n",
    "Be sure to change the device under test on the last line"
   ]
  },
  {
   "cell_type": "code",
   "execution_count": 5,
   "id": "9b69f409-435d-4446-bb2b-9fa289bbe5b2",
   "metadata": {},
   "outputs": [],
   "source": [
    "diode_df = []\n",
    "mean_diff = []\n",
    "TOT = 'DiodeConnected_StabilityforIonSensing-Na' #type of test"
   ]
  },
  {
   "cell_type": "markdown",
   "id": "500a53f4-929a-4c8a-aca7-15da5d19956c",
   "metadata": {},
   "source": [
    "### Run Stability Check before sensing test"
   ]
  },
  {
   "cell_type": "code",
   "execution_count": 6,
   "id": "d93ac0d0-bc69-4cb3-b26a-d5d6c2a04309",
   "metadata": {},
   "outputs": [],
   "source": [
    "vds = '-5'\n",
    "compliance_vds = '0.1'\n",
    "vg_start = '1'\n",
    "vg_stop = '-1'\n",
    "vg_step = '-0.1'\n",
    "compliance_vg ='0.1'\n",
    "speed = '1'\n",
    "x = smu.VgsIds('CH1', 'CH2', 'CH3', vds, compliance_vds, vg_start,vg_stop,vg_step, compliance_vg, speed, hysteresis = 1)"
   ]
  },
  {
   "cell_type": "code",
   "execution_count": 54,
   "id": "f9305b3d-2105-48ca-b385-d23b6e09954c",
   "metadata": {},
   "outputs": [],
   "source": [
    "import pandas as pd\n",
    "data = pd.DataFrame()\n",
    "data['Ids'] = np.arange(20)\n",
    "data['Vgs'] = np.arange(20)**2"
   ]
  },
  {
   "cell_type": "code",
   "execution_count": 62,
   "id": "bffb92a6-ecf2-4400-b013-9be11859cd37",
   "metadata": {},
   "outputs": [
    {
     "data": {
      "text/plain": [
       "<matplotlib.collections.PathCollection at 0x2b46404f5e0>"
      ]
     },
     "execution_count": 62,
     "metadata": {},
     "output_type": "execute_result"
    },
    {
     "data": {
      "image/png": "[encoded data removed]",
      "text/plain": [
       "<Figure size 432x288 with 1 Axes>"
      ]
     },
     "metadata": {
      "needs_background": "light"
     },
     "output_type": "display_data"
    }
   ],
   "source": [
    "plt.scatter(data['Vgs'], data['Ids'])"
   ]
  },
  {
   "cell_type": "code",
   "execution_count": 64,
   "id": "e86e167a-586a-4755-b6ea-88bd112cef1b",
   "metadata": {},
   "outputs": [
    {
     "data": {
      "text/plain": [
       "0       0\n",
       "1       1\n",
       "2       4\n",
       "3       9\n",
       "4      16\n",
       "5      25\n",
       "6      36\n",
       "7      49\n",
       "8      64\n",
       "9      81\n",
       "10    100\n",
       "11    121\n",
       "12    144\n",
       "13    169\n",
       "14    196\n",
       "15    225\n",
       "16    256\n",
       "17    289\n",
       "18    324\n",
       "19    361\n",
       "Name: Vgs, dtype: int32"
      ]
     },
     "execution_count": 64,
     "metadata": {},
     "output_type": "execute_result"
    }
   ],
   "source": [
    "data['Vgs']"
   ]
  },
  {
   "cell_type": "code",
   "execution_count": 80,
   "id": "ab2e7657-498e-49fb-ad00-b3f71987eba3",
   "metadata": {},
   "outputs": [],
   "source": [
    "def slope_egofet(data, slope_point = None):\n",
    "    if slope_point:\n",
    "        return np.gradient(data['Ids'],data['Vgs'])[data[data['Vgs']==slope_point].index][0]\n",
    "    else:\n",
    "        return np.gradient(data['Ids'],data['Vgs'])[np.max(data['Ids'])]"
   ]
  },
  {
   "cell_type": "code",
   "execution_count": 81,
   "id": "30eacf94-a792-463a-b3b5-d2ff1693b3b8",
   "metadata": {},
   "outputs": [
    {
     "data": {
      "text/plain": [
       "0.02702702702702703"
      ]
     },
     "execution_count": 81,
     "metadata": {},
     "output_type": "execute_result"
    }
   ],
   "source": [
    "slope_egofet(data, slope_point = 361)"
   ]
  },
  {
   "cell_type": "code",
   "execution_count": 69,
   "id": "1d0a4854-cf20-41bc-bf9c-c4701d6f312a",
   "metadata": {},
   "outputs": [
    {
     "data": {
      "text/plain": [
       "[Index([19], dtype='int64')]"
      ]
     },
     "execution_count": 69,
     "metadata": {},
     "output_type": "execute_result"
    }
   ],
   "source": [
    "[data[data['Vgs']==361].index]"
   ]
  },
  {
   "cell_type": "code",
   "execution_count": 70,
   "id": "623c7970-eae6-4305-be0e-df1239b822ba",
   "metadata": {},
   "outputs": [
    {
     "data": {
      "text/plain": [
       "array([1.        , 0.83333333, 0.28333333, 0.17619048, 0.12896825,\n",
       "       0.1020202 , 0.08449883, 0.07216117, 0.0629902 , 0.05589955,\n",
       "       0.05025063, 0.04564276, 0.04181159, 0.0385755 , 0.03580551,\n",
       "       0.03340749, 0.03131109, 0.02946269, 0.02782068, 0.02702703])"
      ]
     },
     "execution_count": 70,
     "metadata": {},
     "output_type": "execute_result"
    }
   ],
   "source": [
    "np.gradient(data['Ids'],data['Vgs'])"
   ]
  },
  {
   "cell_type": "code",
   "execution_count": 68,
   "id": "a6059e95-eb31-4aad-9df4-d8e7f55b2ec0",
   "metadata": {},
   "outputs": [
    {
     "data": {
      "text/plain": [
       "0.02702702702702703"
      ]
     },
     "execution_count": 68,
     "metadata": {},
     "output_type": "execute_result"
    }
   ],
   "source": [
    "slope_egofet(data)"
   ]
  },
  {
   "cell_type": "code",
   "execution_count": 13,
   "id": "756be68a-ecc7-4727-ba22-f3b65833b943",
   "metadata": {},
   "outputs": [
    {
     "data": {
      "text/plain": [
       "23"
      ]
     },
     "execution_count": 13,
     "metadata": {},
     "output_type": "execute_result"
    }
   ],
   "source": [
    "len(pd.concat([pd.Series(x[0]['Id1'].loc[0]),pd.Series(x[1])]))"
   ]
  },
  {
   "cell_type": "code",
   "execution_count": 20,
   "id": "5f6b5a5f-6f71-4f80-bf59-aea595c70c2e",
   "metadata": {},
   "outputs": [],
   "source": [
    "import numpy as np\n",
    "import matplotlib.pyplot as plt"
   ]
  },
  {
   "cell_type": "code",
   "execution_count": 26,
   "id": "51bba3d2-37e3-4c50-a296-14549780ccda",
   "metadata": {},
   "outputs": [],
   "source": [
    "x = np.arange(20)\n",
    "y = x**2"
   ]
  },
  {
   "cell_type": "code",
   "execution_count": 28,
   "id": "a9b69217-234d-4143-94a1-2e803b32f33f",
   "metadata": {},
   "outputs": [
    {
     "data": {
      "text/plain": [
       "[<matplotlib.lines.Line2D at 0x2b463d8d520>]"
      ]
     },
     "execution_count": 28,
     "metadata": {},
     "output_type": "execute_result"
    },
    {
     "data": {
      "image/png": "[encoded data removed]",
      "text/plain": [
       "<Figure size 432x288 with 1 Axes>"
      ]
     },
     "metadata": {
      "needs_background": "light"
     },
     "output_type": "display_data"
    }
   ],
   "source": [
    "plt.plot(y)\n",
    "plt.plot(gradient)"
   ]
  },
  {
   "cell_type": "code",
   "execution_count": 27,
   "id": "83a660b5-4320-4b5e-b294-fee541a1a47e",
   "metadata": {},
   "outputs": [],
   "source": [
    "gradient = np.gradient(y,x)"
   ]
  },
  {
   "cell_type": "code",
   "execution_count": null,
   "id": "0cb5a4a6-6401-4c6e-b81a-c7803b27bf92",
   "metadata": {},
   "outputs": [],
   "source": []
  }
 ],
 "metadata": {
  "kernelspec": {
   "display_name": "Python 3 (ipykernel)",
   "language": "python",
   "name": "python3"
  },
  "language_info": {
   "codemirror_mode": {
    "name": "ipython",
    "version": 3
   },
   "file_extension": ".py",
   "mimetype": "text/x-python",
   "name": "python",
   "nbconvert_exporter": "python",
   "pygments_lexer": "ipython3",
   "version": "3.9.13"
  }
 },
 "nbformat": 4,
 "nbformat_minor": 5
}
