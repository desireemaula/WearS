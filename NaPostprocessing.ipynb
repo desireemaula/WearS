{
 "cells": [
  {
   "cell_type": "code",
   "execution_count": 1,
   "id": "346a2384-21bf-4126-8853-5237d7537b82",
   "metadata": {},
   "outputs": [],
   "source": [
    "import pandas as pd\n",
    "import numpy as np\n",
    "import matplotlib.pyplot as plt\n",
    "import seaborn as sns"
   ]
  },
  {
   "cell_type": "markdown",
   "id": "3998e539-6109-46a6-8807-735fac6a2a90",
   "metadata": {},
   "source": [
    "## Sample - 10 mL"
   ]
  },
  {
   "cell_type": "code",
   "execution_count": 2,
   "id": "4764e5a8-3366-45f8-a0a9-3987b3ef84d8",
   "metadata": {
    "tags": []
   },
   "outputs": [],
   "source": [
    "mM20 = pd.Series([0.23924,0.23937,0.23946,0.23967,0.23961,0.23969,0.23971,0.23984,0.23988,\n",
    "0.23974,0.24,0.24003,0.2401,0.24016,0.24021,0.24025,0.24032,0.24031,0.24046,\n",
    "0.24042,0.24049,0.24052,0.24055,0.24059,0.24059,0.24067,0.2408,0.24085,0.24095,0.24095\n",
    "])\n",
    "\n",
    "mM40 = pd.Series([0.25965,0.25936,0.25917,0.25893,0.25893,0.25888,0.25891,0.25875,0.25876,\n",
    "0.25868,0.25867,0.25864,0.2584,0.25857,0.25853,0.25851,0.25851,0.25852,0.25852,\n",
    "0.25857,0.25859,0.25869,0.25869,0.2587,0.2587,0.25875,0.25883,0.25872,0.25872,\n",
    "0.25878\n",
    "])\n",
    "\n",
    "mM80 = pd.Series([0.27531,0.27506,0.27482,0.27479,0.27475,0.27463,0.27468,0.27448,0.27444,\n",
    "0.27441,0.27433,0.27423,0.27418,0.27412,0.27401,0.27402,0.27402,0.27403,0.27407,\n",
    "0.27403,0.27403,0.27404,0.27407,0.27406,0.27404,0.27402,0.27401,0.274,0.27397,\n",
    "0.27396])\n",
    "\n",
    "mM160 = pd.Series([0.29099,0.29076,0.29079,0.29063,0.2906,0.2905,0.29042,0.29033,0.29023,0.29014,\n",
    "0.29007,0.28997,0.28989,0.28981,0.28977,0.28968,0.28965,0.28958,0.28953,0.28947,\n",
    "0.28948,0.28942,0.28938,0.28934,0.28929,0.28924,0.2892,0.28917,0.28913,0.28909\n",
    "])"
   ]
  },
  {
   "cell_type": "code",
   "execution_count": 3,
   "id": "82dec218-2ca9-4068-ac6d-39fcaa54ff9b",
   "metadata": {
    "tags": []
   },
   "outputs": [],
   "source": [
    "values = pd.DataFrame(data = pd.concat([mM20,mM40,mM80,mM160])*1000, columns = [\"values_10mL [mV]\"])\n",
    "values['mM'] = pd.concat([pd.Series(20*np.ones(30)),pd.Series(40*np.ones(30)),pd.Series(80*np.ones(30)),pd.Series(160*np.ones(30))])\n",
    "values['time [s]'] = 2*np.arange(120)"
   ]
  },
  {
   "cell_type": "code",
   "execution_count": 4,
   "id": "52e188d1-ae5c-4d0d-a428-1e8ca283a4e8",
   "metadata": {
    "tags": []
   },
   "outputs": [
    {
     "data": {
      "text/html": [
       "<div>\n",
       "<style scoped>\n",
       "    .dataframe tbody tr th:only-of-type {\n",
       "        vertical-align: middle;\n",
       "    }\n",
       "\n",
       "    .dataframe tbody tr th {\n",
       "        vertical-align: top;\n",
       "    }\n",
       "\n",
       "    .dataframe thead th {\n",
       "        text-align: right;\n",
       "    }\n",
       "</style>\n",
       "<table border=\"1\" class=\"dataframe\">\n",
       "  <thead>\n",
       "    <tr style=\"text-align: right;\">\n",
       "      <th></th>\n",
       "      <th>values_10mL [mV]</th>\n",
       "      <th>mM</th>\n",
       "      <th>time [s]</th>\n",
       "    </tr>\n",
       "  </thead>\n",
       "  <tbody>\n",
       "    <tr>\n",
       "      <th>0</th>\n",
       "      <td>239.24</td>\n",
       "      <td>20.0</td>\n",
       "      <td>0</td>\n",
       "    </tr>\n",
       "    <tr>\n",
       "      <th>1</th>\n",
       "      <td>239.37</td>\n",
       "      <td>20.0</td>\n",
       "      <td>2</td>\n",
       "    </tr>\n",
       "    <tr>\n",
       "      <th>2</th>\n",
       "      <td>239.46</td>\n",
       "      <td>20.0</td>\n",
       "      <td>4</td>\n",
       "    </tr>\n",
       "    <tr>\n",
       "      <th>3</th>\n",
       "      <td>239.67</td>\n",
       "      <td>20.0</td>\n",
       "      <td>6</td>\n",
       "    </tr>\n",
       "    <tr>\n",
       "      <th>4</th>\n",
       "      <td>239.61</td>\n",
       "      <td>20.0</td>\n",
       "      <td>8</td>\n",
       "    </tr>\n",
       "    <tr>\n",
       "      <th>...</th>\n",
       "      <td>...</td>\n",
       "      <td>...</td>\n",
       "      <td>...</td>\n",
       "    </tr>\n",
       "    <tr>\n",
       "      <th>25</th>\n",
       "      <td>289.24</td>\n",
       "      <td>160.0</td>\n",
       "      <td>230</td>\n",
       "    </tr>\n",
       "    <tr>\n",
       "      <th>26</th>\n",
       "      <td>289.20</td>\n",
       "      <td>160.0</td>\n",
       "      <td>232</td>\n",
       "    </tr>\n",
       "    <tr>\n",
       "      <th>27</th>\n",
       "      <td>289.17</td>\n",
       "      <td>160.0</td>\n",
       "      <td>234</td>\n",
       "    </tr>\n",
       "    <tr>\n",
       "      <th>28</th>\n",
       "      <td>289.13</td>\n",
       "      <td>160.0</td>\n",
       "      <td>236</td>\n",
       "    </tr>\n",
       "    <tr>\n",
       "      <th>29</th>\n",
       "      <td>289.09</td>\n",
       "      <td>160.0</td>\n",
       "      <td>238</td>\n",
       "    </tr>\n",
       "  </tbody>\n",
       "</table>\n",
       "<p>120 rows × 3 columns</p>\n",
       "</div>"
      ],
      "text/plain": [
       "    values_10mL [mV]     mM  time [s]\n",
       "0             239.24   20.0         0\n",
       "1             239.37   20.0         2\n",
       "2             239.46   20.0         4\n",
       "3             239.67   20.0         6\n",
       "4             239.61   20.0         8\n",
       "..               ...    ...       ...\n",
       "25            289.24  160.0       230\n",
       "26            289.20  160.0       232\n",
       "27            289.17  160.0       234\n",
       "28            289.13  160.0       236\n",
       "29            289.09  160.0       238\n",
       "\n",
       "[120 rows x 3 columns]"
      ]
     },
     "execution_count": 4,
     "metadata": {},
     "output_type": "execute_result"
    }
   ],
   "source": [
    "values"
   ]
  },
  {
   "cell_type": "code",
   "execution_count": 5,
   "id": "0e85c831-e815-49bc-b15e-2ab23fb39837",
   "metadata": {
    "tags": []
   },
   "outputs": [
    {
     "data": {
      "image/png": "[encoded data removed]",
      "text/plain": [
       "<Figure size 936x432 with 1 Axes>"
      ]
     },
     "metadata": {
      "needs_background": "light"
     },
     "output_type": "display_data"
    }
   ],
   "source": [
    "plt.figure(figsize=(13,6))\n",
    "avg = []\n",
    "std = []\n",
    "for subgroup, group in values.groupby('mM'):\n",
    "    plt.scatter(group['time [s]'], group[\"values_10mL [mV]\"], label=str(group['mM'][0])+' mM')\n",
    "    avg.append(round(group[\"values_10mL [mV]\"].mean(),5))\n",
    "    std.append(round(group[\"values_10mL [mV]\"].std(),5))\n",
    "\n",
    "# Aggiungere la legenda\n",
    "plt.legend()\n",
    "\n",
    "# Aggiungere etichette agli assi\n",
    "plt.xlabel('time [s]')\n",
    "plt.ylabel('values [mV]')\n",
    "plt.title(\"Sample - 10 mL\")\n",
    "# Mostrare il grafico\n",
    "plt.grid()\n",
    "\n",
    "plt.savefig(r'C:\\Users\\Desi\\Desktop\\TesiStanford\\Nasensing\\10mL.jpg')\n",
    "plt.show()"
   ]
  },
  {
   "cell_type": "code",
   "execution_count": 6,
   "id": "82157b0c-f648-464c-bd61-9ec9dc9242cd",
   "metadata": {},
   "outputs": [
    {
     "data": {
      "text/html": [
       "<div>\n",
       "<style scoped>\n",
       "    .dataframe tbody tr th:only-of-type {\n",
       "        vertical-align: middle;\n",
       "    }\n",
       "\n",
       "    .dataframe tbody tr th {\n",
       "        vertical-align: top;\n",
       "    }\n",
       "\n",
       "    .dataframe thead th {\n",
       "        text-align: right;\n",
       "    }\n",
       "</style>\n",
       "<table border=\"1\" class=\"dataframe\">\n",
       "  <thead>\n",
       "    <tr style=\"text-align: right;\">\n",
       "      <th></th>\n",
       "      <th>mM</th>\n",
       "      <th>Delta_10mL [mV]</th>\n",
       "    </tr>\n",
       "  </thead>\n",
       "  <tbody>\n",
       "    <tr>\n",
       "      <th>0</th>\n",
       "      <td>20-40</td>\n",
       "      <td>18.57333</td>\n",
       "    </tr>\n",
       "    <tr>\n",
       "      <th>1</th>\n",
       "      <td>40-80</td>\n",
       "      <td>15.53267</td>\n",
       "    </tr>\n",
       "    <tr>\n",
       "      <th>2</th>\n",
       "      <td>80-160</td>\n",
       "      <td>15.56467</td>\n",
       "    </tr>\n",
       "  </tbody>\n",
       "</table>\n",
       "</div>"
      ],
      "text/plain": [
       "       mM Delta_10mL [mV]\n",
       "0   20-40        18.57333\n",
       "1   40-80        15.53267\n",
       "2  80-160        15.56467"
      ]
     },
     "execution_count": 6,
     "metadata": {},
     "output_type": "execute_result"
    }
   ],
   "source": [
    "delta_1 = pd.DataFrame(data = [[\"20-40\", \"40-80\", \"80-160\"],np.diff(avg- avg[0])], index = ['mM', 'Delta_10mL [mV]']).transpose()\n",
    "delta_1"
   ]
  },
  {
   "cell_type": "code",
   "execution_count": 7,
   "id": "e8c01599-8cd2-495f-9c04-2f3321078bca",
   "metadata": {},
   "outputs": [
    {
     "data": {
      "text/html": [
       "<div>\n",
       "<style scoped>\n",
       "    .dataframe tbody tr th:only-of-type {\n",
       "        vertical-align: middle;\n",
       "    }\n",
       "\n",
       "    .dataframe tbody tr th {\n",
       "        vertical-align: top;\n",
       "    }\n",
       "\n",
       "    .dataframe thead th {\n",
       "        text-align: right;\n",
       "    }\n",
       "</style>\n",
       "<table border=\"1\" class=\"dataframe\">\n",
       "  <thead>\n",
       "    <tr style=\"text-align: right;\">\n",
       "      <th></th>\n",
       "      <th>mM</th>\n",
       "      <th>Delta_10mL [mV]</th>\n",
       "    </tr>\n",
       "  </thead>\n",
       "  <tbody>\n",
       "    <tr>\n",
       "      <th>0</th>\n",
       "      <td>20-40</td>\n",
       "      <td>18.57333</td>\n",
       "    </tr>\n",
       "    <tr>\n",
       "      <th>1</th>\n",
       "      <td>40-80</td>\n",
       "      <td>15.53267</td>\n",
       "    </tr>\n",
       "    <tr>\n",
       "      <th>2</th>\n",
       "      <td>80-160</td>\n",
       "      <td>15.56467</td>\n",
       "    </tr>\n",
       "  </tbody>\n",
       "</table>\n",
       "</div>"
      ],
      "text/plain": [
       "       mM Delta_10mL [mV]\n",
       "0   20-40        18.57333\n",
       "1   40-80        15.53267\n",
       "2  80-160        15.56467"
      ]
     },
     "execution_count": 7,
     "metadata": {},
     "output_type": "execute_result"
    }
   ],
   "source": [
    "delta_1 = pd.DataFrame(data = [[\"20-40\", \"40-80\", \"80-160\"],np.diff(avg)], index = ['mM', 'Delta_10mL [mV]']).transpose()\n",
    "delta_1"
   ]
  },
  {
   "cell_type": "code",
   "execution_count": 8,
   "id": "e1a8caab-fcc8-4503-9a34-e20ad38681d9",
   "metadata": {},
   "outputs": [
    {
     "data": {
      "text/html": [
       "<div>\n",
       "<style scoped>\n",
       "    .dataframe tbody tr th:only-of-type {\n",
       "        vertical-align: middle;\n",
       "    }\n",
       "\n",
       "    .dataframe tbody tr th {\n",
       "        vertical-align: top;\n",
       "    }\n",
       "\n",
       "    .dataframe thead th {\n",
       "        text-align: right;\n",
       "    }\n",
       "</style>\n",
       "<table border=\"1\" class=\"dataframe\">\n",
       "  <thead>\n",
       "    <tr style=\"text-align: right;\">\n",
       "      <th></th>\n",
       "      <th>mM</th>\n",
       "      <th>std_10mL [mV]</th>\n",
       "      <th>avg_10mL [mV]</th>\n",
       "    </tr>\n",
       "  </thead>\n",
       "  <tbody>\n",
       "    <tr>\n",
       "      <th>0</th>\n",
       "      <td>20</td>\n",
       "      <td>0.4802</td>\n",
       "      <td>240.181</td>\n",
       "    </tr>\n",
       "    <tr>\n",
       "      <th>1</th>\n",
       "      <td>40</td>\n",
       "      <td>0.26211</td>\n",
       "      <td>258.75433</td>\n",
       "    </tr>\n",
       "    <tr>\n",
       "      <th>2</th>\n",
       "      <td>80</td>\n",
       "      <td>0.36723</td>\n",
       "      <td>274.287</td>\n",
       "    </tr>\n",
       "    <tr>\n",
       "      <th>3</th>\n",
       "      <td>160</td>\n",
       "      <td>0.56687</td>\n",
       "      <td>289.85167</td>\n",
       "    </tr>\n",
       "  </tbody>\n",
       "</table>\n",
       "</div>"
      ],
      "text/plain": [
       "    mM std_10mL [mV] avg_10mL [mV]\n",
       "0   20        0.4802       240.181\n",
       "1   40       0.26211     258.75433\n",
       "2   80       0.36723       274.287\n",
       "3  160       0.56687     289.85167"
      ]
     },
     "execution_count": 8,
     "metadata": {},
     "output_type": "execute_result"
    }
   ],
   "source": [
    "mean_std_10 = pd.DataFrame(data = [[\"20\", \"40\", \"80\", \"160\"],std, avg], index = ['mM', 'std_10mL [mV]', 'avg_10mL [mV]']).transpose()\n",
    "mean_std_10"
   ]
  },
  {
   "cell_type": "markdown",
   "id": "0ea7fc10-daa5-43b5-a7b8-90d8a8102575",
   "metadata": {},
   "source": [
    "## First Trial - Sample 10 mL"
   ]
  },
  {
   "cell_type": "code",
   "execution_count": 9,
   "id": "833024ae-948d-4d2d-b10e-f351a4cfd7a5",
   "metadata": {
    "tags": []
   },
   "outputs": [
    {
     "data": {
      "image/png": "[encoded data removed]",
      "text/plain": [
       "<Figure size 1080x576 with 1 Axes>"
      ]
     },
     "metadata": {
      "needs_background": "light"
     },
     "output_type": "display_data"
    }
   ],
   "source": [
    "# First trial\n",
    "\n",
    "FT20mM = pd.Series([0.26155,0.26159,0.2617,0.26179,0.26185,0.26189,0.26189,0.262,0.26245,0.2623,0.26214,0.26197,0.26213,0.2621,0.26221,0.26217])*1000\n",
    "FT40mM = pd.Series([0.28101,0.28093,0.28093,0.28081,0.28071,0.28064,0.2805,0.28051,0.28046,0.28042,0.28041,0.2804,0.28039,0.28039,0.28037,0.28035])*1000\n",
    "FT80mM = pd.Series([29.855,29.79,29.773,29.759,29.75,29.753,29.724,29.715,29.706,29.697,29.691,29.686,29.683,29.68,29.68,29.672])*10\n",
    "\n",
    "FTvalues = pd.DataFrame(data = pd.concat([FT20mM,FT40mM,FT80mM]), columns = ['FTvalues_10mL [mV]'])\n",
    "FTvalues['mM'] = pd.concat([pd.Series(20*np.ones(16)),pd.Series(40*np.ones(16)),pd.Series(80*np.ones(16))])\n",
    "FTvalues['time [s]'] = pd.concat([pd.Series(2*np.arange(16)), pd.Series(60+2*np.arange(16)), pd.Series(120+2*np.arange(16))])\n",
    "\n",
    "plt.figure(figsize=(15,8))\n",
    "FT_avg = []\n",
    "FT_std = []\n",
    "for subgroup, group in FTvalues.groupby('mM'):\n",
    "    plt.scatter(group['time [s]'], group['FTvalues_10mL [mV]'], label=str(group['mM'][0])+' mM')\n",
    "    FT_avg.append(round(group['FTvalues_10mL [mV]'].mean(),5))\n",
    "    FT_std.append(round(group['FTvalues_10mL [mV]'].std(),5))\n",
    "    \n",
    "# Aggiungere la legenda\n",
    "plt.legend()\n",
    "\n",
    "# Aggiungere etichette agli assi\n",
    "plt.xlabel('time [s]')\n",
    "plt.ylabel('values [mV]')\n",
    "plt.title(\"First Trial, Sample - 10 mL\")\n",
    "# Mostrare il grafico\n",
    "plt.grid()\n",
    "plt.savefig(r'C:\\Users\\Desi\\Desktop\\TesiStanford\\Nasensing\\FT10mL.png')\n",
    "plt.show()\n"
   ]
  },
  {
   "cell_type": "code",
   "execution_count": 10,
   "id": "d4a0840b-7e19-4ab1-8584-ef5320464cf8",
   "metadata": {},
   "outputs": [
    {
     "data": {
      "text/html": [
       "<div>\n",
       "<style scoped>\n",
       "    .dataframe tbody tr th:only-of-type {\n",
       "        vertical-align: middle;\n",
       "    }\n",
       "\n",
       "    .dataframe tbody tr th {\n",
       "        vertical-align: top;\n",
       "    }\n",
       "\n",
       "    .dataframe thead th {\n",
       "        text-align: right;\n",
       "    }\n",
       "</style>\n",
       "<table border=\"1\" class=\"dataframe\">\n",
       "  <thead>\n",
       "    <tr style=\"text-align: right;\">\n",
       "      <th></th>\n",
       "      <th>mM</th>\n",
       "      <th>Delta_FT_10mL [mV]</th>\n",
       "    </tr>\n",
       "  </thead>\n",
       "  <tbody>\n",
       "    <tr>\n",
       "      <th>0</th>\n",
       "      <td>20-40</td>\n",
       "      <td>18.59375</td>\n",
       "    </tr>\n",
       "    <tr>\n",
       "      <th>1</th>\n",
       "      <td>40-80</td>\n",
       "      <td>16.68188</td>\n",
       "    </tr>\n",
       "  </tbody>\n",
       "</table>\n",
       "</div>"
      ],
      "text/plain": [
       "      mM Delta_FT_10mL [mV]\n",
       "0  20-40           18.59375\n",
       "1  40-80           16.68188"
      ]
     },
     "execution_count": 10,
     "metadata": {},
     "output_type": "execute_result"
    }
   ],
   "source": [
    "deltaFT = pd.DataFrame(data = [[\"20-40\", \"40-80\"],np.diff(FT_avg)], index = ['mM', 'Delta_FT_10mL [mV]']).transpose()\n",
    "deltaFT"
   ]
  },
  {
   "cell_type": "code",
   "execution_count": 11,
   "id": "37916c88-9a20-4a14-b916-8d44ef1ea8ee",
   "metadata": {},
   "outputs": [
    {
     "data": {
      "text/html": [
       "<div>\n",
       "<style scoped>\n",
       "    .dataframe tbody tr th:only-of-type {\n",
       "        vertical-align: middle;\n",
       "    }\n",
       "\n",
       "    .dataframe tbody tr th {\n",
       "        vertical-align: top;\n",
       "    }\n",
       "\n",
       "    .dataframe thead th {\n",
       "        text-align: right;\n",
       "    }\n",
       "</style>\n",
       "<table border=\"1\" class=\"dataframe\">\n",
       "  <thead>\n",
       "    <tr style=\"text-align: right;\">\n",
       "      <th></th>\n",
       "      <th>mM</th>\n",
       "      <th>std_FT_10mL [mV]</th>\n",
       "      <th>avg_FT_10mL [mV]</th>\n",
       "    </tr>\n",
       "  </thead>\n",
       "  <tbody>\n",
       "    <tr>\n",
       "      <th>0</th>\n",
       "      <td>20</td>\n",
       "      <td>0.25295</td>\n",
       "      <td>261.98312</td>\n",
       "    </tr>\n",
       "    <tr>\n",
       "      <th>1</th>\n",
       "      <td>40</td>\n",
       "      <td>0.22876</td>\n",
       "      <td>280.57687</td>\n",
       "    </tr>\n",
       "    <tr>\n",
       "      <th>2</th>\n",
       "      <td>80</td>\n",
       "      <td>0.50681</td>\n",
       "      <td>297.25875</td>\n",
       "    </tr>\n",
       "  </tbody>\n",
       "</table>\n",
       "</div>"
      ],
      "text/plain": [
       "   mM std_FT_10mL [mV] avg_FT_10mL [mV]\n",
       "0  20          0.25295        261.98312\n",
       "1  40          0.22876        280.57687\n",
       "2  80          0.50681        297.25875"
      ]
     },
     "execution_count": 11,
     "metadata": {},
     "output_type": "execute_result"
    }
   ],
   "source": [
    "mean_std_FT = pd.DataFrame(data = [[\"20\", \"40\", \"80\"],FT_std, FT_avg], index = ['mM', 'std_FT_10mL [mV]', 'avg_FT_10mL [mV]']).transpose()\n",
    "mean_std_FT"
   ]
  },
  {
   "cell_type": "markdown",
   "id": "aecd197b-c23a-4277-8412-9ba4d3af6b43",
   "metadata": {},
   "source": [
    "# Sample 25 mg"
   ]
  },
  {
   "cell_type": "code",
   "execution_count": 12,
   "id": "f4aa26ed-0620-4c96-b046-b472bf584e89",
   "metadata": {
    "jupyter": {
     "source_hidden": true
    },
    "tags": []
   },
   "outputs": [],
   "source": [
    "SecmM20 = pd.Series([0.15102,0.15104,0.1505,0.15103,0.15108,0.15109,0.15114,0.15113,0.15114,0.15117,0.15117,0.15119,0.15121,\n",
    "0.15122,0.15122,0.15129,0.15131,0.15132,0.15132,0.151345,0.15134,0.15137,0.15139,0.1514,0.15142,0.1514,0.1515,0.15151,0.1514,0.15143])\n",
    "SecmM40 = pd.Series([0.1715,0.17032,0.17022,0.17024,0.17023,0.16988,0.17018,0.17003,0.17002,0.17004,0.16985,0.16997,0.17002,0.16992,\n",
    "0.16991,0.16984,0.1699,0.16999,0.16992,0.16992,0.16997,0.17002,0.17002,0.17,0.17001,0.17005,0.17003,0.17002,0.17,0.16997])\n",
    "SecmM80 = pd.Series([0.18793,0.18773,0.18745,0.18747,0.18744,0.18732,0.18726,0.18711,0.18726,0.187,0.18685,0.1868,0.1867,0.18691,0.18669,0.18656,\n",
    "0.18653,0.1865,0.18646,0.18649,0.18643,0.1864,0.18639,0.18636,0.18634,0.18631,0.18626,0.18624,0.18619,0.18624])\n",
    "SecmM160 = pd.Series([0.20333,0.20266,0.20261,0.20259,0.20254,0.20252,0.20247,0.20239,0.20241,0.20227,0.2022,0.20217,0.20211,0.2021,0.20211,\n",
    "0.20202,0.202,0.20199,0.20198,0.20196,0.20198,0.20198,0.20199,0.202,0.20201,0.20201,0.202,0.20199,0.20202,0.20202])"
   ]
  },
  {
   "cell_type": "code",
   "execution_count": 13,
   "id": "4afdcf5c-875f-484b-9f06-6e540d263541",
   "metadata": {
    "tags": []
   },
   "outputs": [],
   "source": [
    "Sec_values = pd.DataFrame(data = pd.concat([SecmM20,SecmM40,SecmM80,SecmM160])*1000, columns = ['values_25mL [mV]'])\n",
    "Sec_values['mM'] = pd.concat([pd.Series(20*np.ones(30)),pd.Series(40*np.ones(30)),pd.Series(80*np.ones(30)),pd.Series(160*np.ones(30))])\n",
    "Sec_values['time [s]'] = 2*np.arange(120)"
   ]
  },
  {
   "cell_type": "code",
   "execution_count": 14,
   "id": "3491babb-6eec-4ce3-a5cb-f24e39e4b6c3",
   "metadata": {
    "tags": []
   },
   "outputs": [
    {
     "data": {
      "image/png": "[encoded data removed]",
      "text/plain": [
       "<Figure size 1080x576 with 1 Axes>"
      ]
     },
     "metadata": {
      "needs_background": "light"
     },
     "output_type": "display_data"
    }
   ],
   "source": [
    "plt.figure(figsize=(15,8))\n",
    "Sec_avg = []\n",
    "Sec_std = []\n",
    "for subgroup, group in Sec_values.groupby('mM'):\n",
    "    plt.scatter(group['time [s]'], group['values_25mL [mV]'], label=str(group['mM'][0])+' mM')\n",
    "    Sec_avg.append(round(group['values_25mL [mV]'].mean(),5))\n",
    "    Sec_std.append(round(group['values_25mL [mV]'].std(),5))\n",
    "    \n",
    "# Aggiungere la legenda\n",
    "plt.legend()\n",
    "\n",
    "# Aggiungere etichette agli assi\n",
    "plt.xlabel('time [s]')\n",
    "plt.ylabel('values [mV]')\n",
    "plt.title(\"Sample - 25 mg\")\n",
    "# Mostrare il grafico\n",
    "plt.grid()\n",
    "\n",
    "plt.savefig(r'C:\\Users\\Desi\\Desktop\\TesiStanford\\Nasensing\\25mL.png')\n",
    "plt.show()"
   ]
  },
  {
   "cell_type": "code",
   "execution_count": 15,
   "id": "f573d7ea-2085-4e08-a507-64ffd21de32d",
   "metadata": {},
   "outputs": [
    {
     "data": {
      "text/html": [
       "<div>\n",
       "<style scoped>\n",
       "    .dataframe tbody tr th:only-of-type {\n",
       "        vertical-align: middle;\n",
       "    }\n",
       "\n",
       "    .dataframe tbody tr th {\n",
       "        vertical-align: top;\n",
       "    }\n",
       "\n",
       "    .dataframe thead th {\n",
       "        text-align: right;\n",
       "    }\n",
       "</style>\n",
       "<table border=\"1\" class=\"dataframe\">\n",
       "  <thead>\n",
       "    <tr style=\"text-align: right;\">\n",
       "      <th></th>\n",
       "      <th>mM</th>\n",
       "      <th>Delta_25mL [mV]</th>\n",
       "    </tr>\n",
       "  </thead>\n",
       "  <tbody>\n",
       "    <tr>\n",
       "      <th>0</th>\n",
       "      <td>20-40</td>\n",
       "      <td>18.82983</td>\n",
       "    </tr>\n",
       "    <tr>\n",
       "      <th>1</th>\n",
       "      <td>40-80</td>\n",
       "      <td>16.721</td>\n",
       "    </tr>\n",
       "    <tr>\n",
       "      <th>2</th>\n",
       "      <td>80-160</td>\n",
       "      <td>15.427</td>\n",
       "    </tr>\n",
       "  </tbody>\n",
       "</table>\n",
       "</div>"
      ],
      "text/plain": [
       "       mM Delta_25mL [mV]\n",
       "0   20-40        18.82983\n",
       "1   40-80          16.721\n",
       "2  80-160          15.427"
      ]
     },
     "execution_count": 15,
     "metadata": {},
     "output_type": "execute_result"
    }
   ],
   "source": [
    "delta_2 = pd.DataFrame(data = [[\"20-40\", \"40-80\", \"80-160\"],np.diff(Sec_avg)], index = ['mM', 'Delta_25mL [mV]']).transpose()\n",
    "delta_2"
   ]
  },
  {
   "cell_type": "code",
   "execution_count": 16,
   "id": "09f72a9f-d3c2-441e-bfe4-917c27f028ee",
   "metadata": {},
   "outputs": [
    {
     "name": "stdout",
     "output_type": "stream",
     "text": [
      "std [mV]:\n"
     ]
    },
    {
     "data": {
      "text/html": [
       "<div>\n",
       "<style scoped>\n",
       "    .dataframe tbody tr th:only-of-type {\n",
       "        vertical-align: middle;\n",
       "    }\n",
       "\n",
       "    .dataframe tbody tr th {\n",
       "        vertical-align: top;\n",
       "    }\n",
       "\n",
       "    .dataframe thead th {\n",
       "        text-align: right;\n",
       "    }\n",
       "</style>\n",
       "<table border=\"1\" class=\"dataframe\">\n",
       "  <thead>\n",
       "    <tr style=\"text-align: right;\">\n",
       "      <th></th>\n",
       "      <th>mM</th>\n",
       "      <th>std_25mL [mV]</th>\n",
       "      <th>avg_25mL [mV]</th>\n",
       "    </tr>\n",
       "  </thead>\n",
       "  <tbody>\n",
       "    <tr>\n",
       "      <th>0</th>\n",
       "      <td>20</td>\n",
       "      <td>0.1983</td>\n",
       "      <td>151.2365</td>\n",
       "    </tr>\n",
       "    <tr>\n",
       "      <th>1</th>\n",
       "      <td>40</td>\n",
       "      <td>0.29492</td>\n",
       "      <td>170.06633</td>\n",
       "    </tr>\n",
       "    <tr>\n",
       "      <th>2</th>\n",
       "      <td>80</td>\n",
       "      <td>0.49542</td>\n",
       "      <td>186.78733</td>\n",
       "    </tr>\n",
       "    <tr>\n",
       "      <th>3</th>\n",
       "      <td>160</td>\n",
       "      <td>0.3124</td>\n",
       "      <td>202.21433</td>\n",
       "    </tr>\n",
       "  </tbody>\n",
       "</table>\n",
       "</div>"
      ],
      "text/plain": [
       "    mM std_25mL [mV] avg_25mL [mV]\n",
       "0   20        0.1983      151.2365\n",
       "1   40       0.29492     170.06633\n",
       "2   80       0.49542     186.78733\n",
       "3  160        0.3124     202.21433"
      ]
     },
     "execution_count": 16,
     "metadata": {},
     "output_type": "execute_result"
    }
   ],
   "source": [
    "print(\"std [mV]:\")\n",
    "mean_std_25 = pd.DataFrame(data = [[\"20\", \"40\", \"80\", \"160\"],Sec_std, Sec_avg], index = ['mM', 'std_25mL [mV]', 'avg_25mL [mV]']).transpose()\n",
    "mean_std_25"
   ]
  },
  {
   "cell_type": "code",
   "execution_count": 17,
   "id": "a1a7a200-f7cb-4eea-ac53-1f505a59b34c",
   "metadata": {},
   "outputs": [
    {
     "data": {
      "text/html": [
       "<div>\n",
       "<style scoped>\n",
       "    .dataframe tbody tr th:only-of-type {\n",
       "        vertical-align: middle;\n",
       "    }\n",
       "\n",
       "    .dataframe tbody tr th {\n",
       "        vertical-align: top;\n",
       "    }\n",
       "\n",
       "    .dataframe thead th {\n",
       "        text-align: right;\n",
       "    }\n",
       "</style>\n",
       "<table border=\"1\" class=\"dataframe\">\n",
       "  <thead>\n",
       "    <tr style=\"text-align: right;\">\n",
       "      <th></th>\n",
       "      <th>mM</th>\n",
       "      <th>std_25mL [mV]</th>\n",
       "      <th>avg_25mL [mV]</th>\n",
       "    </tr>\n",
       "  </thead>\n",
       "  <tbody>\n",
       "    <tr>\n",
       "      <th>0</th>\n",
       "      <td>20</td>\n",
       "      <td>0.1983</td>\n",
       "      <td>0.0</td>\n",
       "    </tr>\n",
       "    <tr>\n",
       "      <th>1</th>\n",
       "      <td>40</td>\n",
       "      <td>0.29492</td>\n",
       "      <td>18.82983</td>\n",
       "    </tr>\n",
       "    <tr>\n",
       "      <th>2</th>\n",
       "      <td>80</td>\n",
       "      <td>0.49542</td>\n",
       "      <td>35.55083</td>\n",
       "    </tr>\n",
       "    <tr>\n",
       "      <th>3</th>\n",
       "      <td>160</td>\n",
       "      <td>0.3124</td>\n",
       "      <td>50.97783</td>\n",
       "    </tr>\n",
       "  </tbody>\n",
       "</table>\n",
       "</div>"
      ],
      "text/plain": [
       "    mM std_25mL [mV] avg_25mL [mV]\n",
       "0   20        0.1983           0.0\n",
       "1   40       0.29492      18.82983\n",
       "2   80       0.49542      35.55083\n",
       "3  160        0.3124      50.97783"
      ]
     },
     "execution_count": 17,
     "metadata": {},
     "output_type": "execute_result"
    }
   ],
   "source": [
    "mean_std_25['avg_25mL [mV]'] = mean_std_25['avg_25mL [mV]']-mean_std_25['avg_25mL [mV]'].loc[0]\n",
    "mean_std_25"
   ]
  },
  {
   "cell_type": "code",
   "execution_count": 18,
   "id": "edfb0df1-1098-4465-9949-651607ed6317",
   "metadata": {},
   "outputs": [],
   "source": [
    "mean_std_25.to_csv(r'C:\\Users\\Desi\\Desktop\\TesiStanford\\Nasensing\\mean_std_25mLSample.csv', encoding='utf-8',sep=',', float_format='%.4f')"
   ]
  },
  {
   "cell_type": "code",
   "execution_count": 19,
   "id": "f9dde6da-8de1-4f0d-8580-2466e1cfe85e",
   "metadata": {},
   "outputs": [],
   "source": [
    "#postprocessing"
   ]
  },
  {
   "cell_type": "code",
   "execution_count": 20,
   "id": "ba707f1e-e147-4d43-af7b-24c9d1afc7b6",
   "metadata": {},
   "outputs": [
    {
     "data": {
      "text/html": [
       "<div>\n",
       "<style scoped>\n",
       "    .dataframe tbody tr th:only-of-type {\n",
       "        vertical-align: middle;\n",
       "    }\n",
       "\n",
       "    .dataframe tbody tr th {\n",
       "        vertical-align: top;\n",
       "    }\n",
       "\n",
       "    .dataframe thead th {\n",
       "        text-align: right;\n",
       "    }\n",
       "</style>\n",
       "<table border=\"1\" class=\"dataframe\">\n",
       "  <thead>\n",
       "    <tr style=\"text-align: right;\">\n",
       "      <th></th>\n",
       "      <th>values_10mL [mV]</th>\n",
       "      <th>mM</th>\n",
       "      <th>time [s]</th>\n",
       "      <th>values_25mL [mV]</th>\n",
       "      <th>FTvalues_10mL [mV]</th>\n",
       "    </tr>\n",
       "  </thead>\n",
       "  <tbody>\n",
       "    <tr>\n",
       "      <th>0</th>\n",
       "      <td>239.24</td>\n",
       "      <td>20.0</td>\n",
       "      <td>0</td>\n",
       "      <td>151.02</td>\n",
       "      <td>261.55</td>\n",
       "    </tr>\n",
       "    <tr>\n",
       "      <th>1</th>\n",
       "      <td>239.37</td>\n",
       "      <td>20.0</td>\n",
       "      <td>2</td>\n",
       "      <td>151.04</td>\n",
       "      <td>261.59</td>\n",
       "    </tr>\n",
       "    <tr>\n",
       "      <th>2</th>\n",
       "      <td>239.46</td>\n",
       "      <td>20.0</td>\n",
       "      <td>4</td>\n",
       "      <td>150.50</td>\n",
       "      <td>261.70</td>\n",
       "    </tr>\n",
       "    <tr>\n",
       "      <th>3</th>\n",
       "      <td>239.67</td>\n",
       "      <td>20.0</td>\n",
       "      <td>6</td>\n",
       "      <td>151.03</td>\n",
       "      <td>261.79</td>\n",
       "    </tr>\n",
       "    <tr>\n",
       "      <th>4</th>\n",
       "      <td>239.61</td>\n",
       "      <td>20.0</td>\n",
       "      <td>8</td>\n",
       "      <td>151.08</td>\n",
       "      <td>261.85</td>\n",
       "    </tr>\n",
       "    <tr>\n",
       "      <th>...</th>\n",
       "      <td>...</td>\n",
       "      <td>...</td>\n",
       "      <td>...</td>\n",
       "      <td>...</td>\n",
       "      <td>...</td>\n",
       "    </tr>\n",
       "    <tr>\n",
       "      <th>115</th>\n",
       "      <td>289.24</td>\n",
       "      <td>160.0</td>\n",
       "      <td>230</td>\n",
       "      <td>202.01</td>\n",
       "      <td>NaN</td>\n",
       "    </tr>\n",
       "    <tr>\n",
       "      <th>116</th>\n",
       "      <td>289.20</td>\n",
       "      <td>160.0</td>\n",
       "      <td>232</td>\n",
       "      <td>202.00</td>\n",
       "      <td>NaN</td>\n",
       "    </tr>\n",
       "    <tr>\n",
       "      <th>117</th>\n",
       "      <td>289.17</td>\n",
       "      <td>160.0</td>\n",
       "      <td>234</td>\n",
       "      <td>201.99</td>\n",
       "      <td>NaN</td>\n",
       "    </tr>\n",
       "    <tr>\n",
       "      <th>118</th>\n",
       "      <td>289.13</td>\n",
       "      <td>160.0</td>\n",
       "      <td>236</td>\n",
       "      <td>202.02</td>\n",
       "      <td>NaN</td>\n",
       "    </tr>\n",
       "    <tr>\n",
       "      <th>119</th>\n",
       "      <td>289.09</td>\n",
       "      <td>160.0</td>\n",
       "      <td>238</td>\n",
       "      <td>202.02</td>\n",
       "      <td>NaN</td>\n",
       "    </tr>\n",
       "  </tbody>\n",
       "</table>\n",
       "<p>120 rows × 5 columns</p>\n",
       "</div>"
      ],
      "text/plain": [
       "     values_10mL [mV]     mM  time [s]  values_25mL [mV]  FTvalues_10mL [mV]\n",
       "0              239.24   20.0         0            151.02              261.55\n",
       "1              239.37   20.0         2            151.04              261.59\n",
       "2              239.46   20.0         4            150.50              261.70\n",
       "3              239.67   20.0         6            151.03              261.79\n",
       "4              239.61   20.0         8            151.08              261.85\n",
       "..                ...    ...       ...               ...                 ...\n",
       "115            289.24  160.0       230            202.01                 NaN\n",
       "116            289.20  160.0       232            202.00                 NaN\n",
       "117            289.17  160.0       234            201.99                 NaN\n",
       "118            289.13  160.0       236            202.02                 NaN\n",
       "119            289.09  160.0       238            202.02                 NaN\n",
       "\n",
       "[120 rows x 5 columns]"
      ]
     },
     "execution_count": 20,
     "metadata": {},
     "output_type": "execute_result"
    }
   ],
   "source": [
    "values = values.merge(Sec_values, on = ['time [s]','mM']).merge(FTvalues.drop(columns = 'mM'), on = 'time [s]', how = 'outer')\n",
    "values"
   ]
  },
  {
   "cell_type": "code",
   "execution_count": 21,
   "id": "3e4b76db-8ec6-466b-8cfc-d62513f2ad9e",
   "metadata": {},
   "outputs": [
    {
     "data": {
      "image/png": "[encoded data removed]",
      "text/plain": [
       "<Figure size 1080x576 with 1 Axes>"
      ]
     },
     "metadata": {
      "needs_background": "light"
     },
     "output_type": "display_data"
    }
   ],
   "source": [
    "plt.figure(figsize=(15,8))\n",
    "Sec_avg = []\n",
    "Sec_std = []\n",
    "values = values.reset_index(drop = True)\n",
    "col1 = sns.color_palette(\"rocket\")\n",
    "col3 = sns.color_palette(\"flare\")\n",
    "col2 = sns.color_palette(\"crest\")\n",
    "for i, [_,group] in enumerate(values.groupby('mM')):\n",
    "    plt.scatter(group['time [s]'], group['values_25mL [mV]'] - list(values.groupby('mM'))[0][1]['values_25mL [mV]'].mean(), label=str(group['mM'].iloc[0])+' mM, 25 mL', color = col2[i])\n",
    "    plt.scatter(group['time [s]'], group['values_10mL [mV]']- list(values.groupby('mM'))[0][1]['values_10mL [mV]'].mean(), label=str(group['mM'].iloc[0])+' mM, 10 mL', color = col1[i])\n",
    "    plt.scatter(group['time [s]'], group['FTvalues_10mL [mV]']- list(values.groupby('mM'))[0][1]['FTvalues_10mL [mV]'].mean(), label=str(group['mM'].iloc[0])+' mM, 10 mL FT', color = col3[i])\n",
    "# Aggiungere la legenda\n",
    "plt.legend(loc = 0)\n",
    "\n",
    "# Aggiungere etichette agli assi\n",
    "plt.xlabel('time [s]')\n",
    "plt.ylabel('values [mV]')\n",
    "plt.title(\"Sample Comparison - NO offset\")\n",
    "# Mostrare il grafico\n",
    "plt.grid()\n",
    "\n",
    "plt.savefig(r'C:\\Users\\Desi\\Desktop\\TesiStanford\\Nasensing\\Comparison_nooffest.png')\n",
    "plt.show()"
   ]
  },
  {
   "cell_type": "code",
   "execution_count": 22,
   "id": "31c5d3c7-2a72-4747-adc6-0c36dd67da6c",
   "metadata": {},
   "outputs": [
    {
     "data": {
      "text/html": [
       "<div>\n",
       "<style scoped>\n",
       "    .dataframe tbody tr th:only-of-type {\n",
       "        vertical-align: middle;\n",
       "    }\n",
       "\n",
       "    .dataframe tbody tr th {\n",
       "        vertical-align: top;\n",
       "    }\n",
       "\n",
       "    .dataframe thead th {\n",
       "        text-align: right;\n",
       "    }\n",
       "</style>\n",
       "<table border=\"1\" class=\"dataframe\">\n",
       "  <thead>\n",
       "    <tr style=\"text-align: right;\">\n",
       "      <th></th>\n",
       "      <th></th>\n",
       "      <th>values_10mL [mV]</th>\n",
       "      <th>values_25mL [mV]</th>\n",
       "      <th>FTvalues_10mL [mV]</th>\n",
       "    </tr>\n",
       "    <tr>\n",
       "      <th>time [s]</th>\n",
       "      <th>mM</th>\n",
       "      <th></th>\n",
       "      <th></th>\n",
       "      <th></th>\n",
       "    </tr>\n",
       "  </thead>\n",
       "  <tbody>\n",
       "    <tr>\n",
       "      <th>0</th>\n",
       "      <th>20.0</th>\n",
       "      <td>239.24</td>\n",
       "      <td>151.02</td>\n",
       "      <td>261.55</td>\n",
       "    </tr>\n",
       "    <tr>\n",
       "      <th>2</th>\n",
       "      <th>20.0</th>\n",
       "      <td>239.37</td>\n",
       "      <td>151.04</td>\n",
       "      <td>261.59</td>\n",
       "    </tr>\n",
       "    <tr>\n",
       "      <th>4</th>\n",
       "      <th>20.0</th>\n",
       "      <td>239.46</td>\n",
       "      <td>150.50</td>\n",
       "      <td>261.70</td>\n",
       "    </tr>\n",
       "    <tr>\n",
       "      <th>6</th>\n",
       "      <th>20.0</th>\n",
       "      <td>239.67</td>\n",
       "      <td>151.03</td>\n",
       "      <td>261.79</td>\n",
       "    </tr>\n",
       "    <tr>\n",
       "      <th>8</th>\n",
       "      <th>20.0</th>\n",
       "      <td>239.61</td>\n",
       "      <td>151.08</td>\n",
       "      <td>261.85</td>\n",
       "    </tr>\n",
       "    <tr>\n",
       "      <th>...</th>\n",
       "      <th>...</th>\n",
       "      <td>...</td>\n",
       "      <td>...</td>\n",
       "      <td>...</td>\n",
       "    </tr>\n",
       "    <tr>\n",
       "      <th>230</th>\n",
       "      <th>160.0</th>\n",
       "      <td>289.24</td>\n",
       "      <td>202.01</td>\n",
       "      <td>NaN</td>\n",
       "    </tr>\n",
       "    <tr>\n",
       "      <th>232</th>\n",
       "      <th>160.0</th>\n",
       "      <td>289.20</td>\n",
       "      <td>202.00</td>\n",
       "      <td>NaN</td>\n",
       "    </tr>\n",
       "    <tr>\n",
       "      <th>234</th>\n",
       "      <th>160.0</th>\n",
       "      <td>289.17</td>\n",
       "      <td>201.99</td>\n",
       "      <td>NaN</td>\n",
       "    </tr>\n",
       "    <tr>\n",
       "      <th>236</th>\n",
       "      <th>160.0</th>\n",
       "      <td>289.13</td>\n",
       "      <td>202.02</td>\n",
       "      <td>NaN</td>\n",
       "    </tr>\n",
       "    <tr>\n",
       "      <th>238</th>\n",
       "      <th>160.0</th>\n",
       "      <td>289.09</td>\n",
       "      <td>202.02</td>\n",
       "      <td>NaN</td>\n",
       "    </tr>\n",
       "  </tbody>\n",
       "</table>\n",
       "<p>120 rows × 3 columns</p>\n",
       "</div>"
      ],
      "text/plain": [
       "                values_10mL [mV]  values_25mL [mV]  FTvalues_10mL [mV]\n",
       "time [s] mM                                                           \n",
       "0        20.0             239.24            151.02              261.55\n",
       "2        20.0             239.37            151.04              261.59\n",
       "4        20.0             239.46            150.50              261.70\n",
       "6        20.0             239.67            151.03              261.79\n",
       "8        20.0             239.61            151.08              261.85\n",
       "...                          ...               ...                 ...\n",
       "230      160.0            289.24            202.01                 NaN\n",
       "232      160.0            289.20            202.00                 NaN\n",
       "234      160.0            289.17            201.99                 NaN\n",
       "236      160.0            289.13            202.02                 NaN\n",
       "238      160.0            289.09            202.02                 NaN\n",
       "\n",
       "[120 rows x 3 columns]"
      ]
     },
     "execution_count": 22,
     "metadata": {},
     "output_type": "execute_result"
    }
   ],
   "source": [
    "values.set_index(['time [s]','mM'])"
   ]
  },
  {
   "cell_type": "code",
   "execution_count": 23,
   "id": "68ede0e7-88ac-4c81-a07a-a7d3f717accd",
   "metadata": {},
   "outputs": [
    {
     "data": {
      "text/plain": [
       "<AxesSubplot:xlabel='mM', ylabel='values_25mL [mV]'>"
      ]
     },
     "execution_count": 23,
     "metadata": {},
     "output_type": "execute_result"
    },
    {
     "data": {
      "image/png": "[encoded data removed]",
      "text/plain": [
       "<Figure size 1080x576 with 1 Axes>"
      ]
     },
     "metadata": {
      "needs_background": "light"
     },
     "output_type": "display_data"
    }
   ],
   "source": [
    "plt.figure(figsize=(15,8))\n",
    "sns.boxplot(data=values, x=\"mM\", y=\"values_10mL [mV]\")\n",
    "sns.boxplot(data=values, x=\"mM\", y=\"values_25mL [mV]\")"
   ]
  },
  {
   "cell_type": "code",
   "execution_count": 24,
   "id": "132b54b0-fb1a-4551-9706-89f672ef957a",
   "metadata": {},
   "outputs": [
    {
     "data": {
      "image/png": "[encoded data removed]",
      "text/plain": [
       "<Figure size 432x360 with 1 Axes>"
      ]
     },
     "metadata": {
      "needs_background": "light"
     },
     "output_type": "display_data"
    }
   ],
   "source": [
    "plt.figure(figsize=(6,5))\n",
    "plt.scatter(delta_1['mM'], delta_1['Delta_10mL [mV]'], label='10 mL', marker = \"s\", s = 100)\n",
    "plt.scatter(delta_2['mM'], delta_2['Delta_25mL [mV]'], label='25 mL', marker = 'v', s = 100)\n",
    "plt.scatter(deltaFT['mM'], deltaFT['Delta_FT_10mL [mV]'], label='10 mL - FT', marker = 'x', s = 100)\n",
    "plt.legend()\n",
    "plt.title('Delta interval between concentrations')\n",
    "plt.xlabel('mM')\n",
    "plt.grid()\n",
    "plt.ylabel('[mV]')\n",
    "\n",
    "plt.savefig(r'C:\\Users\\Desi\\Desktop\\TesiStanford\\Nasensing\\Delta.png')"
   ]
  },
  {
   "cell_type": "code",
   "execution_count": 25,
   "id": "38892fd0-e8ee-4ea9-9c91-d5dc5674d100",
   "metadata": {},
   "outputs": [
    {
     "data": {
      "text/html": [
       "<div>\n",
       "<style scoped>\n",
       "    .dataframe tbody tr th:only-of-type {\n",
       "        vertical-align: middle;\n",
       "    }\n",
       "\n",
       "    .dataframe tbody tr th {\n",
       "        vertical-align: top;\n",
       "    }\n",
       "\n",
       "    .dataframe thead th {\n",
       "        text-align: right;\n",
       "    }\n",
       "</style>\n",
       "<table border=\"1\" class=\"dataframe\">\n",
       "  <thead>\n",
       "    <tr style=\"text-align: right;\">\n",
       "      <th></th>\n",
       "      <th></th>\n",
       "      <th>values_10mL [mV]</th>\n",
       "      <th>values_25mL [mV]</th>\n",
       "      <th>FTvalues_10mL [mV]</th>\n",
       "    </tr>\n",
       "    <tr>\n",
       "      <th>time [s]</th>\n",
       "      <th>mM</th>\n",
       "      <th></th>\n",
       "      <th></th>\n",
       "      <th></th>\n",
       "    </tr>\n",
       "  </thead>\n",
       "  <tbody>\n",
       "    <tr>\n",
       "      <th>0</th>\n",
       "      <th>20.0</th>\n",
       "      <td>239.24</td>\n",
       "      <td>151.02</td>\n",
       "      <td>261.55</td>\n",
       "    </tr>\n",
       "    <tr>\n",
       "      <th>2</th>\n",
       "      <th>20.0</th>\n",
       "      <td>239.37</td>\n",
       "      <td>151.04</td>\n",
       "      <td>261.59</td>\n",
       "    </tr>\n",
       "    <tr>\n",
       "      <th>4</th>\n",
       "      <th>20.0</th>\n",
       "      <td>239.46</td>\n",
       "      <td>150.50</td>\n",
       "      <td>261.70</td>\n",
       "    </tr>\n",
       "    <tr>\n",
       "      <th>6</th>\n",
       "      <th>20.0</th>\n",
       "      <td>239.67</td>\n",
       "      <td>151.03</td>\n",
       "      <td>261.79</td>\n",
       "    </tr>\n",
       "    <tr>\n",
       "      <th>8</th>\n",
       "      <th>20.0</th>\n",
       "      <td>239.61</td>\n",
       "      <td>151.08</td>\n",
       "      <td>261.85</td>\n",
       "    </tr>\n",
       "    <tr>\n",
       "      <th>...</th>\n",
       "      <th>...</th>\n",
       "      <td>...</td>\n",
       "      <td>...</td>\n",
       "      <td>...</td>\n",
       "    </tr>\n",
       "    <tr>\n",
       "      <th>230</th>\n",
       "      <th>160.0</th>\n",
       "      <td>289.24</td>\n",
       "      <td>202.01</td>\n",
       "      <td>NaN</td>\n",
       "    </tr>\n",
       "    <tr>\n",
       "      <th>232</th>\n",
       "      <th>160.0</th>\n",
       "      <td>289.20</td>\n",
       "      <td>202.00</td>\n",
       "      <td>NaN</td>\n",
       "    </tr>\n",
       "    <tr>\n",
       "      <th>234</th>\n",
       "      <th>160.0</th>\n",
       "      <td>289.17</td>\n",
       "      <td>201.99</td>\n",
       "      <td>NaN</td>\n",
       "    </tr>\n",
       "    <tr>\n",
       "      <th>236</th>\n",
       "      <th>160.0</th>\n",
       "      <td>289.13</td>\n",
       "      <td>202.02</td>\n",
       "      <td>NaN</td>\n",
       "    </tr>\n",
       "    <tr>\n",
       "      <th>238</th>\n",
       "      <th>160.0</th>\n",
       "      <td>289.09</td>\n",
       "      <td>202.02</td>\n",
       "      <td>NaN</td>\n",
       "    </tr>\n",
       "  </tbody>\n",
       "</table>\n",
       "<p>120 rows × 3 columns</p>\n",
       "</div>"
      ],
      "text/plain": [
       "                values_10mL [mV]  values_25mL [mV]  FTvalues_10mL [mV]\n",
       "time [s] mM                                                           \n",
       "0        20.0             239.24            151.02              261.55\n",
       "2        20.0             239.37            151.04              261.59\n",
       "4        20.0             239.46            150.50              261.70\n",
       "6        20.0             239.67            151.03              261.79\n",
       "8        20.0             239.61            151.08              261.85\n",
       "...                          ...               ...                 ...\n",
       "230      160.0            289.24            202.01                 NaN\n",
       "232      160.0            289.20            202.00                 NaN\n",
       "234      160.0            289.17            201.99                 NaN\n",
       "236      160.0            289.13            202.02                 NaN\n",
       "238      160.0            289.09            202.02                 NaN\n",
       "\n",
       "[120 rows x 3 columns]"
      ]
     },
     "execution_count": 25,
     "metadata": {},
     "output_type": "execute_result"
    }
   ],
   "source": [
    "values = values.set_index(['time [s]', 'mM'])\n",
    "values"
   ]
  },
  {
   "cell_type": "code",
   "execution_count": 26,
   "id": "e7159d00-fe02-41e8-b1a2-493f52cfddcf",
   "metadata": {},
   "outputs": [],
   "source": [
    "values.to_csv(r'C:\\Users\\Desi\\Desktop\\TesiStanford\\Nasensing\\df10_25mL.csv', encoding='utf-8',sep=',', float_format='%.2f')"
   ]
  },
  {
   "cell_type": "code",
   "execution_count": 27,
   "id": "385e9f53-bb13-4de9-b47f-57b61f2c9c12",
   "metadata": {},
   "outputs": [
    {
     "data": {
      "text/html": [
       "<div>\n",
       "<style scoped>\n",
       "    .dataframe tbody tr th:only-of-type {\n",
       "        vertical-align: middle;\n",
       "    }\n",
       "\n",
       "    .dataframe tbody tr th {\n",
       "        vertical-align: top;\n",
       "    }\n",
       "\n",
       "    .dataframe thead th {\n",
       "        text-align: right;\n",
       "    }\n",
       "</style>\n",
       "<table border=\"1\" class=\"dataframe\">\n",
       "  <thead>\n",
       "    <tr style=\"text-align: right;\">\n",
       "      <th></th>\n",
       "      <th>mM</th>\n",
       "      <th>Delta_25mL [mV]</th>\n",
       "      <th>Delta_10mL [mV]</th>\n",
       "      <th>Delta_FT_10mL [mV]</th>\n",
       "    </tr>\n",
       "  </thead>\n",
       "  <tbody>\n",
       "    <tr>\n",
       "      <th>0</th>\n",
       "      <td>20-40</td>\n",
       "      <td>18.82983</td>\n",
       "      <td>18.57333</td>\n",
       "      <td>18.59375</td>\n",
       "    </tr>\n",
       "    <tr>\n",
       "      <th>1</th>\n",
       "      <td>40-80</td>\n",
       "      <td>16.721</td>\n",
       "      <td>15.53267</td>\n",
       "      <td>16.68188</td>\n",
       "    </tr>\n",
       "    <tr>\n",
       "      <th>2</th>\n",
       "      <td>80-160</td>\n",
       "      <td>15.427</td>\n",
       "      <td>15.56467</td>\n",
       "      <td>NaN</td>\n",
       "    </tr>\n",
       "  </tbody>\n",
       "</table>\n",
       "</div>"
      ],
      "text/plain": [
       "       mM Delta_25mL [mV] Delta_10mL [mV] Delta_FT_10mL [mV]\n",
       "0   20-40        18.82983        18.57333           18.59375\n",
       "1   40-80          16.721        15.53267           16.68188\n",
       "2  80-160          15.427        15.56467                NaN"
      ]
     },
     "execution_count": 27,
     "metadata": {},
     "output_type": "execute_result"
    }
   ],
   "source": [
    "Delta = delta_2.merge(delta_1,on='mM').merge(deltaFT,on='mM', how = 'outer')\n",
    "Delta"
   ]
  },
  {
   "cell_type": "code",
   "execution_count": 28,
   "id": "5285c80e-c950-4267-9038-4354992e10d7",
   "metadata": {},
   "outputs": [],
   "source": [
    "Delta.to_csv(r'C:\\Users\\Desi\\Desktop\\TesiStanford\\Nasensing\\Delta.csv', encoding='utf-8',sep=',', float_format='%.3f')"
   ]
  },
  {
   "cell_type": "code",
   "execution_count": 29,
   "id": "f6d3712c-7254-416f-98bf-0ca1c80ab4a4",
   "metadata": {},
   "outputs": [
    {
     "data": {
      "text/html": [
       "<div>\n",
       "<style scoped>\n",
       "    .dataframe tbody tr th:only-of-type {\n",
       "        vertical-align: middle;\n",
       "    }\n",
       "\n",
       "    .dataframe tbody tr th {\n",
       "        vertical-align: top;\n",
       "    }\n",
       "\n",
       "    .dataframe thead th {\n",
       "        text-align: right;\n",
       "    }\n",
       "</style>\n",
       "<table border=\"1\" class=\"dataframe\">\n",
       "  <thead>\n",
       "    <tr style=\"text-align: right;\">\n",
       "      <th></th>\n",
       "      <th>mM</th>\n",
       "      <th>std_10mL [mV]</th>\n",
       "      <th>avg_10mL [mV]</th>\n",
       "      <th>std_FT_10mL [mV]</th>\n",
       "      <th>avg_FT_10mL [mV]</th>\n",
       "      <th>std_25mL [mV]</th>\n",
       "      <th>avg_25mL [mV]</th>\n",
       "    </tr>\n",
       "  </thead>\n",
       "  <tbody>\n",
       "    <tr>\n",
       "      <th>0</th>\n",
       "      <td>20</td>\n",
       "      <td>0.4802</td>\n",
       "      <td>240.181</td>\n",
       "      <td>0.25295</td>\n",
       "      <td>261.98312</td>\n",
       "      <td>0.1983</td>\n",
       "      <td>0.0</td>\n",
       "    </tr>\n",
       "    <tr>\n",
       "      <th>1</th>\n",
       "      <td>40</td>\n",
       "      <td>0.26211</td>\n",
       "      <td>258.75433</td>\n",
       "      <td>0.22876</td>\n",
       "      <td>280.57687</td>\n",
       "      <td>0.29492</td>\n",
       "      <td>18.82983</td>\n",
       "    </tr>\n",
       "    <tr>\n",
       "      <th>2</th>\n",
       "      <td>80</td>\n",
       "      <td>0.36723</td>\n",
       "      <td>274.287</td>\n",
       "      <td>0.50681</td>\n",
       "      <td>297.25875</td>\n",
       "      <td>0.49542</td>\n",
       "      <td>35.55083</td>\n",
       "    </tr>\n",
       "    <tr>\n",
       "      <th>3</th>\n",
       "      <td>160</td>\n",
       "      <td>0.56687</td>\n",
       "      <td>289.85167</td>\n",
       "      <td>NaN</td>\n",
       "      <td>NaN</td>\n",
       "      <td>0.3124</td>\n",
       "      <td>50.97783</td>\n",
       "    </tr>\n",
       "  </tbody>\n",
       "</table>\n",
       "</div>"
      ],
      "text/plain": [
       "    mM std_10mL [mV] avg_10mL [mV] std_FT_10mL [mV] avg_FT_10mL [mV]  \\\n",
       "0   20        0.4802       240.181          0.25295        261.98312   \n",
       "1   40       0.26211     258.75433          0.22876        280.57687   \n",
       "2   80       0.36723       274.287          0.50681        297.25875   \n",
       "3  160       0.56687     289.85167              NaN              NaN   \n",
       "\n",
       "  std_25mL [mV] avg_25mL [mV]  \n",
       "0        0.1983           0.0  \n",
       "1       0.29492      18.82983  \n",
       "2       0.49542      35.55083  \n",
       "3        0.3124      50.97783  "
      ]
     },
     "execution_count": 29,
     "metadata": {},
     "output_type": "execute_result"
    }
   ],
   "source": [
    "mean_std = mean_std_10.merge(mean_std_FT,on='mM', how = 'outer').merge(mean_std_25,on='mM')\n",
    "mean_std"
   ]
  },
  {
   "cell_type": "code",
   "execution_count": 34,
   "id": "7ddfd9c3-cb9e-432f-8a63-269b3214d03a",
   "metadata": {},
   "outputs": [
    {
     "name": "stderr",
     "output_type": "stream",
     "text": [
      "C:\\Users\\Desi\\AppData\\Local\\Temp\\ipykernel_15796\\3356292786.py:2: SettingWithCopyWarning: \n",
      "A value is trying to be set on a copy of a slice from a DataFrame.\n",
      "Try using .loc[row_indexer,col_indexer] = value instead\n",
      "\n",
      "See the caveats in the documentation: https://pandas.pydata.org/pandas-docs/stable/user_guide/indexing.html#returning-a-view-versus-a-copy\n",
      "  mean_std10mL['avg_10mL [mV]'] = mean_std10mL['avg_10mL [mV]']-mean_std10mL['avg_10mL [mV]'].loc[0]\n"
     ]
    },
    {
     "data": {
      "text/html": [
       "<div>\n",
       "<style scoped>\n",
       "    .dataframe tbody tr th:only-of-type {\n",
       "        vertical-align: middle;\n",
       "    }\n",
       "\n",
       "    .dataframe tbody tr th {\n",
       "        vertical-align: top;\n",
       "    }\n",
       "\n",
       "    .dataframe thead th {\n",
       "        text-align: right;\n",
       "    }\n",
       "</style>\n",
       "<table border=\"1\" class=\"dataframe\">\n",
       "  <thead>\n",
       "    <tr style=\"text-align: right;\">\n",
       "      <th></th>\n",
       "      <th>mM</th>\n",
       "      <th>std_10mL [mV]</th>\n",
       "      <th>avg_10mL [mV]</th>\n",
       "    </tr>\n",
       "  </thead>\n",
       "  <tbody>\n",
       "    <tr>\n",
       "      <th>0</th>\n",
       "      <td>20</td>\n",
       "      <td>0.4802</td>\n",
       "      <td>0.0</td>\n",
       "    </tr>\n",
       "    <tr>\n",
       "      <th>1</th>\n",
       "      <td>40</td>\n",
       "      <td>0.26211</td>\n",
       "      <td>18.57333</td>\n",
       "    </tr>\n",
       "    <tr>\n",
       "      <th>2</th>\n",
       "      <td>80</td>\n",
       "      <td>0.36723</td>\n",
       "      <td>34.106</td>\n",
       "    </tr>\n",
       "    <tr>\n",
       "      <th>3</th>\n",
       "      <td>160</td>\n",
       "      <td>0.56687</td>\n",
       "      <td>49.67067</td>\n",
       "    </tr>\n",
       "  </tbody>\n",
       "</table>\n",
       "</div>"
      ],
      "text/plain": [
       "    mM std_10mL [mV] avg_10mL [mV]\n",
       "0   20        0.4802           0.0\n",
       "1   40       0.26211      18.57333\n",
       "2   80       0.36723        34.106\n",
       "3  160       0.56687      49.67067"
      ]
     },
     "execution_count": 34,
     "metadata": {},
     "output_type": "execute_result"
    }
   ],
   "source": [
    "mean_std10mL = mean_std[['mM','std_10mL [mV]','avg_10mL [mV]']]\n",
    "mean_std10mL['avg_10mL [mV]'] = mean_std10mL['avg_10mL [mV]']-mean_std10mL['avg_10mL [mV]'].loc[0]\n"
   ]
  },
  {
   "cell_type": "code",
   "execution_count": 35,
   "id": "74ea8c59-efbb-4a9b-b618-a01a071e1cbb",
   "metadata": {},
   "outputs": [],
   "source": [
    "mean_std10mL.to_csv(r'C:\\Users\\Desi\\Desktop\\TesiStanford\\Nasensing\\mean_std_10mLSample.csv', encoding='utf-8',sep=',', float_format='%.4f')"
   ]
  },
  {
   "cell_type": "code",
   "execution_count": 438,
   "id": "e58cd22c-00f0-42ca-b34b-6863155b6f56",
   "metadata": {},
   "outputs": [],
   "source": [
    "mean_std.to_csv(r'C:\\Users\\Desi\\Desktop\\TesiStanford\\Nasensing\\mean_std.csv', encoding='utf-8',sep=',', float_format='%.3f')"
   ]
  },
  {
   "cell_type": "code",
   "execution_count": 439,
   "id": "6c8a13b5-d7ee-4cc6-bfc3-3c11911575b5",
   "metadata": {},
   "outputs": [
    {
     "data": {
      "image/png": "[encoded data removed]",
      "text/plain": [
       "<Figure size 432x360 with 1 Axes>"
      ]
     },
     "metadata": {
      "needs_background": "light"
     },
     "output_type": "display_data"
    }
   ],
   "source": [
    "plt.figure(figsize=(6,5))\n",
    "plt.scatter(mean_std_10['mM'], mean_std_10['avg_10mL [mV]'], label='10 mL', marker = \"s\", s = 100)\n",
    "#plt.errorbar(mean_std_10['mM'], mean_std_10['avg_10mL [mV]'], yerr=mean_std_10['std_10mL [mV]'], label='std')\n",
    "plt.scatter(mean_std_25['mM'], mean_std_25['avg_25mL [mV]'], label='25 mL', marker = 'v', s = 100)\n",
    "#plt.errorbar(mean_std_25['mM'], mean_std_25['avg_25mL [mV]'], yerr=mean_std_25['std_25mL [mV]'], label='std')\n",
    "plt.scatter(mean_std_FT['mM'], mean_std_FT['avg_FT_10mL [mV]'], label='10 mL - FT', marker = 'x', s = 100)\n",
    "plt.legend()\n",
    "plt.title('Average values')\n",
    "plt.xlabel('mM')\n",
    "plt.grid()\n",
    "plt.ylabel('[mV]')\n",
    "\n",
    "plt.savefig(r'C:\\Users\\Desi\\Desktop\\TesiStanford\\Nasensing\\Avg.png')"
   ]
  },
  {
   "cell_type": "code",
   "execution_count": null,
   "id": "2cdf0b07-ce1b-429b-9834-f5882fea72cc",
   "metadata": {},
   "outputs": [],
   "source": []
  }
 ],
 "metadata": {
  "kernelspec": {
   "display_name": "Python 3 (ipykernel)",
   "language": "python",
   "name": "python3"
  },
  "language_info": {
   "codemirror_mode": {
    "name": "ipython",
    "version": 3
   },
   "file_extension": ".py",
   "mimetype": "text/x-python",
   "name": "python",
   "nbconvert_exporter": "python",
   "pygments_lexer": "ipython3",
   "version": "3.9.13"
  }
 },
 "nbformat": 4,
 "nbformat_minor": 5
}
