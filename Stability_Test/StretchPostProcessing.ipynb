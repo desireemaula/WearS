{
 "cells": [
  {
   "cell_type": "markdown",
   "id": "57f494a0-903c-489f-b4df-d207a5eb4a28",
   "metadata": {},
   "source": [
    "# Postprocessing Stretch Test"
   ]
  },
  {
   "cell_type": "code",
   "execution_count": 1,
   "id": "40ff3e9d-c2a7-497b-99a4-e1c912609072",
   "metadata": {},
   "outputs": [
    {
     "name": "stderr",
     "output_type": "stream",
     "text": [
      "C:\\Users\\desi\\anaconda3\\lib\\site-packages\\pandas\\core\\computation\\expressions.py:21: UserWarning: Pandas requires version '2.8.4' or newer of 'numexpr' (version '2.8.1' currently installed).\n",
      "  from pandas.core.computation.check import NUMEXPR_INSTALLED\n",
      "C:\\Users\\desi\\anaconda3\\lib\\site-packages\\pandas\\core\\arrays\\masked.py:60: UserWarning: Pandas requires version '1.3.6' or newer of 'bottleneck' (version '1.3.4' currently installed).\n",
      "  from pandas.core import (\n"
     ]
    }
   ],
   "source": [
    "import sys\n",
    "sys.path.append('..') \n",
    "\n",
    "import pandas as pd\n",
    "import time\n",
    "import matplotlib.pyplot as plt\n",
    "import re\n",
    "from pandas import ExcelWriter\n",
    "from datetime import datetime\n",
    "import os\n",
    "from functools import reduce \n",
    "import numpy as np\n",
    "\n",
    "import utils\n",
    "import warnings\n",
    "\n",
    "# Suppress warnings\n",
    "warnings.filterwarnings(\"ignore\")\n",
    "\n",
    "#os.chdir(r\"C:\\Users\\Desi\\Desktop\\TesiStanford\\keithley_results\\121323-d1114-1-w-tempstab\")\n",
    "os.chdir(r\"C:\\Users\\Desi\\Desktop\\TesiStanford\\data_to_analyze\\finalokdevice\")\n",
    "path =  os.getcwd()"
   ]
  },
  {
   "cell_type": "code",
   "execution_count": 2,
   "id": "da426ae1-0229-47f9-8622-f3b9c4b9a366",
   "metadata": {},
   "outputs": [],
   "source": [
    "def create_folder(device_name,type_of_test,additional_comment= None):\n",
    "    \"\"\"\n",
    "    create a new folder of the type mmddyyyy-devicename-type_of_test\n",
    "    return path of the folder\n",
    "    \"\"\"\n",
    "    today = datetime.now()\n",
    "    if additional_comment:\n",
    "        os.mkdir(today.strftime('%m%d%Y')+'-'+device_name+'-'+type_of_test+'-'+additional_comment)\n",
    "        return today.strftime('%m%d%Y')+'-'+device_name+'-'+type_of_test+'-'+additional_comment\n",
    "    else:\n",
    "        os.mkdir(today.strftime('%m%d%Y')+'-'+device_name+'-'+type_of_test)\n",
    "        return today.strftime('%m%d%Y')+'-'+device_name+'-'+type_of_test"
   ]
  },
  {
   "cell_type": "code",
   "execution_count": 3,
   "id": "8d404b8d-845e-48ac-99bb-2112559b6231",
   "metadata": {},
   "outputs": [],
   "source": [
    "col_L = '#1E5986'\n",
    "col_R = '#BF8F00'\n",
    "col_diff = \"#FF8080\""
   ]
  },
  {
   "cell_type": "code",
   "execution_count": 4,
   "id": "ed39516b-b95e-4753-865c-39818e85f5ac",
   "metadata": {
    "tags": []
   },
   "outputs": [
    {
     "name": "stdout",
     "output_type": "stream",
     "text": [
      "WARNING *** file size (44774) not 512 + multiple of sector size (512)\n",
      "WARNING *** OLE2 inconsistency: SSCS size is 0 but SSAT size is non-zero\n",
      "WARNING *** file size (44778) not 512 + multiple of sector size (512)\n",
      "WARNING *** OLE2 inconsistency: SSCS size is 0 but SSAT size is non-zero\n",
      "WARNING *** file size (41068) not 512 + multiple of sector size (512)\n",
      "WARNING *** OLE2 inconsistency: SSCS size is 0 but SSAT size is non-zero\n",
      "WARNING *** file size (41062) not 512 + multiple of sector size (512)\n",
      "WARNING *** OLE2 inconsistency: SSCS size is 0 but SSAT size is non-zero\n",
      "WARNING *** file size (41076) not 512 + multiple of sector size (512)\n",
      "WARNING *** OLE2 inconsistency: SSCS size is 0 but SSAT size is non-zero\n",
      "WARNING *** file size (44309) not 512 + multiple of sector size (512)\n",
      "WARNING *** OLE2 inconsistency: SSCS size is 0 but SSAT size is non-zero\n",
      "WARNING *** file size (44768) not 512 + multiple of sector size (512)\n",
      "WARNING *** OLE2 inconsistency: SSCS size is 0 but SSAT size is non-zero\n",
      "WARNING *** file size (44766) not 512 + multiple of sector size (512)\n",
      "WARNING *** OLE2 inconsistency: SSCS size is 0 but SSAT size is non-zero\n",
      "WARNING *** file size (41060) not 512 + multiple of sector size (512)\n",
      "WARNING *** OLE2 inconsistency: SSCS size is 0 but SSAT size is non-zero\n",
      "WARNING *** file size (41048) not 512 + multiple of sector size (512)\n",
      "WARNING *** OLE2 inconsistency: SSCS size is 0 but SSAT size is non-zero\n",
      "WARNING *** file size (41044) not 512 + multiple of sector size (512)\n",
      "WARNING *** OLE2 inconsistency: SSCS size is 0 but SSAT size is non-zero\n",
      "WARNING *** file size (44297) not 512 + multiple of sector size (512)\n",
      "WARNING *** OLE2 inconsistency: SSCS size is 0 but SSAT size is non-zero\n",
      "WARNING *** file size (44766) not 512 + multiple of sector size (512)\n",
      "WARNING *** OLE2 inconsistency: SSCS size is 0 but SSAT size is non-zero\n",
      "WARNING *** file size (44794) not 512 + multiple of sector size (512)\n",
      "WARNING *** OLE2 inconsistency: SSCS size is 0 but SSAT size is non-zero\n",
      "WARNING *** file size (41060) not 512 + multiple of sector size (512)\n",
      "WARNING *** OLE2 inconsistency: SSCS size is 0 but SSAT size is non-zero\n",
      "WARNING *** file size (41060) not 512 + multiple of sector size (512)\n",
      "WARNING *** OLE2 inconsistency: SSCS size is 0 but SSAT size is non-zero\n",
      "WARNING *** file size (41046) not 512 + multiple of sector size (512)\n",
      "WARNING *** OLE2 inconsistency: SSCS size is 0 but SSAT size is non-zero\n",
      "WARNING *** file size (44329) not 512 + multiple of sector size (512)\n",
      "WARNING *** OLE2 inconsistency: SSCS size is 0 but SSAT size is non-zero\n",
      "WARNING *** file size (44802) not 512 + multiple of sector size (512)\n",
      "WARNING *** OLE2 inconsistency: SSCS size is 0 but SSAT size is non-zero\n",
      "WARNING *** file size (41076) not 512 + multiple of sector size (512)\n",
      "WARNING *** OLE2 inconsistency: SSCS size is 0 but SSAT size is non-zero\n",
      "WARNING *** file size (41040) not 512 + multiple of sector size (512)\n",
      "WARNING *** OLE2 inconsistency: SSCS size is 0 but SSAT size is non-zero\n",
      "WARNING *** file size (41072) not 512 + multiple of sector size (512)\n",
      "WARNING *** OLE2 inconsistency: SSCS size is 0 but SSAT size is non-zero\n",
      "WARNING *** file size (44325) not 512 + multiple of sector size (512)\n",
      "WARNING *** OLE2 inconsistency: SSCS size is 0 but SSAT size is non-zero\n",
      "WARNING *** file size (44750) not 512 + multiple of sector size (512)\n",
      "WARNING *** OLE2 inconsistency: SSCS size is 0 but SSAT size is non-zero\n",
      "WARNING *** file size (41054) not 512 + multiple of sector size (512)\n",
      "WARNING *** OLE2 inconsistency: SSCS size is 0 but SSAT size is non-zero\n",
      "WARNING *** file size (41056) not 512 + multiple of sector size (512)\n",
      "WARNING *** OLE2 inconsistency: SSCS size is 0 but SSAT size is non-zero\n",
      "WARNING *** file size (41072) not 512 + multiple of sector size (512)\n",
      "WARNING *** OLE2 inconsistency: SSCS size is 0 but SSAT size is non-zero\n",
      "WARNING *** file size (44321) not 512 + multiple of sector size (512)\n",
      "WARNING *** OLE2 inconsistency: SSCS size is 0 but SSAT size is non-zero\n"
     ]
    }
   ],
   "source": [
    "# reading files and saving them in the dictionary df\n",
    "df = {}\n",
    "strain = ['0','25','50','75','100']\n",
    "for st in strain: df[st] = [pd.read_excel(str(os.getcwd())+'\\\\'+excelfile) for excelfile in os.listdir(str(os.getcwd())) if excelfile.endswith('-'+st+'%.xls')]"
   ]
  },
  {
   "cell_type": "markdown",
   "id": "b18dad8f-bf1c-4271-a7d2-ba261075b122",
   "metadata": {},
   "source": [
    "### Computing the max values of the Right and Left curves, their mean and std for all the orientations"
   ]
  },
  {
   "cell_type": "code",
   "execution_count": 5,
   "id": "c1c02cfd-8b72-4d51-afe6-543a96b0b28e",
   "metadata": {},
   "outputs": [],
   "source": [
    "max_values = [[[i['DrainVLeft'].max(),i['DrainVRight'].max()] for i in df[st]] for st in strain]\n",
    "mean = [np.mean(max_values[i],0) for i in range(len(strain))]\n",
    "std = [np.std(max_values[i],0) for i in range(len(strain))]\n",
    "std_diff = [np.std(np.array([max_values[i][j][0] for j in range(len(max_values[i]))])-np.array([max_values[i][j][1] for j in range(len(max_values[i]))]))*1000 for i in range(len(strain))]"
   ]
  },
  {
   "cell_type": "markdown",
   "id": "3e13f92f-4bd6-4837-8a33-cf41263ce7fe",
   "metadata": {},
   "source": [
    "### plotting all the orientations together\n"
   ]
  },
  {
   "cell_type": "code",
   "execution_count": 6,
   "id": "6fc5c3b2-aa28-4fc6-b7ac-a1ed158da1f1",
   "metadata": {},
   "outputs": [
    {
     "data": {
      "image/png": "[encoded data removed]",
      "text/plain": [
       "<Figure size 576x360 with 1 Axes>"
      ]
     },
     "metadata": {
      "needs_background": "light"
     },
     "output_type": "display_data"
    }
   ],
   "source": [
    "mean_L = np.array([i[0] for i in mean])*1000\n",
    "mean_L = mean_L- mean_L[0]\n",
    "mean_R = np.array([i[1] for i in mean])*1000\n",
    "mean_R = mean_R- mean_R[0]\n",
    "\n",
    "fig, ax1 = plt.subplots(figsize=(8, 5))\n",
    "plt.scatter(strain,mean_L,label = 'Left', color = col_L, linewidth = 2)\n",
    "plt.errorbar(strain,mean_L, yerr = [i[0]*1000 for i in std], color = col_L, linewidth = 3)\n",
    "plt.scatter(strain,mean_R,label = 'Right', color = col_R, linewidth = 2)\n",
    "plt.errorbar(strain,mean_R, yerr = [i[1]*1000 for i in std], color = col_R, linewidth = 3)\n",
    "plt.scatter(strain,np.array(mean_R)-np.array(mean_L), label = 'Diff', color = col_diff, linewidth = 2)\n",
    "plt.errorbar(strain,np.array(mean_R)-np.array(mean_L), yerr = std_diff, color = col_diff, linewidth = 3)\n",
    "#plt.legend(0)\n",
    "#plt.grid()\n",
    "plt.ylabel('Response [mV]', fontsize = 15)\n",
    "plt.xlabel('Strain [%]', fontsize = 15)\n",
    "ax1.tick_params(axis='both', labelsize=11)\n",
    "plt.title('Mean of values @ 1uA, different orientations, N = 9', fontsize = 15)\n",
    "plt.savefig(r'C:\\Users\\Desi\\Desktop\\TesiStanford\\images-results\\stretchalltogether.jpeg')"
   ]
  },
  {
   "cell_type": "code",
   "execution_count": 19,
   "id": "e574383e-4644-4d74-8229-a78cac85820b",
   "metadata": {},
   "outputs": [
    {
     "name": "stdout",
     "output_type": "stream",
     "text": [
      "Mean +- std @100%: [53.278, 1101.381]  mV\n"
     ]
    }
   ],
   "source": [
    "print('Mean +- std @100%:', [round((np.array(mean_R)-np.array(mean_L))[4],3), round(std_diff[4],3)],' mV'  )"
   ]
  },
  {
   "cell_type": "code",
   "execution_count": 8,
   "id": "1676b09f-65a2-440f-867d-fd254af4666f",
   "metadata": {},
   "outputs": [
    {
     "name": "stdout",
     "output_type": "stream",
     "text": [
      "Mean +- std @50%: [-307.934, 504.531]  mV\n"
     ]
    }
   ],
   "source": [
    "print('Mean +- std @50%:', [round((np.array(mean_R)-np.array(mean_L))[2],3), round(std_diff[2],3)],' mV'  )"
   ]
  },
  {
   "cell_type": "code",
   "execution_count": null,
   "id": "1e41c4b7-2a57-4f4c-9e22-63f0b9a8bc29",
   "metadata": {},
   "outputs": [],
   "source": []
  },
  {
   "cell_type": "code",
   "execution_count": 9,
   "id": "95386430-2189-4f83-a5bd-fa7070a418af",
   "metadata": {
    "tags": []
   },
   "outputs": [
    {
     "name": "stdout",
     "output_type": "stream",
     "text": [
      "WARNING *** file size (44774) not 512 + multiple of sector size (512)\n",
      "WARNING *** OLE2 inconsistency: SSCS size is 0 but SSAT size is non-zero\n",
      "WARNING *** file size (41068) not 512 + multiple of sector size (512)\n",
      "WARNING *** OLE2 inconsistency: SSCS size is 0 but SSAT size is non-zero\n",
      "WARNING *** file size (41062) not 512 + multiple of sector size (512)\n",
      "WARNING *** OLE2 inconsistency: SSCS size is 0 but SSAT size is non-zero\n",
      "WARNING *** file size (44768) not 512 + multiple of sector size (512)\n",
      "WARNING *** OLE2 inconsistency: SSCS size is 0 but SSAT size is non-zero\n",
      "WARNING *** file size (41060) not 512 + multiple of sector size (512)\n",
      "WARNING *** OLE2 inconsistency: SSCS size is 0 but SSAT size is non-zero\n",
      "WARNING *** file size (41048) not 512 + multiple of sector size (512)\n",
      "WARNING *** OLE2 inconsistency: SSCS size is 0 but SSAT size is non-zero\n",
      "WARNING *** file size (44766) not 512 + multiple of sector size (512)\n",
      "WARNING *** OLE2 inconsistency: SSCS size is 0 but SSAT size is non-zero\n",
      "WARNING *** file size (41060) not 512 + multiple of sector size (512)\n",
      "WARNING *** OLE2 inconsistency: SSCS size is 0 but SSAT size is non-zero\n",
      "WARNING *** file size (41060) not 512 + multiple of sector size (512)\n",
      "WARNING *** OLE2 inconsistency: SSCS size is 0 but SSAT size is non-zero\n",
      "WARNING *** file size (41076) not 512 + multiple of sector size (512)\n",
      "WARNING *** OLE2 inconsistency: SSCS size is 0 but SSAT size is non-zero\n",
      "WARNING *** file size (41040) not 512 + multiple of sector size (512)\n",
      "WARNING *** OLE2 inconsistency: SSCS size is 0 but SSAT size is non-zero\n",
      "WARNING *** file size (41054) not 512 + multiple of sector size (512)\n",
      "WARNING *** OLE2 inconsistency: SSCS size is 0 but SSAT size is non-zero\n",
      "WARNING *** file size (41056) not 512 + multiple of sector size (512)\n",
      "WARNING *** OLE2 inconsistency: SSCS size is 0 but SSAT size is non-zero\n",
      "WARNING *** file size (44778) not 512 + multiple of sector size (512)\n",
      "WARNING *** OLE2 inconsistency: SSCS size is 0 but SSAT size is non-zero\n",
      "WARNING *** file size (41076) not 512 + multiple of sector size (512)\n",
      "WARNING *** OLE2 inconsistency: SSCS size is 0 but SSAT size is non-zero\n",
      "WARNING *** file size (44309) not 512 + multiple of sector size (512)\n",
      "WARNING *** OLE2 inconsistency: SSCS size is 0 but SSAT size is non-zero\n",
      "WARNING *** file size (44766) not 512 + multiple of sector size (512)\n",
      "WARNING *** OLE2 inconsistency: SSCS size is 0 but SSAT size is non-zero\n",
      "WARNING *** file size (41044) not 512 + multiple of sector size (512)\n",
      "WARNING *** OLE2 inconsistency: SSCS size is 0 but SSAT size is non-zero\n",
      "WARNING *** file size (44297) not 512 + multiple of sector size (512)\n",
      "WARNING *** OLE2 inconsistency: SSCS size is 0 but SSAT size is non-zero\n",
      "WARNING *** file size (44794) not 512 + multiple of sector size (512)\n",
      "WARNING *** OLE2 inconsistency: SSCS size is 0 but SSAT size is non-zero\n",
      "WARNING *** file size (41046) not 512 + multiple of sector size (512)\n",
      "WARNING *** OLE2 inconsistency: SSCS size is 0 but SSAT size is non-zero\n",
      "WARNING *** file size (44329) not 512 + multiple of sector size (512)\n",
      "WARNING *** OLE2 inconsistency: SSCS size is 0 but SSAT size is non-zero\n",
      "WARNING *** file size (44802) not 512 + multiple of sector size (512)\n",
      "WARNING *** OLE2 inconsistency: SSCS size is 0 but SSAT size is non-zero\n",
      "WARNING *** file size (41072) not 512 + multiple of sector size (512)\n",
      "WARNING *** OLE2 inconsistency: SSCS size is 0 but SSAT size is non-zero\n",
      "WARNING *** file size (44325) not 512 + multiple of sector size (512)\n",
      "WARNING *** OLE2 inconsistency: SSCS size is 0 but SSAT size is non-zero\n",
      "WARNING *** file size (44750) not 512 + multiple of sector size (512)\n",
      "WARNING *** OLE2 inconsistency: SSCS size is 0 but SSAT size is non-zero\n",
      "WARNING *** file size (41072) not 512 + multiple of sector size (512)\n",
      "WARNING *** OLE2 inconsistency: SSCS size is 0 but SSAT size is non-zero\n",
      "WARNING *** file size (44321) not 512 + multiple of sector size (512)\n",
      "WARNING *** OLE2 inconsistency: SSCS size is 0 but SSAT size is non-zero\n"
     ]
    }
   ],
   "source": [
    "os.chdir(r\"C:\\Users\\Desi\\Desktop\\TesiStanford\\data_to_analyze\\finalokdevice\")\n",
    "path =  os.getcwd()\n",
    "df_r = {}\n",
    "row = ['1','2','3']\n",
    "strain = ['0','25','50','75','100']\n",
    "for r in row: \n",
    "    df_r[r] = {}\n",
    "    for st in strain: df_r[r][st] = [pd.read_excel(str(os.getcwd())+'\\\\'+excelfile) for excelfile in os.listdir(str(os.getcwd())) if excelfile.endswith('-'+st+'%.xls') and 'r'+r in excelfile]"
   ]
  },
  {
   "cell_type": "markdown",
   "id": "3ce2208b-2184-42f3-b49e-67e983ce8344",
   "metadata": {},
   "source": [
    "### Computing the max values of the Right and Left curves, their mean and std for each row"
   ]
  },
  {
   "cell_type": "code",
   "execution_count": 10,
   "id": "14b6319d-a36b-43a2-907e-f13866b1d535",
   "metadata": {
    "tags": []
   },
   "outputs": [],
   "source": [
    "max_values_r = {}\n",
    "mean_r = {}\n",
    "std_r = {}\n",
    "std_diff_r = {}\n",
    "for r in row:\n",
    "    max_values_r[r] = [[[i['DrainVLeft'].max(),i['DrainVRight'].max()] for i in df_r[r][st]] for st in strain]\n",
    "    mean_r[r] = [np.mean(max_values_r[r][i],0) for i in range(len(strain))]\n",
    "    std_r[r] = [np.std(max_values_r[r][i],0) for i in range(len(strain))]\n",
    "    std_diff_r[r] = [np.std(np.array([max_values_r[r][i][j][0] for j in range(len(max_values_r[r][i]))])-np.array([max_values_r[r][i][j][1] for j in range(len(max_values_r[r][i]))]))*1000 for i in range(len(strain))]"
   ]
  },
  {
   "cell_type": "markdown",
   "id": "1cd027b2-f02b-484e-a197-438a18218951",
   "metadata": {},
   "source": [
    "### plotting the DeltaV as a function of the strain for each row (orientation)"
   ]
  },
  {
   "cell_type": "code",
   "execution_count": 20,
   "id": "0d824ce2-2657-416c-a861-fa17650a6964",
   "metadata": {},
   "outputs": [
    {
     "data": {
      "text/plain": [
       "{'1': array([ 3474.63417053,  4305.33289909,  7285.54948171, 12001.75126394,\n",
       "        28100.33671061]),\n",
       " '2': array([2065.99533558, 2505.04406293, 3463.89071147, 4719.72703934,\n",
       "        6813.06823095]),\n",
       " '3': array([ 3339.94166056,  4257.46862094,  5005.59322039,  8984.80272293,\n",
       "        19563.49102656])}"
      ]
     },
     "execution_count": 20,
     "metadata": {},
     "output_type": "execute_result"
    }
   ],
   "source": [
    "mean_L_r"
   ]
  },
  {
   "cell_type": "code",
   "execution_count": 11,
   "id": "9480c2a5-4fe7-4301-b25f-909d00d651e5",
   "metadata": {
    "tags": []
   },
   "outputs": [
    {
     "name": "stdout",
     "output_type": "stream",
     "text": [
      "Mean +- std @25%: for row  1 [-1366.032, 544.828]  mV\n",
      "Mean +- std @25%: for row  2 [451.093, 206.37]  mV\n",
      "Mean +- std @25%: for row  3 [1099.653, 179.718]  mV\n"
     ]
    },
    {
     "data": {
      "image/png": "[encoded data removed]",
      "text/plain": [
       "<Figure size 576x360 with 1 Axes>"
      ]
     },
     "metadata": {
      "needs_background": "light"
     },
     "output_type": "display_data"
    },
    {
     "data": {
      "image/png": "[encoded data removed]",
      "text/plain": [
       "<Figure size 576x360 with 1 Axes>"
      ]
     },
     "metadata": {
      "needs_background": "light"
     },
     "output_type": "display_data"
    },
    {
     "data": {
      "image/png": "[encoded data removed]",
      "text/plain": [
       "<Figure size 576x360 with 1 Axes>"
      ]
     },
     "metadata": {
      "needs_background": "light"
     },
     "output_type": "display_data"
    }
   ],
   "source": [
    "df_rows = {}\n",
    "mean_L_r = {}\n",
    "mean_R_r = {}\n",
    "N = ['3','3', '3','3']\n",
    "incl = ['0', '90', '45', '135']\n",
    "for r in row:\n",
    "    mean_L_r[r] = np.array([i[0] for i in mean_r[r] if not np.isnan(i).all()])*1000\n",
    "    mean_R_r[r] = np.array([i[1] for i in mean_r[r] if not np.isnan(i).all()])*1000\n",
    "    data = [mean_L_r[r]-mean_L_r[r][0], [i[0]*1000 for i in std_r[r] if not np.isnan(i).all()],mean_R_r[r]-mean_R_r[r][0], [i[1]*1000 for i in std_r[r] if not np.isnan(i).all()],  np.abs(np.array(mean_R_r[r]-mean_R_r[r][0])-np.array(mean_L_r[r]-mean_L_r[r][0])), np.array(std_diff_r[r])[~np.isnan(np.array(std_diff_r[r]))]]\n",
    "    df_rows[r] = pd.DataFrame(data).transpose().rename(columns = {0: 'Mean_L [mV]', 1: 'std_L [mV]', 2: 'Mean_R [mV]', 3: 'std_R [mV]', 4: 'Diff |Vl-VR| [mV]', 5: 'std diff [mV]'})\n",
    "\n",
    "    fig, ax1 = plt.subplots(figsize=(8, 5))\n",
    "    plt.scatter(strain[:len(mean_L_r[r])],mean_L_r[r]-mean_L_r[r][0],label = 'Left', color = col_L, linewidth = 2)\n",
    "    plt.errorbar(strain[:len(mean_L_r[r])],mean_L_r[r]-mean_L_r[r][0], yerr = [i[0]*1000 for i in std_r[r] if not np.isnan(i).all()], color = col_L, linewidth = 3)\n",
    "    plt.scatter(strain[:len(mean_L_r[r])],mean_R_r[r]-mean_R_r[r][0],label = 'Right', color = col_R, linewidth = 2)\n",
    "    plt.errorbar(strain[:len(mean_L_r[r])],mean_R_r[r]-mean_R_r[r][0], yerr = [i[1]*1000 for i in std_r[r] if not np.isnan(i).all()], color = col_R, linewidth = 3)\n",
    "    plt.scatter(strain[:len(mean_L_r[r])],np.abs(np.array(mean_R_r[r]-mean_R_r[r][0])-np.array(mean_L_r[r]-mean_L_r[r][0])), label = 'Diff', color = col_diff, linewidth = 2)\n",
    "    plt.errorbar(strain[:len(mean_L_r[r])],np.abs(np.array(mean_R_r[r]-mean_R_r[r][0])-np.array(mean_L_r[r]-mean_L_r[r][0])), yerr = np.array(std_diff_r[r])[~np.isnan(np.array(std_diff_r[r]))], color = col_diff, linewidth = 3)\n",
    "    #plt.legend(loc = 0)\n",
    "    #plt.grid()\n",
    "    plt.ylabel('Response [mV]',fontsize = 15)\n",
    "    plt.xlabel('Strain [%]',fontsize = 15)\n",
    "    ax1.tick_params(axis='both', labelsize=13)\n",
    "    \n",
    "    plt.title('Mean of values @ 1uA, orientation: ' + incl[int(r)-1]+'°, N = '+ N[int(r)-1],fontsize = 15)\n",
    "    plt.savefig(r'C:\\Users\\Desi\\Desktop\\TesiStanford\\images-results\\stretchallthreeplots'+r+'.jpeg')\n",
    "    print('Mean +- std @25%: for row ',r, [round((np.array(mean_R_r[r])-np.array(mean_L_r[r]))[4],3), round(std_diff_r[r][4],3)],' mV'  )"
   ]
  },
  {
   "cell_type": "code",
   "execution_count": null,
   "id": "7e333fe4-c4c3-47d7-99d4-7e320aa568d6",
   "metadata": {},
   "outputs": [],
   "source": [
    "df_r['3']['75']"
   ]
  },
  {
   "cell_type": "code",
   "execution_count": 13,
   "id": "8a6b9649-cf21-4a0b-977d-23134ab106a4",
   "metadata": {},
   "outputs": [
    {
     "name": "stdout",
     "output_type": "stream",
     "text": [
      "Mean +- std @25%: for row  1 [-1366.032, 544.828]  mV\n",
      "Mean +- std @25%: for row  3 [1099.653, 179.718]  mV\n",
      "Mean +- std @25%: for row  2 [451.093, 206.37]  mV\n"
     ]
    }
   ],
   "source": [
    "table_row_diff = pd.DataFrame()\n",
    "orientation = ['0°','45°','90°']\n",
    "for i,r in enumerate(['1','3','2']):\n",
    "    print('Mean +- std @25%: for row ',r, [round((np.array(mean_R_r[r])-np.array(mean_L_r[r]))[4],3), round(std_diff_r[r][4],3)],' mV'  )\n",
    "    table_row_diff[orientation[i] + ': mean [mV]'] = (np.array(mean_R_r[r])-np.array(mean_L_r[r]))\n",
    "    table_row_diff[orientation[i] + ': std [mV]'] = std_diff_r[r]\n",
    "    "
   ]
  },
  {
   "cell_type": "code",
   "execution_count": 14,
   "id": "ed8ba4a0-0295-427c-a6d4-cea3d86aaa13",
   "metadata": {},
   "outputs": [
    {
     "data": {
      "text/html": [
       "<div>\n",
       "<style scoped>\n",
       "    .dataframe tbody tr th:only-of-type {\n",
       "        vertical-align: middle;\n",
       "    }\n",
       "\n",
       "    .dataframe tbody tr th {\n",
       "        vertical-align: top;\n",
       "    }\n",
       "\n",
       "    .dataframe thead th {\n",
       "        text-align: right;\n",
       "    }\n",
       "</style>\n",
       "<table border=\"1\" class=\"dataframe\">\n",
       "  <thead>\n",
       "    <tr style=\"text-align: right;\">\n",
       "      <th></th>\n",
       "      <th>0°: mean [mV]</th>\n",
       "      <th>0°: std [mV]</th>\n",
       "      <th>45°: mean [mV]</th>\n",
       "      <th>45°: std [mV]</th>\n",
       "      <th>90°: mean [mV]</th>\n",
       "      <th>90°: std [mV]</th>\n",
       "    </tr>\n",
       "  </thead>\n",
       "  <tbody>\n",
       "    <tr>\n",
       "      <th>0% strain</th>\n",
       "      <td>-53.707600</td>\n",
       "      <td>285.163266</td>\n",
       "      <td>-26.946704</td>\n",
       "      <td>109.575910</td>\n",
       "      <td>105.534474</td>\n",
       "      <td>116.965992</td>\n",
       "    </tr>\n",
       "    <tr>\n",
       "      <th>25% strain</th>\n",
       "      <td>-259.038051</td>\n",
       "      <td>393.853467</td>\n",
       "      <td>-44.237614</td>\n",
       "      <td>125.138216</td>\n",
       "      <td>1.762946</td>\n",
       "      <td>137.426286</td>\n",
       "    </tr>\n",
       "    <tr>\n",
       "      <th>50% strain</th>\n",
       "      <td>-790.771484</td>\n",
       "      <td>624.095023</td>\n",
       "      <td>8.245945</td>\n",
       "      <td>42.890296</td>\n",
       "      <td>-116.397063</td>\n",
       "      <td>52.326488</td>\n",
       "    </tr>\n",
       "    <tr>\n",
       "      <th>75% strain</th>\n",
       "      <td>-963.203589</td>\n",
       "      <td>1359.091629</td>\n",
       "      <td>574.110826</td>\n",
       "      <td>560.536832</td>\n",
       "      <td>59.031804</td>\n",
       "      <td>708.399734</td>\n",
       "    </tr>\n",
       "    <tr>\n",
       "      <th>100% strain</th>\n",
       "      <td>-1366.032283</td>\n",
       "      <td>544.828299</td>\n",
       "      <td>1099.653085</td>\n",
       "      <td>179.717974</td>\n",
       "      <td>451.092561</td>\n",
       "      <td>206.370327</td>\n",
       "    </tr>\n",
       "  </tbody>\n",
       "</table>\n",
       "</div>"
      ],
      "text/plain": [
       "             0°: mean [mV]  0°: std [mV]  45°: mean [mV]  45°: std [mV]  \\\n",
       "0% strain       -53.707600    285.163266      -26.946704     109.575910   \n",
       "25% strain     -259.038051    393.853467      -44.237614     125.138216   \n",
       "50% strain     -790.771484    624.095023        8.245945      42.890296   \n",
       "75% strain     -963.203589   1359.091629      574.110826     560.536832   \n",
       "100% strain   -1366.032283    544.828299     1099.653085     179.717974   \n",
       "\n",
       "             90°: mean [mV]  90°: std [mV]  \n",
       "0% strain        105.534474     116.965992  \n",
       "25% strain         1.762946     137.426286  \n",
       "50% strain      -116.397063      52.326488  \n",
       "75% strain        59.031804     708.399734  \n",
       "100% strain      451.092561     206.370327  "
      ]
     },
     "execution_count": 14,
     "metadata": {},
     "output_type": "execute_result"
    }
   ],
   "source": [
    "st = {\n",
    "    0: '0% strain',\n",
    "    1: '25% strain',\n",
    "    2: '50% strain',\n",
    "    3: '75% strain',\n",
    "    4: '100% strain'\n",
    "}\n",
    "table_row_diff = table_row_diff.rename(index=st)\n",
    "table_row_diff"
   ]
  },
  {
   "cell_type": "code",
   "execution_count": 15,
   "id": "b70d9269-b915-49a2-841f-079e783de3d6",
   "metadata": {},
   "outputs": [],
   "source": [
    "nomi_colonne = table_row_diff.columns.tolist()\n",
    "\n",
    "# Dividi i nomi delle colonne in base ai delimitatori\n",
    "nomi_suddivisi = [nome.split(': ') for nome in nomi_colonne]\n",
    "\n",
    "# Estrai orientazioni e statistiche\n",
    "orientazioni = [nome[0] for nome in nomi_suddivisi]\n",
    "statistiche = [nome[1].split(' [')[0] for nome in nomi_suddivisi]\n",
    "\n",
    "# Crea il MultiIndex\n",
    "multi_indice = pd.MultiIndex.from_arrays([orientazioni, statistiche], names=['Orientation', 'Statistic [mV]'])\n",
    "\n",
    "# Assegna il MultiIndex alle colonne del DataFrame\n",
    "table_row_diff.columns = multi_indice"
   ]
  },
  {
   "cell_type": "code",
   "execution_count": 16,
   "id": "0c02fe84-c30b-479d-8c87-7c0a9a3aebb5",
   "metadata": {},
   "outputs": [],
   "source": [
    "table_row_diff = table_row_diff.round(2)"
   ]
  },
  {
   "cell_type": "code",
   "execution_count": 17,
   "id": "03eb1313-50ee-4e66-97bd-888359261087",
   "metadata": {
    "scrolled": true,
    "tags": []
   },
   "outputs": [],
   "source": [
    "styles = {\n",
    "    ('0°', 'mean'): [{'selector': '', 'props': [('background-color', 'rgba(30, 89, 134, 0.15)')]}],\n",
    "    ('0°', 'std'): [{'selector': '', 'props': [('background-color', 'rgba(30, 89, 134, 0.15)')]}],\n",
    "    ('45°', 'mean'): [{'selector': '', 'props': [('background-color', ' rgba(191, 143, 0, 0.15)')]}],\n",
    "    ('45°', 'std'): [{'selector': '', 'props': [('background-color', ' rgba(191, 143, 0, 0.15)')]}],\n",
    "    ('90°', 'mean'): [{'selector': '', 'props': [('background-color', 'rgba(184, 131, 212, 0.15)')]}],\n",
    "    ('90°', 'std'): [{'selector': '', 'props': [('background-color', 'rgba(196, 165, 222, 0.15)')]}]\n",
    "}\n",
    "\n",
    "styled_df = table_row_diff.style.set_table_styles(styles)\n",
    "\n",
    "# Applica stili agli indici\n",
    "styled_df = styled_df.set_properties(**{'background-color': 'rgba(200, 200, 200, 0.3)'})\n",
    "\n",
    "styled_df.set_properties(**{'text-align': 'center'})\n",
    "pd.set_option('colheader_justify', 'center')\n"
   ]
  },
  {
   "cell_type": "code",
   "execution_count": 18,
   "id": "36848009-c087-4b3e-9f2b-ff32adc97c7a",
   "metadata": {},
   "outputs": [
    {
     "data": {
      "text/html": [
       "<style type=\"text/css\">\n",
       "#T_9b4e0 .col0 {\n",
       "  background-color: rgba(30, 89, 134, 0.15);\n",
       "}\n",
       "#T_9b4e0 .col1 {\n",
       "  background-color: rgba(30, 89, 134, 0.15);\n",
       "}\n",
       "#T_9b4e0 .col2 {\n",
       "  background-color:  rgba(191, 143, 0, 0.15);\n",
       "}\n",
       "#T_9b4e0 .col3 {\n",
       "  background-color:  rgba(191, 143, 0, 0.15);\n",
       "}\n",
       "#T_9b4e0 .col4 {\n",
       "  background-color: rgba(184, 131, 212, 0.15);\n",
       "}\n",
       "#T_9b4e0 .col5 {\n",
       "  background-color: rgba(196, 165, 222, 0.15);\n",
       "}\n",
       "#T_9b4e0_row0_col0, #T_9b4e0_row0_col1, #T_9b4e0_row0_col2, #T_9b4e0_row0_col3, #T_9b4e0_row0_col4, #T_9b4e0_row0_col5, #T_9b4e0_row1_col0, #T_9b4e0_row1_col1, #T_9b4e0_row1_col2, #T_9b4e0_row1_col3, #T_9b4e0_row1_col4, #T_9b4e0_row1_col5, #T_9b4e0_row2_col0, #T_9b4e0_row2_col1, #T_9b4e0_row2_col2, #T_9b4e0_row2_col3, #T_9b4e0_row2_col4, #T_9b4e0_row2_col5, #T_9b4e0_row3_col0, #T_9b4e0_row3_col1, #T_9b4e0_row3_col2, #T_9b4e0_row3_col3, #T_9b4e0_row3_col4, #T_9b4e0_row3_col5, #T_9b4e0_row4_col0, #T_9b4e0_row4_col1, #T_9b4e0_row4_col2, #T_9b4e0_row4_col3, #T_9b4e0_row4_col4, #T_9b4e0_row4_col5 {\n",
       "  background-color: rgba(200, 200, 200, 0.3);\n",
       "  text-align: center;\n",
       "}\n",
       "</style>\n",
       "<table id=\"T_9b4e0\">\n",
       "  <thead>\n",
       "    <tr>\n",
       "      <th class=\"index_name level0\" >Orientation</th>\n",
       "      <th id=\"T_9b4e0_level0_col0\" class=\"col_heading level0 col0\" colspan=\"2\">0°</th>\n",
       "      <th id=\"T_9b4e0_level0_col2\" class=\"col_heading level0 col2\" colspan=\"2\">45°</th>\n",
       "      <th id=\"T_9b4e0_level0_col4\" class=\"col_heading level0 col4\" colspan=\"2\">90°</th>\n",
       "    </tr>\n",
       "    <tr>\n",
       "      <th class=\"index_name level1\" >Statistic [mV]</th>\n",
       "      <th id=\"T_9b4e0_level1_col0\" class=\"col_heading level1 col0\" >mean</th>\n",
       "      <th id=\"T_9b4e0_level1_col1\" class=\"col_heading level1 col1\" >std</th>\n",
       "      <th id=\"T_9b4e0_level1_col2\" class=\"col_heading level1 col2\" >mean</th>\n",
       "      <th id=\"T_9b4e0_level1_col3\" class=\"col_heading level1 col3\" >std</th>\n",
       "      <th id=\"T_9b4e0_level1_col4\" class=\"col_heading level1 col4\" >mean</th>\n",
       "      <th id=\"T_9b4e0_level1_col5\" class=\"col_heading level1 col5\" >std</th>\n",
       "    </tr>\n",
       "  </thead>\n",
       "  <tbody>\n",
       "    <tr>\n",
       "      <th id=\"T_9b4e0_level0_row0\" class=\"row_heading level0 row0\" >0% strain</th>\n",
       "      <td id=\"T_9b4e0_row0_col0\" class=\"data row0 col0\" >-53.71</td>\n",
       "      <td id=\"T_9b4e0_row0_col1\" class=\"data row0 col1\" >285.16</td>\n",
       "      <td id=\"T_9b4e0_row0_col2\" class=\"data row0 col2\" >-26.95</td>\n",
       "      <td id=\"T_9b4e0_row0_col3\" class=\"data row0 col3\" >109.58</td>\n",
       "      <td id=\"T_9b4e0_row0_col4\" class=\"data row0 col4\" >105.53</td>\n",
       "      <td id=\"T_9b4e0_row0_col5\" class=\"data row0 col5\" >116.97</td>\n",
       "    </tr>\n",
       "    <tr>\n",
       "      <th id=\"T_9b4e0_level0_row1\" class=\"row_heading level0 row1\" >25% strain</th>\n",
       "      <td id=\"T_9b4e0_row1_col0\" class=\"data row1 col0\" >-259.04</td>\n",
       "      <td id=\"T_9b4e0_row1_col1\" class=\"data row1 col1\" >393.85</td>\n",
       "      <td id=\"T_9b4e0_row1_col2\" class=\"data row1 col2\" >-44.24</td>\n",
       "      <td id=\"T_9b4e0_row1_col3\" class=\"data row1 col3\" >125.14</td>\n",
       "      <td id=\"T_9b4e0_row1_col4\" class=\"data row1 col4\" >1.76</td>\n",
       "      <td id=\"T_9b4e0_row1_col5\" class=\"data row1 col5\" >137.43</td>\n",
       "    </tr>\n",
       "    <tr>\n",
       "      <th id=\"T_9b4e0_level0_row2\" class=\"row_heading level0 row2\" >50% strain</th>\n",
       "      <td id=\"T_9b4e0_row2_col0\" class=\"data row2 col0\" >-790.77</td>\n",
       "      <td id=\"T_9b4e0_row2_col1\" class=\"data row2 col1\" >624.10</td>\n",
       "      <td id=\"T_9b4e0_row2_col2\" class=\"data row2 col2\" >8.25</td>\n",
       "      <td id=\"T_9b4e0_row2_col3\" class=\"data row2 col3\" >42.89</td>\n",
       "      <td id=\"T_9b4e0_row2_col4\" class=\"data row2 col4\" >-116.40</td>\n",
       "      <td id=\"T_9b4e0_row2_col5\" class=\"data row2 col5\" >52.33</td>\n",
       "    </tr>\n",
       "    <tr>\n",
       "      <th id=\"T_9b4e0_level0_row3\" class=\"row_heading level0 row3\" >75% strain</th>\n",
       "      <td id=\"T_9b4e0_row3_col0\" class=\"data row3 col0\" >-963.20</td>\n",
       "      <td id=\"T_9b4e0_row3_col1\" class=\"data row3 col1\" >1359.09</td>\n",
       "      <td id=\"T_9b4e0_row3_col2\" class=\"data row3 col2\" >574.11</td>\n",
       "      <td id=\"T_9b4e0_row3_col3\" class=\"data row3 col3\" >560.54</td>\n",
       "      <td id=\"T_9b4e0_row3_col4\" class=\"data row3 col4\" >59.03</td>\n",
       "      <td id=\"T_9b4e0_row3_col5\" class=\"data row3 col5\" >708.40</td>\n",
       "    </tr>\n",
       "    <tr>\n",
       "      <th id=\"T_9b4e0_level0_row4\" class=\"row_heading level0 row4\" >100% strain</th>\n",
       "      <td id=\"T_9b4e0_row4_col0\" class=\"data row4 col0\" >-1366.03</td>\n",
       "      <td id=\"T_9b4e0_row4_col1\" class=\"data row4 col1\" >544.83</td>\n",
       "      <td id=\"T_9b4e0_row4_col2\" class=\"data row4 col2\" >1099.65</td>\n",
       "      <td id=\"T_9b4e0_row4_col3\" class=\"data row4 col3\" >179.72</td>\n",
       "      <td id=\"T_9b4e0_row4_col4\" class=\"data row4 col4\" >451.09</td>\n",
       "      <td id=\"T_9b4e0_row4_col5\" class=\"data row4 col5\" >206.37</td>\n",
       "    </tr>\n",
       "  </tbody>\n",
       "</table>\n"
      ],
      "text/plain": [
       "<pandas.io.formats.style.Styler at 0x1629894b460>"
      ]
     },
     "execution_count": 18,
     "metadata": {},
     "output_type": "execute_result"
    }
   ],
   "source": [
    "styled_df = styled_df.format(\"{:.2f}\")\n",
    "styled_df"
   ]
  },
  {
   "cell_type": "code",
   "execution_count": 44,
   "id": "f8129db0-b1fb-4900-9fee-7ef951fc84f6",
   "metadata": {},
   "outputs": [],
   "source": [
    "import dataframe_image as dfi\n",
    "\n",
    "dfi.export(styled_df, r'C:\\Users\\Desi\\Desktop\\TesiStanford\\ImagesThesis\\df_styled.png')"
   ]
  },
  {
   "cell_type": "code",
   "execution_count": 45,
   "id": "c05aa94d-3215-4bb9-971a-e610af698549",
   "metadata": {},
   "outputs": [
    {
     "data": {
      "text/plain": [
       "{'1': array([ 3451.0821104 ,  4441.0652717 ,  8587.37881978, 13454.4801712 ,\n",
       "        28100.33671061]),\n",
       " '2': array([2065.99533558, 2505.04406293, 3463.89071147, 4719.72703934,\n",
       "        6813.06823095]),\n",
       " '3': array([ 3339.94166056,  4257.46862094,  5005.59322039,  8984.80272293,\n",
       "        19563.49102656]),\n",
       " '4': array([], dtype=float64)}"
      ]
     },
     "execution_count": 45,
     "metadata": {},
     "output_type": "execute_result"
    }
   ],
   "source": [
    "mean_L_r"
   ]
  },
  {
   "cell_type": "code",
   "execution_count": null,
   "id": "24454cc3-0b00-423c-8054-196f4ab11988",
   "metadata": {},
   "outputs": [],
   "source": [
    "utils.save_table_xlsx(table_row_diff, 'STrain_insensitivity', 'StretchTestAllRows')"
   ]
  },
  {
   "cell_type": "code",
   "execution_count": null,
   "id": "29e8f9be-f1ab-4fd4-975d-9375a5431a83",
   "metadata": {},
   "outputs": [],
   "source": [
    "# saving data for row2 in xlsx format\n",
    "data = [mean_L, [i[0]*1000 for i in std],mean_R, [i[1]*1000 for i in std],  np.abs(np.array(mean_R)-np.array(mean_L)), std_diff]\n",
    "#utils.save_table_xlsx(data, 'STrain_insensitivity', 'StretchTestAllRows')"
   ]
  },
  {
   "cell_type": "code",
   "execution_count": null,
   "id": "9a50abdb-ec4e-4186-8896-4d6a0f07fce8",
   "metadata": {},
   "outputs": [],
   "source": [
    "table = pd.DataFrame(data).transpose().rename(columns = {0: 'Mean_L [mV]', 1: 'std_L [mV]', 2: 'Mean_R [mV]', 3: 'std_R [mV]', 4: 'Diff |Vl-VR| [mV]', 5: 'std diff [mV]'})\n",
    "table"
   ]
  },
  {
   "cell_type": "code",
   "execution_count": null,
   "id": "381b1209-9b6e-47b6-a07f-870197584105",
   "metadata": {},
   "outputs": [],
   "source": [
    "# saving data in an excel file with more sheets\n",
    "writer = ExcelWriter(r\"C:\\Users\\Desi\\Desktop\\TesiStanford\\images-results\\StretchTestDifferentRows.xlsx\")\n",
    "for key in df_rows.keys():\n",
    "    df_rows[key].to_excel(writer, sheet_name=\"row #\" + str(key))\n",
    "writer.save()"
   ]
  },
  {
   "cell_type": "markdown",
   "id": "24a24b62-77b8-4bf1-8a18-e720a82e8270",
   "metadata": {},
   "source": [
    "## Poking experiment"
   ]
  },
  {
   "cell_type": "code",
   "execution_count": null,
   "id": "15b22973-301b-4b6d-9278-b6cbd6a7ca68",
   "metadata": {},
   "outputs": [],
   "source": [
    "os.chdir(r\"C:\\Users\\Desi\\Desktop\\TesiStanford\\data_to_analyze\\poke\")\n",
    "path =  os.getcwd()\n",
    "\n",
    "df_poke = {}\n",
    "strain = ['0','1','2']\n",
    "print(os.listdir(str(os.getcwd())))\n",
    "\n",
    "df_poke = [pd.read_excel(str(os.getcwd())+'\\\\'+excelfile, , logfile=open(os.devnull, 'w')) for excelfile in os.listdir(str(os.getcwd())) if excelfile.endswith('.xls')]"
   ]
  },
  {
   "cell_type": "code",
   "execution_count": null,
   "id": "eaf0376a-7b8f-442c-a626-046816f1e9b6",
   "metadata": {},
   "outputs": [],
   "source": [
    "max_values_r = {}\n",
    "mean_r = {}\n",
    "std_r = {}\n",
    "std_diff_r = {}\n",
    "\n",
    "max_values_r = [[i['DrainVLeft'].iloc[80],i['DrainVRight'].iloc[80]] for i in df_poke] \n",
    "#std_diff_r = [np.std(np.array([max_values_r[r][i][j][0] for j in range(len(max_values_r[r][i]))])-np.array([max_values_r[r][i][j][1] for j in range(len(max_values_r[r][i]))]))*1000 for i in range(len(strain))]"
   ]
  },
  {
   "cell_type": "code",
   "execution_count": null,
   "id": "ef7926d3-f71a-4348-ad77-56ef40f59999",
   "metadata": {},
   "outputs": [],
   "source": [
    "max_values = [max_values_r[2],max_values_r[0], max_values_r[1]]\n",
    "mean_L = np.array([i[0] for i in max_values])*1000- mean_L[0]\n",
    "mean_R = np.array([i[1] for i in max_values])*1000 - mean_R[0]\n",
    "\n",
    "fig, ax1 = plt.subplots(figsize=(10, 5))\n",
    "plt.scatter(strain,mean_L,label = 'Left')\n",
    "#plt.errorbar(strain,mean_L, yerr = [i[0]*1000 for i in std])\n",
    "plt.scatter(strain,mean_R,label = 'Right')\n",
    "#plt.errorbar(strain,mean_R, yerr = [i[1]*1000 for i in std])\n",
    "plt.scatter(strain,np.abs(np.array(mean_R)-np.array(mean_L)), label = 'Diff')\n",
    "#plt.errorbar(strain,np.array(mean_R)-np.array(mean_L), yerr = std_diff)\n",
    "plt.legend()\n",
    "plt.grid()\n",
    "plt.ylabel('DeltaV [V]')\n",
    "plt.xlabel('Poke')\n",
    "plt.title('Mean of values @ 1uA, different orientations, N = 10')"
   ]
  },
  {
   "cell_type": "code",
   "execution_count": null,
   "id": "2f0e0833-43c4-4c0e-973d-0a7cda06f06c",
   "metadata": {},
   "outputs": [],
   "source": [
    "df_poke[1].iloc[80]"
   ]
  }
 ],
 "metadata": {
  "kernelspec": {
   "display_name": "Python 3 (ipykernel)",
   "language": "python",
   "name": "python3"
  },
  "language_info": {
   "codemirror_mode": {
    "name": "ipython",
    "version": 3
   },
   "file_extension": ".py",
   "mimetype": "text/x-python",
   "name": "python",
   "nbconvert_exporter": "python",
   "pygments_lexer": "ipython3",
   "version": "3.9.13"
  }
 },
 "nbformat": 4,
 "nbformat_minor": 5
}
